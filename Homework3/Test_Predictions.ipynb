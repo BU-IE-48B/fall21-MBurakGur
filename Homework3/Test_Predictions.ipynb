{
 "cells": [
  {
   "cell_type": "markdown",
   "id": "3f096449-7367-4e70-b677-c0d5f3c2c4cc",
   "metadata": {},
   "source": [
    "# IE48B HW3\n",
    "## Muhammed Burak Gur\n",
    "### 2016403198"
   ]
  },
  {
   "cell_type": "markdown",
   "id": "bcf985df-d7bf-425d-9d64-b8114934faa1",
   "metadata": {
    "tags": []
   },
   "source": [
    "### Method:\n",
    "\n",
    "Started with choosing timeseries datasets whose training set at least 100 observations. \n",
    "\n",
    "#### Data Sets\n",
    "\n",
    "1. Plane \n",
    "2. Fish\n",
    "3. PowerCons\n",
    "4. ECG200\n",
    "5. Trace\n",
    "\n",
    "After chosing datasets; which representations, which distance measures and which k-nn classifier are used is given below. \n",
    "\n",
    "#### *Notes*:\n",
    "1. raw time series has no tuning parameter, so the number of combinations is reduced 60(intead 72).\n",
    "2. Fused lasso has also not any tuning parameter, Piecewise agregate approximation is added.\n",
    "\n",
    "\n",
    "**3 representations:**\n",
    "1. raw\n",
    "2. tree (max_depth=5, max_depth=7)\n",
    "3. fusedlasso\n",
    "4. PAA (segment_length = 5)\n",
    "\n",
    "**4 distance measures:**\n",
    "\n",
    "1. Euclidian\n",
    "2. Dynamic Time Warping\n",
    "3. Longest Common SubSequence\n",
    "4. Edit Distance on Real Sequences\n",
    "\n",
    "**3 k-nn classifier setting**\n",
    "\n",
    "1. k=1 \n",
    "2. k=3\n",
    "3. k=5\n",
    "\n",
    "2 tuning parameters of representations\n",
    "\n",
    "Besides, 10-fold crossvalidation with 5 repeats is must.\n",
    "\n",
    "In this notebook consists of test results for the best alternative option of all dataset.\n",
    "In addition to this notebook, i also provide 5 additional notebook which includes the results of all combination for all dataset.\n",
    "The results are readed in this test notebook to find best combination. The best combination is used to predict for each dataset's testset. \n",
    "\n"
   ]
  },
  {
   "cell_type": "code",
   "execution_count": 1,
   "id": "b23a253d-25a7-4e28-a9ea-06a7ed074869",
   "metadata": {
    "scrolled": true,
    "tags": []
   },
   "outputs": [
    {
     "name": "stderr",
     "output_type": "stream",
     "text": [
      "Loading required package: data.table\n",
      "\n",
      "Warning message:\n",
      "\"package 'data.table' was built under R version 4.0.5\"\n",
      "Loading required package: ggplot2\n",
      "\n",
      "Warning message:\n",
      "\"package 'ggplot2' was built under R version 4.0.5\"\n",
      "Loading required package: TSrepr\n",
      "\n",
      "Warning message:\n",
      "\"package 'TSrepr' was built under R version 4.0.5\"\n",
      "Loading required package: TSdist\n",
      "\n",
      "Warning message:\n",
      "\"package 'TSdist' was built under R version 4.0.5\"\n",
      "Loading required package: proxy\n",
      "\n",
      "Warning message:\n",
      "\"package 'proxy' was built under R version 4.0.5\"\n",
      "\n",
      "Attaching package: 'proxy'\n",
      "\n",
      "\n",
      "The following objects are masked from 'package:stats':\n",
      "\n",
      "    as.dist, dist\n",
      "\n",
      "\n",
      "The following object is masked from 'package:base':\n",
      "\n",
      "    as.matrix\n",
      "\n",
      "\n",
      "Registered S3 method overwritten by 'quantmod':\n",
      "  method            from\n",
      "  as.zoo.data.frame zoo \n",
      "\n",
      "Loaded TSdist v3.7. See ?TSdist for help, citation(\"TSdist\") for use in publication.\n",
      "\n",
      "\n",
      "Loading required package: dtw\n",
      "\n",
      "Warning message:\n",
      "\"package 'dtw' was built under R version 4.0.5\"\n",
      "Loaded dtw v1.22-3. See ?dtw for help, citation(\"dtw\") for use in publication.\n",
      "\n",
      "\n",
      "Loading required package: Rcpp\n",
      "\n",
      "Warning message:\n",
      "\"package 'Rcpp' was built under R version 4.0.5\"\n"
     ]
    }
   ],
   "source": [
    "require(data.table)\n",
    "require(ggplot2)\n",
    "require(TSrepr)\n",
    "require(TSdist)\n",
    "require(dtw)\n",
    "require(Rcpp)"
   ]
  },
  {
   "cell_type": "code",
   "execution_count": 86,
   "id": "a6044178-685f-4fb2-bf90-c47863789a33",
   "metadata": {},
   "outputs": [],
   "source": [
    "nn_classify_cv=function(dist_matrix,train_class,test_indices,k=1){\n",
    "    \n",
    "    test_distances_to_train=dist_matrix[test_indices,]\n",
    "    test_distances_to_train=test_distances_to_train[,-test_indices]\n",
    "    train_class=train_class[-test_indices]\n",
    "    #print(str(test_distances_to_train))\n",
    "    ordered_indices=apply(test_distances_to_train,1,order)\n",
    "    if(k==1){\n",
    "        nearest_class=as.numeric(testclass[as.numeric(ordered_indices[1,])])\n",
    "        nearest_class=data.table(id=test_indices,nearest_class)\n",
    "    } else {\n",
    "        nearest_class=apply(ordered_indices[1:k,],2,function(x) {testclass[x]})\n",
    "        nearest_class=data.table(id=test_indices,t(nearest_class))\n",
    "    }\n",
    "    \n",
    "    long_nn_class=melt(nearest_class,'id')\n",
    "\n",
    "    class_counts=long_nn_class[,.N,list(id,value)]\n",
    "    class_counts[,predicted_prob:=N/k]\n",
    "    wide_class_prob_predictions=dcast(class_counts,id~value,value.var='predicted_prob')\n",
    "    wide_class_prob_predictions[is.na(wide_class_prob_predictions)]=0\n",
    "    class_predictions=class_counts[,list(predicted=value[which.max(N)]),by=list(id)]\n",
    "    \n",
    "    \n",
    "    return(list(prediction=class_predictions,prob_estimates=wide_class_prob_predictions))\n",
    "    \n",
    "}"
   ]
  },
  {
   "cell_type": "markdown",
   "id": "a45ca790-75fc-4993-8f9f-d5dacae8d3ba",
   "metadata": {
    "tags": []
   },
   "source": [
    "## Power Cons"
   ]
  },
  {
   "cell_type": "code",
   "execution_count": 94,
   "id": "0cee3b34-b189-43d0-9203-5e072633f872",
   "metadata": {},
   "outputs": [
    {
     "data": {
      "text/html": [
       "'C:/Users/brkmb/Desktop/kitaplar/IE48B/HW3/overall_summary'"
      ],
      "text/latex": [
       "'C:/Users/brkmb/Desktop/kitaplar/IE48B/HW3/overall\\_summary'"
      ],
      "text/markdown": [
       "'C:/Users/brkmb/Desktop/kitaplar/IE48B/HW3/overall_summary'"
      ],
      "text/plain": [
       "[1] \"C:/Users/brkmb/Desktop/kitaplar/IE48B/HW3/overall_summary\""
      ]
     },
     "metadata": {},
     "output_type": "display_data"
    }
   ],
   "source": [
    "current_folder=getwd()\n",
    "result_path <- sprintf('%s/overall_summary',current_folder)\n",
    "result_path\n",
    "summary_files <- list.files(result_path)"
   ]
  },
  {
   "cell_type": "code",
   "execution_count": 95,
   "id": "5167b293-2a27-422b-a59d-967dcba23ee4",
   "metadata": {},
   "outputs": [
    {
     "data": {
      "text/html": [
       "<table class=\"dataframe\">\n",
       "<caption>A data.table: 6 × 5</caption>\n",
       "<thead>\n",
       "\t<tr><th scope=col>approach</th><th scope=col>k</th><th scope=col>avg_acc</th><th scope=col>sdev_acc</th><th scope=col>result_count</th></tr>\n",
       "\t<tr><th scope=col>&lt;chr&gt;</th><th scope=col>&lt;int&gt;</th><th scope=col>&lt;dbl&gt;</th><th scope=col>&lt;dbl&gt;</th><th scope=col>&lt;int&gt;</th></tr>\n",
       "</thead>\n",
       "<tbody>\n",
       "\t<tr><td>PowerCons_dtw_raw_dist.csv      </td><td>1</td><td>0.6800000</td><td>0.10442466</td><td>50</td></tr>\n",
       "\t<tr><td>PowerCons_dtw_raw_dist.csv      </td><td>3</td><td>0.7044444</td><td>0.11304441</td><td>50</td></tr>\n",
       "\t<tr><td>PowerCons_dtw_raw_dist.csv      </td><td>5</td><td>0.7033333</td><td>0.09759646</td><td>50</td></tr>\n",
       "\t<tr><td>PowerCons_dtw_raw_lasso_dist.csv</td><td>1</td><td>0.4800000</td><td>0.09441443</td><td>50</td></tr>\n",
       "\t<tr><td>PowerCons_dtw_raw_lasso_dist.csv</td><td>3</td><td>0.5288889</td><td>0.09864284</td><td>50</td></tr>\n",
       "\t<tr><td>PowerCons_dtw_raw_lasso_dist.csv</td><td>5</td><td>0.5200000</td><td>0.08891723</td><td>50</td></tr>\n",
       "</tbody>\n",
       "</table>\n"
      ],
      "text/latex": [
       "A data.table: 6 × 5\n",
       "\\begin{tabular}{lllll}\n",
       " approach & k & avg\\_acc & sdev\\_acc & result\\_count\\\\\n",
       " <chr> & <int> & <dbl> & <dbl> & <int>\\\\\n",
       "\\hline\n",
       "\t PowerCons\\_dtw\\_raw\\_dist.csv       & 1 & 0.6800000 & 0.10442466 & 50\\\\\n",
       "\t PowerCons\\_dtw\\_raw\\_dist.csv       & 3 & 0.7044444 & 0.11304441 & 50\\\\\n",
       "\t PowerCons\\_dtw\\_raw\\_dist.csv       & 5 & 0.7033333 & 0.09759646 & 50\\\\\n",
       "\t PowerCons\\_dtw\\_raw\\_lasso\\_dist.csv & 1 & 0.4800000 & 0.09441443 & 50\\\\\n",
       "\t PowerCons\\_dtw\\_raw\\_lasso\\_dist.csv & 3 & 0.5288889 & 0.09864284 & 50\\\\\n",
       "\t PowerCons\\_dtw\\_raw\\_lasso\\_dist.csv & 5 & 0.5200000 & 0.08891723 & 50\\\\\n",
       "\\end{tabular}\n"
      ],
      "text/markdown": [
       "\n",
       "A data.table: 6 × 5\n",
       "\n",
       "| approach &lt;chr&gt; | k &lt;int&gt; | avg_acc &lt;dbl&gt; | sdev_acc &lt;dbl&gt; | result_count &lt;int&gt; |\n",
       "|---|---|---|---|---|\n",
       "| PowerCons_dtw_raw_dist.csv       | 1 | 0.6800000 | 0.10442466 | 50 |\n",
       "| PowerCons_dtw_raw_dist.csv       | 3 | 0.7044444 | 0.11304441 | 50 |\n",
       "| PowerCons_dtw_raw_dist.csv       | 5 | 0.7033333 | 0.09759646 | 50 |\n",
       "| PowerCons_dtw_raw_lasso_dist.csv | 1 | 0.4800000 | 0.09441443 | 50 |\n",
       "| PowerCons_dtw_raw_lasso_dist.csv | 3 | 0.5288889 | 0.09864284 | 50 |\n",
       "| PowerCons_dtw_raw_lasso_dist.csv | 5 | 0.5200000 | 0.08891723 | 50 |\n",
       "\n"
      ],
      "text/plain": [
       "  approach                         k avg_acc   sdev_acc   result_count\n",
       "1 PowerCons_dtw_raw_dist.csv       1 0.6800000 0.10442466 50          \n",
       "2 PowerCons_dtw_raw_dist.csv       3 0.7044444 0.11304441 50          \n",
       "3 PowerCons_dtw_raw_dist.csv       5 0.7033333 0.09759646 50          \n",
       "4 PowerCons_dtw_raw_lasso_dist.csv 1 0.4800000 0.09441443 50          \n",
       "5 PowerCons_dtw_raw_lasso_dist.csv 3 0.5288889 0.09864284 50          \n",
       "6 PowerCons_dtw_raw_lasso_dist.csv 5 0.5200000 0.08891723 50          "
      ]
     },
     "metadata": {},
     "output_type": "display_data"
    }
   ],
   "source": [
    "result_file <- fread(sprintf('%s/overall_summary/%s',current_folder,summary_files[4]))\n",
    "head(result_file)"
   ]
  },
  {
   "cell_type": "code",
   "execution_count": 96,
   "id": "3ba18174-188a-4f22-8caa-ffd5b68f23a3",
   "metadata": {},
   "outputs": [
    {
     "data": {
      "text/html": [
       "<table class=\"dataframe\">\n",
       "<caption>A data.table: 1 × 5</caption>\n",
       "<thead>\n",
       "\t<tr><th scope=col>approach</th><th scope=col>k</th><th scope=col>avg_acc</th><th scope=col>sdev_acc</th><th scope=col>result_count</th></tr>\n",
       "\t<tr><th scope=col>&lt;chr&gt;</th><th scope=col>&lt;int&gt;</th><th scope=col>&lt;dbl&gt;</th><th scope=col>&lt;dbl&gt;</th><th scope=col>&lt;int&gt;</th></tr>\n",
       "</thead>\n",
       "<tbody>\n",
       "\t<tr><td>PowerCons_euc_raw_dist.csv</td><td>5</td><td>0.8055556</td><td>0.1078022</td><td>50</td></tr>\n",
       "</tbody>\n",
       "</table>\n"
      ],
      "text/latex": [
       "A data.table: 1 × 5\n",
       "\\begin{tabular}{lllll}\n",
       " approach & k & avg\\_acc & sdev\\_acc & result\\_count\\\\\n",
       " <chr> & <int> & <dbl> & <dbl> & <int>\\\\\n",
       "\\hline\n",
       "\t PowerCons\\_euc\\_raw\\_dist.csv & 5 & 0.8055556 & 0.1078022 & 50\\\\\n",
       "\\end{tabular}\n"
      ],
      "text/markdown": [
       "\n",
       "A data.table: 1 × 5\n",
       "\n",
       "| approach &lt;chr&gt; | k &lt;int&gt; | avg_acc &lt;dbl&gt; | sdev_acc &lt;dbl&gt; | result_count &lt;int&gt; |\n",
       "|---|---|---|---|---|\n",
       "| PowerCons_euc_raw_dist.csv | 5 | 0.8055556 | 0.1078022 | 50 |\n",
       "\n"
      ],
      "text/plain": [
       "  approach                   k avg_acc   sdev_acc  result_count\n",
       "1 PowerCons_euc_raw_dist.csv 5 0.8055556 0.1078022 50          "
      ]
     },
     "metadata": {},
     "output_type": "display_data"
    }
   ],
   "source": [
    "result_file[which.max(result_file$avg_acc)]"
   ]
  },
  {
   "cell_type": "code",
   "execution_count": 97,
   "id": "40b9ef80-1b04-4e78-b32e-a1543b9e5cce",
   "metadata": {
    "tags": []
   },
   "outputs": [],
   "source": [
    "# assuming you have the data folder in your working directory in the following format:\n",
    "# 'working_directory/ClassificationData/dataset_name/'\n",
    "current_folder=getwd()\n",
    "dataset='PowerCons'\n",
    "main_path=sprintf('%s/ClassificationData/%s/%s',current_folder,dataset,dataset)\n",
    "\n",
    "dist_path=sprintf('%s/ClassificationData/%s/distances/%s',current_folder,dataset,dataset)\n",
    "\n",
    "train_data_path=sprintf('%s_TRAIN.txt',main_path)\n",
    "traindata=as.matrix(fread(train_data_path))\n",
    "traindata_rep = fread(train_data_path) ## for representations, class data needs to be hold.\n",
    "\n",
    "test_data_path=sprintf('%s_TEST.txt',main_path)\n",
    "testdata=as.matrix(fread(test_data_path))\n",
    "testdata_rep = fread(test_data_path)\n",
    "#first column is the class variable\n",
    "trainclass=traindata[,1] # takes -1 and 1\n",
    "testclass=testdata[,1] # takes -1 and 1\n",
    "\n",
    "#drop first column\n",
    "traindata=traindata[,2:ncol(traindata)]\n",
    "testdata=testdata[,2:ncol(testdata)]\n",
    "\n",
    "# instance characteristics\n",
    "tlength=ncol(traindata)\n",
    "n_series_train=nrow(traindata)\n",
    "n_series_test=nrow(testdata)"
   ]
  },
  {
   "cell_type": "code",
   "execution_count": 98,
   "id": "baaaee28-9d18-46f5-a080-eb503903f131",
   "metadata": {},
   "outputs": [
    {
     "data": {
      "text/html": [
       "<table class=\"dataframe\">\n",
       "<caption>A matrix: 6 × 180 of type dbl</caption>\n",
       "<thead>\n",
       "\t<tr><th></th><th scope=col>1</th><th scope=col>2</th><th scope=col>3</th><th scope=col>4</th><th scope=col>5</th><th scope=col>6</th><th scope=col>7</th><th scope=col>8</th><th scope=col>9</th><th scope=col>10</th><th scope=col>...</th><th scope=col>171</th><th scope=col>172</th><th scope=col>173</th><th scope=col>174</th><th scope=col>175</th><th scope=col>176</th><th scope=col>177</th><th scope=col>178</th><th scope=col>179</th><th scope=col>180</th></tr>\n",
       "</thead>\n",
       "<tbody>\n",
       "\t<tr><th scope=row>1</th><td>10000.00000</td><td>   12.602579</td><td>   12.222774</td><td>   13.248400</td><td>   13.615873</td><td>   16.71695</td><td>14.644688</td><td>16.194326</td><td>16.934902</td><td>15.596282</td><td>...</td><td>18.19275</td><td>20.75004</td><td>20.64529</td><td>15.76431</td><td>18.85436</td><td>22.89062</td><td>21.48077</td><td>26.26043</td><td>22.74638</td><td>22.97886</td></tr>\n",
       "\t<tr><th scope=row>2</th><td>   12.60258</td><td>10000.000000</td><td>    8.727004</td><td>    5.632184</td><td>   11.239849</td><td>   17.20037</td><td> 9.480522</td><td>11.269880</td><td>12.439272</td><td>11.512532</td><td>...</td><td>13.06302</td><td>20.62899</td><td>22.09126</td><td>15.01097</td><td>18.95199</td><td>20.13869</td><td>18.49111</td><td>25.10112</td><td>24.18594</td><td>24.35061</td></tr>\n",
       "\t<tr><th scope=row>3</th><td>   12.22277</td><td>    8.727004</td><td>10000.000000</td><td>    7.363226</td><td>    9.174715</td><td>   13.56591</td><td>10.076244</td><td> 9.600708</td><td> 9.450349</td><td> 8.591403</td><td>...</td><td>10.43739</td><td>15.23881</td><td>18.27731</td><td>11.08157</td><td>14.68532</td><td>15.97152</td><td>14.32664</td><td>20.34550</td><td>19.71487</td><td>19.79172</td></tr>\n",
       "\t<tr><th scope=row>4</th><td>   13.24840</td><td>    5.632184</td><td>    7.363226</td><td>10000.000000</td><td>    9.171210</td><td>   15.40824</td><td> 7.849955</td><td> 8.710620</td><td> 8.806021</td><td> 8.885826</td><td>...</td><td>11.66464</td><td>18.20504</td><td>21.42165</td><td>12.97808</td><td>16.52674</td><td>18.01430</td><td>14.68868</td><td>23.07513</td><td>21.94212</td><td>22.66183</td></tr>\n",
       "\t<tr><th scope=row>5</th><td>   13.61587</td><td>   11.239849</td><td>    9.174715</td><td>    9.171210</td><td>10000.000000</td><td>   13.15536</td><td> 7.959617</td><td> 9.061953</td><td>10.698986</td><td> 9.271214</td><td>...</td><td>12.86526</td><td>17.83980</td><td>21.76029</td><td>14.13778</td><td>15.57255</td><td>17.82080</td><td>13.88937</td><td>22.28154</td><td>21.72317</td><td>22.73815</td></tr>\n",
       "\t<tr><th scope=row>6</th><td>   16.71695</td><td>   17.200372</td><td>   13.565906</td><td>   15.408241</td><td>   13.155364</td><td>10000.00000</td><td>14.502927</td><td>11.482500</td><td>16.426354</td><td>11.994766</td><td>...</td><td>16.94492</td><td>18.94307</td><td>23.27470</td><td>14.13037</td><td>17.17638</td><td>17.36839</td><td>17.68232</td><td>22.58707</td><td>21.56828</td><td>21.52150</td></tr>\n",
       "</tbody>\n",
       "</table>\n"
      ],
      "text/latex": [
       "A matrix: 6 × 180 of type dbl\n",
       "\\begin{tabular}{r|lllllllllllllllllllll}\n",
       "  & 1 & 2 & 3 & 4 & 5 & 6 & 7 & 8 & 9 & 10 & ... & 171 & 172 & 173 & 174 & 175 & 176 & 177 & 178 & 179 & 180\\\\\n",
       "\\hline\n",
       "\t1 & 10000.00000 &    12.602579 &    12.222774 &    13.248400 &    13.615873 &    16.71695 & 14.644688 & 16.194326 & 16.934902 & 15.596282 & ... & 18.19275 & 20.75004 & 20.64529 & 15.76431 & 18.85436 & 22.89062 & 21.48077 & 26.26043 & 22.74638 & 22.97886\\\\\n",
       "\t2 &    12.60258 & 10000.000000 &     8.727004 &     5.632184 &    11.239849 &    17.20037 &  9.480522 & 11.269880 & 12.439272 & 11.512532 & ... & 13.06302 & 20.62899 & 22.09126 & 15.01097 & 18.95199 & 20.13869 & 18.49111 & 25.10112 & 24.18594 & 24.35061\\\\\n",
       "\t3 &    12.22277 &     8.727004 & 10000.000000 &     7.363226 &     9.174715 &    13.56591 & 10.076244 &  9.600708 &  9.450349 &  8.591403 & ... & 10.43739 & 15.23881 & 18.27731 & 11.08157 & 14.68532 & 15.97152 & 14.32664 & 20.34550 & 19.71487 & 19.79172\\\\\n",
       "\t4 &    13.24840 &     5.632184 &     7.363226 & 10000.000000 &     9.171210 &    15.40824 &  7.849955 &  8.710620 &  8.806021 &  8.885826 & ... & 11.66464 & 18.20504 & 21.42165 & 12.97808 & 16.52674 & 18.01430 & 14.68868 & 23.07513 & 21.94212 & 22.66183\\\\\n",
       "\t5 &    13.61587 &    11.239849 &     9.174715 &     9.171210 & 10000.000000 &    13.15536 &  7.959617 &  9.061953 & 10.698986 &  9.271214 & ... & 12.86526 & 17.83980 & 21.76029 & 14.13778 & 15.57255 & 17.82080 & 13.88937 & 22.28154 & 21.72317 & 22.73815\\\\\n",
       "\t6 &    16.71695 &    17.200372 &    13.565906 &    15.408241 &    13.155364 & 10000.00000 & 14.502927 & 11.482500 & 16.426354 & 11.994766 & ... & 16.94492 & 18.94307 & 23.27470 & 14.13037 & 17.17638 & 17.36839 & 17.68232 & 22.58707 & 21.56828 & 21.52150\\\\\n",
       "\\end{tabular}\n"
      ],
      "text/markdown": [
       "\n",
       "A matrix: 6 × 180 of type dbl\n",
       "\n",
       "| <!--/--> | 1 | 2 | 3 | 4 | 5 | 6 | 7 | 8 | 9 | 10 | ... | 171 | 172 | 173 | 174 | 175 | 176 | 177 | 178 | 179 | 180 |\n",
       "|---|---|---|---|---|---|---|---|---|---|---|---|---|---|---|---|---|---|---|---|---|---|\n",
       "| 1 | 10000.00000 |    12.602579 |    12.222774 |    13.248400 |    13.615873 |    16.71695 | 14.644688 | 16.194326 | 16.934902 | 15.596282 | ... | 18.19275 | 20.75004 | 20.64529 | 15.76431 | 18.85436 | 22.89062 | 21.48077 | 26.26043 | 22.74638 | 22.97886 |\n",
       "| 2 |    12.60258 | 10000.000000 |     8.727004 |     5.632184 |    11.239849 |    17.20037 |  9.480522 | 11.269880 | 12.439272 | 11.512532 | ... | 13.06302 | 20.62899 | 22.09126 | 15.01097 | 18.95199 | 20.13869 | 18.49111 | 25.10112 | 24.18594 | 24.35061 |\n",
       "| 3 |    12.22277 |     8.727004 | 10000.000000 |     7.363226 |     9.174715 |    13.56591 | 10.076244 |  9.600708 |  9.450349 |  8.591403 | ... | 10.43739 | 15.23881 | 18.27731 | 11.08157 | 14.68532 | 15.97152 | 14.32664 | 20.34550 | 19.71487 | 19.79172 |\n",
       "| 4 |    13.24840 |     5.632184 |     7.363226 | 10000.000000 |     9.171210 |    15.40824 |  7.849955 |  8.710620 |  8.806021 |  8.885826 | ... | 11.66464 | 18.20504 | 21.42165 | 12.97808 | 16.52674 | 18.01430 | 14.68868 | 23.07513 | 21.94212 | 22.66183 |\n",
       "| 5 |    13.61587 |    11.239849 |     9.174715 |     9.171210 | 10000.000000 |    13.15536 |  7.959617 |  9.061953 | 10.698986 |  9.271214 | ... | 12.86526 | 17.83980 | 21.76029 | 14.13778 | 15.57255 | 17.82080 | 13.88937 | 22.28154 | 21.72317 | 22.73815 |\n",
       "| 6 |    16.71695 |    17.200372 |    13.565906 |    15.408241 |    13.155364 | 10000.00000 | 14.502927 | 11.482500 | 16.426354 | 11.994766 | ... | 16.94492 | 18.94307 | 23.27470 | 14.13037 | 17.17638 | 17.36839 | 17.68232 | 22.58707 | 21.56828 | 21.52150 |\n",
       "\n"
      ],
      "text/plain": [
       "  1           2            3            4            5            6          \n",
       "1 10000.00000    12.602579    12.222774    13.248400    13.615873    16.71695\n",
       "2    12.60258 10000.000000     8.727004     5.632184    11.239849    17.20037\n",
       "3    12.22277     8.727004 10000.000000     7.363226     9.174715    13.56591\n",
       "4    13.24840     5.632184     7.363226 10000.000000     9.171210    15.40824\n",
       "5    13.61587    11.239849     9.174715     9.171210 10000.000000    13.15536\n",
       "6    16.71695    17.200372    13.565906    15.408241    13.155364 10000.00000\n",
       "  7         8         9         10        ... 171      172      173     \n",
       "1 14.644688 16.194326 16.934902 15.596282 ... 18.19275 20.75004 20.64529\n",
       "2  9.480522 11.269880 12.439272 11.512532 ... 13.06302 20.62899 22.09126\n",
       "3 10.076244  9.600708  9.450349  8.591403 ... 10.43739 15.23881 18.27731\n",
       "4  7.849955  8.710620  8.806021  8.885826 ... 11.66464 18.20504 21.42165\n",
       "5  7.959617  9.061953 10.698986  9.271214 ... 12.86526 17.83980 21.76029\n",
       "6 14.502927 11.482500 16.426354 11.994766 ... 16.94492 18.94307 23.27470\n",
       "  174      175      176      177      178      179      180     \n",
       "1 15.76431 18.85436 22.89062 21.48077 26.26043 22.74638 22.97886\n",
       "2 15.01097 18.95199 20.13869 18.49111 25.10112 24.18594 24.35061\n",
       "3 11.08157 14.68532 15.97152 14.32664 20.34550 19.71487 19.79172\n",
       "4 12.97808 16.52674 18.01430 14.68868 23.07513 21.94212 22.66183\n",
       "5 14.13778 15.57255 17.82080 13.88937 22.28154 21.72317 22.73815\n",
       "6 14.13037 17.17638 17.36839 17.68232 22.58707 21.56828 21.52150"
      ]
     },
     "metadata": {},
     "output_type": "display_data"
    }
   ],
   "source": [
    "# raw + euclidian\n",
    "large_number = 10000\n",
    "dist_euc=as.matrix(dist(testdata))\n",
    "diag(dist_euc)=large_number\n",
    "head(dist_euc)"
   ]
  },
  {
   "cell_type": "code",
   "execution_count": 102,
   "id": "5e4bb7a0-4241-470c-8bdf-388eac5a1436",
   "metadata": {
    "scrolled": true,
    "tags": []
   },
   "outputs": [
    {
     "name": "stdout",
     "output_type": "stream",
     "text": [
      "List of 5\n",
      " $ Run  1:List of 10\n",
      "  ..$ Fold  1 : int [1:18] 1 70 21 136 71 73 24 141 75 96 ...\n",
      "  ..$ Fold  2 : int [1:18] 10 25 85 4 122 149 125 23 26 115 ...\n",
      "  ..$ Fold  3 : int [1:18] 128 11 143 65 15 28 63 131 146 169 ...\n",
      "  ..$ Fold  4 : int [1:18] 74 138 88 129 89 135 86 5 139 99 ...\n",
      "  ..$ Fold  5 : int [1:18] 130 140 20 8 148 6 145 150 127 33 ...\n",
      "  ..$ Fold  6 : int [1:18] 134 12 83 82 76 17 2 14 13 103 ...\n",
      "  ..$ Fold  7 : int [1:18] 78 147 121 133 22 3 81 19 62 59 ...\n",
      "  ..$ Fold  8 : int [1:18] 79 67 123 77 61 132 126 9 137 91 ...\n",
      "  ..$ Fold  9 : int [1:18] 30 7 16 90 27 72 144 69 29 154 ...\n",
      "  ..$ Fold  10: int [1:18] 64 87 80 142 18 68 84 66 124 47 ...\n",
      " $ Run  2:List of 10\n",
      "  ..$ Fold  1 : int [1:18] 5 148 144 18 133 142 76 124 67 53 ...\n",
      "  ..$ Fold  2 : int [1:18] 69 75 65 21 137 10 7 70 127 169 ...\n",
      "  ..$ Fold  3 : int [1:18] 135 138 90 25 24 68 28 83 1 151 ...\n",
      "  ..$ Fold  4 : int [1:18] 147 2 19 149 150 123 63 3 23 111 ...\n",
      "  ..$ Fold  5 : int [1:18] 132 88 121 29 122 79 134 22 143 95 ...\n",
      "  ..$ Fold  6 : int [1:18] 125 71 4 72 6 15 62 145 8 163 ...\n",
      "  ..$ Fold  7 : int [1:18] 61 89 126 81 130 64 20 73 85 174 ...\n",
      "  ..$ Fold  8 : int [1:18] 17 12 146 16 14 86 129 82 9 117 ...\n",
      "  ..$ Fold  9 : int [1:18] 78 128 140 139 26 84 13 27 11 154 ...\n",
      "  ..$ Fold  10: int [1:18] 30 66 77 74 141 80 87 131 136 36 ...\n",
      " $ Run  3:List of 10\n",
      "  ..$ Fold  1 : int [1:18] 144 129 71 75 3 140 134 124 62 178 ...\n",
      "  ..$ Fold  2 : int [1:18] 128 11 142 81 64 122 20 1 132 166 ...\n",
      "  ..$ Fold  3 : int [1:18] 85 61 126 76 13 10 138 28 147 103 ...\n",
      "  ..$ Fold  4 : int [1:18] 8 67 139 74 30 22 5 69 148 155 ...\n",
      "  ..$ Fold  5 : int [1:18] 14 88 73 84 82 125 16 9 146 114 ...\n",
      "  ..$ Fold  6 : int [1:18] 66 26 63 137 90 70 6 79 143 56 ...\n",
      "  ..$ Fold  7 : int [1:18] 29 4 127 150 18 80 23 17 87 47 ...\n",
      "  ..$ Fold  8 : int [1:18] 131 89 65 72 121 15 130 141 133 115 ...\n",
      "  ..$ Fold  9 : int [1:18] 25 68 135 19 83 24 123 27 78 45 ...\n",
      "  ..$ Fold  10: int [1:18] 12 21 86 149 2 136 7 145 77 35 ...\n",
      " $ Run  4:List of 10\n",
      "  ..$ Fold  1 : int [1:18] 147 138 132 86 77 90 7 87 80 32 ...\n",
      "  ..$ Fold  2 : int [1:18] 124 75 14 19 82 78 144 61 143 169 ...\n",
      "  ..$ Fold  3 : int [1:18] 76 12 79 21 24 145 73 135 8 174 ...\n",
      "  ..$ Fold  4 : int [1:18] 141 89 123 20 85 136 68 26 67 180 ...\n",
      "  ..$ Fold  5 : int [1:18] 121 146 130 126 72 25 149 65 140 92 ...\n",
      "  ..$ Fold  6 : int [1:18] 3 83 69 4 1 125 10 17 23 170 ...\n",
      "  ..$ Fold  7 : int [1:18] 6 88 28 139 16 70 74 122 13 116 ...\n",
      "  ..$ Fold  8 : int [1:18] 71 15 131 64 27 30 63 84 18 167 ...\n",
      "  ..$ Fold  9 : int [1:18] 29 62 128 129 66 2 127 5 137 49 ...\n",
      "  ..$ Fold  10: int [1:18] 22 81 134 11 142 133 148 150 9 110 ...\n",
      " $ Run  5:List of 10\n",
      "  ..$ Fold  1 : int [1:18] 138 144 69 122 73 86 63 2 145 43 ...\n",
      "  ..$ Fold  2 : int [1:18] 17 131 66 22 9 80 28 4 148 95 ...\n",
      "  ..$ Fold  3 : int [1:18] 61 19 135 129 76 75 64 82 130 111 ...\n",
      "  ..$ Fold  4 : int [1:18] 11 67 84 140 143 74 77 15 87 153 ...\n",
      "  ..$ Fold  5 : int [1:18] 150 126 20 78 85 29 123 21 81 38 ...\n",
      "  ..$ Fold  6 : int [1:18] 1 149 24 136 25 3 139 124 26 48 ...\n",
      "  ..$ Fold  7 : int [1:18] 141 14 12 79 10 125 65 121 30 119 ...\n",
      "  ..$ Fold  8 : int [1:18] 16 7 147 137 128 68 6 133 134 39 ...\n",
      "  ..$ Fold  9 : int [1:18] 132 71 62 5 83 72 88 23 142 98 ...\n",
      "  ..$ Fold  10: int [1:18] 8 146 13 127 18 27 89 70 90 162 ...\n"
     ]
    }
   ],
   "source": [
    "# cv indices start here\n",
    "require(TunePareto)\n",
    "\n",
    "set.seed(15011998)\n",
    "nof_rep=5\n",
    "n_fold=10\n",
    "cv_indices=generateCVRuns(testclass, ntimes =nof_rep, nfold = n_fold, \n",
    "                          leaveOneOut = FALSE, stratified = TRUE)\n",
    "\n",
    "str(cv_indices)\n"
   ]
  },
  {
   "cell_type": "code",
   "execution_count": 103,
   "id": "90fd4bac-8e59-4081-ac4c-507c2468d855",
   "metadata": {},
   "outputs": [],
   "source": [
    "k_levels=c(5)\n",
    "result=vector('list',1*nof_rep*n_fold*length(k_levels))\n",
    "iter=1\n",
    "dist_mat=as.matrix(dist_euc)\n",
    "    for(i in 1:nof_rep){\n",
    "        this_fold=cv_indices[[i]]\n",
    "        for(j in 1:n_fold){\n",
    "            test_indices=this_fold[[j]]\n",
    "            for(k in 1:length(k_levels)){\n",
    "                current_k=k_levels[k]\n",
    "                current_fold=nn_classify_cv(dist_mat,testclass,test_indices,k=current_k)\n",
    "                accuracy=sum(testclass[test_indices]==current_fold$prediction$predicted)/length(test_indices)\n",
    "                tmp=data.table(approach='PowerCons_euc_raw_dist',repid=i,foldid=j,\n",
    "                               k=current_k,acc=accuracy)\n",
    "                result[[iter]]=tmp\n",
    "                iter=iter+1\n",
    "                \n",
    "            }\n",
    "            \n",
    "        }\n",
    "    \n",
    "    }   \n",
    "    \n"
   ]
  },
  {
   "cell_type": "code",
   "execution_count": 104,
   "id": "b2b75383-343d-47b2-990d-1ddbbde3dce0",
   "metadata": {},
   "outputs": [
    {
     "data": {
      "text/html": [
       "<table class=\"dataframe\">\n",
       "<caption>A data.table: 1 × 5</caption>\n",
       "<thead>\n",
       "\t<tr><th scope=col>approach</th><th scope=col>k</th><th scope=col>avg_acc</th><th scope=col>sdev_acc</th><th scope=col>result_count</th></tr>\n",
       "\t<tr><th scope=col>&lt;chr&gt;</th><th scope=col>&lt;dbl&gt;</th><th scope=col>&lt;dbl&gt;</th><th scope=col>&lt;dbl&gt;</th><th scope=col>&lt;int&gt;</th></tr>\n",
       "</thead>\n",
       "<tbody>\n",
       "\t<tr><td>PowerCons_euc_raw_dist</td><td>5</td><td>0.8533333</td><td>0.08381193</td><td>50</td></tr>\n",
       "</tbody>\n",
       "</table>\n"
      ],
      "text/latex": [
       "A data.table: 1 × 5\n",
       "\\begin{tabular}{lllll}\n",
       " approach & k & avg\\_acc & sdev\\_acc & result\\_count\\\\\n",
       " <chr> & <dbl> & <dbl> & <dbl> & <int>\\\\\n",
       "\\hline\n",
       "\t PowerCons\\_euc\\_raw\\_dist & 5 & 0.8533333 & 0.08381193 & 50\\\\\n",
       "\\end{tabular}\n"
      ],
      "text/markdown": [
       "\n",
       "A data.table: 1 × 5\n",
       "\n",
       "| approach &lt;chr&gt; | k &lt;dbl&gt; | avg_acc &lt;dbl&gt; | sdev_acc &lt;dbl&gt; | result_count &lt;int&gt; |\n",
       "|---|---|---|---|---|\n",
       "| PowerCons_euc_raw_dist | 5 | 0.8533333 | 0.08381193 | 50 |\n",
       "\n"
      ],
      "text/plain": [
       "  approach               k avg_acc   sdev_acc   result_count\n",
       "1 PowerCons_euc_raw_dist 5 0.8533333 0.08381193 50          "
      ]
     },
     "metadata": {},
     "output_type": "display_data"
    }
   ],
   "source": [
    "overall_results=rbindlist(result)\n",
    "overall_results[,list(avg_acc=mean(acc),sdev_acc=sd(acc),result_count=.N),by=list(approach,k)]\n",
    "\n",
    "powercon_test <- overall_results[,list(avg_acc=mean(acc),sdev_acc=sd(acc),result_count=.N),by=list(approach,k)]\n"
   ]
  },
  {
   "cell_type": "markdown",
   "id": "214cee67-8330-43b5-a498-f4bd37d5fd7e",
   "metadata": {
    "tags": []
   },
   "source": [
    "## ECG200"
   ]
  },
  {
   "cell_type": "code",
   "execution_count": 61,
   "id": "537bd5af-893e-4796-9c2d-1376fc64ee90",
   "metadata": {},
   "outputs": [
    {
     "data": {
      "text/html": [
       "'C:/Users/brkmb/Desktop/kitaplar/IE48B/HW3/overall_summary'"
      ],
      "text/latex": [
       "'C:/Users/brkmb/Desktop/kitaplar/IE48B/HW3/overall\\_summary'"
      ],
      "text/markdown": [
       "'C:/Users/brkmb/Desktop/kitaplar/IE48B/HW3/overall_summary'"
      ],
      "text/plain": [
       "[1] \"C:/Users/brkmb/Desktop/kitaplar/IE48B/HW3/overall_summary\""
      ]
     },
     "metadata": {},
     "output_type": "display_data"
    }
   ],
   "source": [
    "current_folder=getwd()\n",
    "result_path <- sprintf('%s/overall_summary',current_folder)\n",
    "result_path\n",
    "summary_files <- list.files(result_path)"
   ]
  },
  {
   "cell_type": "code",
   "execution_count": 63,
   "id": "aeda7e7c-655d-44e9-8320-48990a5e4c2f",
   "metadata": {},
   "outputs": [
    {
     "data": {
      "text/html": [
       "<table class=\"dataframe\">\n",
       "<caption>A data.table: 6 × 5</caption>\n",
       "<thead>\n",
       "\t<tr><th scope=col>approach</th><th scope=col>k</th><th scope=col>avg_acc</th><th scope=col>sdev_acc</th><th scope=col>result_count</th></tr>\n",
       "\t<tr><th scope=col>&lt;chr&gt;</th><th scope=col>&lt;int&gt;</th><th scope=col>&lt;dbl&gt;</th><th scope=col>&lt;dbl&gt;</th><th scope=col>&lt;int&gt;</th></tr>\n",
       "</thead>\n",
       "<tbody>\n",
       "\t<tr><td>ECG200_dtw_raw_dist.csv      </td><td>1</td><td>0.608</td><td>0.1440521</td><td>50</td></tr>\n",
       "\t<tr><td>ECG200_dtw_raw_dist.csv      </td><td>3</td><td>0.616</td><td>0.1447870</td><td>50</td></tr>\n",
       "\t<tr><td>ECG200_dtw_raw_dist.csv      </td><td>5</td><td>0.648</td><td>0.1358871</td><td>50</td></tr>\n",
       "\t<tr><td>ECG200_dtw_raw_lasso_dist.csv</td><td>1</td><td>0.586</td><td>0.1340271</td><td>50</td></tr>\n",
       "\t<tr><td>ECG200_dtw_raw_lasso_dist.csv</td><td>3</td><td>0.576</td><td>0.1436549</td><td>50</td></tr>\n",
       "\t<tr><td>ECG200_dtw_raw_lasso_dist.csv</td><td>5</td><td>0.642</td><td>0.1263135</td><td>50</td></tr>\n",
       "</tbody>\n",
       "</table>\n"
      ],
      "text/latex": [
       "A data.table: 6 × 5\n",
       "\\begin{tabular}{lllll}\n",
       " approach & k & avg\\_acc & sdev\\_acc & result\\_count\\\\\n",
       " <chr> & <int> & <dbl> & <dbl> & <int>\\\\\n",
       "\\hline\n",
       "\t ECG200\\_dtw\\_raw\\_dist.csv       & 1 & 0.608 & 0.1440521 & 50\\\\\n",
       "\t ECG200\\_dtw\\_raw\\_dist.csv       & 3 & 0.616 & 0.1447870 & 50\\\\\n",
       "\t ECG200\\_dtw\\_raw\\_dist.csv       & 5 & 0.648 & 0.1358871 & 50\\\\\n",
       "\t ECG200\\_dtw\\_raw\\_lasso\\_dist.csv & 1 & 0.586 & 0.1340271 & 50\\\\\n",
       "\t ECG200\\_dtw\\_raw\\_lasso\\_dist.csv & 3 & 0.576 & 0.1436549 & 50\\\\\n",
       "\t ECG200\\_dtw\\_raw\\_lasso\\_dist.csv & 5 & 0.642 & 0.1263135 & 50\\\\\n",
       "\\end{tabular}\n"
      ],
      "text/markdown": [
       "\n",
       "A data.table: 6 × 5\n",
       "\n",
       "| approach &lt;chr&gt; | k &lt;int&gt; | avg_acc &lt;dbl&gt; | sdev_acc &lt;dbl&gt; | result_count &lt;int&gt; |\n",
       "|---|---|---|---|---|\n",
       "| ECG200_dtw_raw_dist.csv       | 1 | 0.608 | 0.1440521 | 50 |\n",
       "| ECG200_dtw_raw_dist.csv       | 3 | 0.616 | 0.1447870 | 50 |\n",
       "| ECG200_dtw_raw_dist.csv       | 5 | 0.648 | 0.1358871 | 50 |\n",
       "| ECG200_dtw_raw_lasso_dist.csv | 1 | 0.586 | 0.1340271 | 50 |\n",
       "| ECG200_dtw_raw_lasso_dist.csv | 3 | 0.576 | 0.1436549 | 50 |\n",
       "| ECG200_dtw_raw_lasso_dist.csv | 5 | 0.642 | 0.1263135 | 50 |\n",
       "\n"
      ],
      "text/plain": [
       "  approach                      k avg_acc sdev_acc  result_count\n",
       "1 ECG200_dtw_raw_dist.csv       1 0.608   0.1440521 50          \n",
       "2 ECG200_dtw_raw_dist.csv       3 0.616   0.1447870 50          \n",
       "3 ECG200_dtw_raw_dist.csv       5 0.648   0.1358871 50          \n",
       "4 ECG200_dtw_raw_lasso_dist.csv 1 0.586   0.1340271 50          \n",
       "5 ECG200_dtw_raw_lasso_dist.csv 3 0.576   0.1436549 50          \n",
       "6 ECG200_dtw_raw_lasso_dist.csv 5 0.642   0.1263135 50          "
      ]
     },
     "metadata": {},
     "output_type": "display_data"
    }
   ],
   "source": [
    "result_file <- fread(sprintf('%s/overall_summary/%s',current_folder,summary_files[1]))\n",
    "head(result_file)"
   ]
  },
  {
   "cell_type": "code",
   "execution_count": 64,
   "id": "c46101c5-c1d7-4df6-977b-d560052be3ff",
   "metadata": {},
   "outputs": [
    {
     "data": {
      "text/html": [
       "<table class=\"dataframe\">\n",
       "<caption>A data.table: 1 × 5</caption>\n",
       "<thead>\n",
       "\t<tr><th scope=col>approach</th><th scope=col>k</th><th scope=col>avg_acc</th><th scope=col>sdev_acc</th><th scope=col>result_count</th></tr>\n",
       "\t<tr><th scope=col>&lt;chr&gt;</th><th scope=col>&lt;int&gt;</th><th scope=col>&lt;dbl&gt;</th><th scope=col>&lt;dbl&gt;</th><th scope=col>&lt;int&gt;</th></tr>\n",
       "</thead>\n",
       "<tbody>\n",
       "\t<tr><td>ECG200_euc_raw_lasso_dist.csv</td><td>5</td><td>0.676</td><td>0.09160697</td><td>50</td></tr>\n",
       "</tbody>\n",
       "</table>\n"
      ],
      "text/latex": [
       "A data.table: 1 × 5\n",
       "\\begin{tabular}{lllll}\n",
       " approach & k & avg\\_acc & sdev\\_acc & result\\_count\\\\\n",
       " <chr> & <int> & <dbl> & <dbl> & <int>\\\\\n",
       "\\hline\n",
       "\t ECG200\\_euc\\_raw\\_lasso\\_dist.csv & 5 & 0.676 & 0.09160697 & 50\\\\\n",
       "\\end{tabular}\n"
      ],
      "text/markdown": [
       "\n",
       "A data.table: 1 × 5\n",
       "\n",
       "| approach &lt;chr&gt; | k &lt;int&gt; | avg_acc &lt;dbl&gt; | sdev_acc &lt;dbl&gt; | result_count &lt;int&gt; |\n",
       "|---|---|---|---|---|\n",
       "| ECG200_euc_raw_lasso_dist.csv | 5 | 0.676 | 0.09160697 | 50 |\n",
       "\n"
      ],
      "text/plain": [
       "  approach                      k avg_acc sdev_acc   result_count\n",
       "1 ECG200_euc_raw_lasso_dist.csv 5 0.676   0.09160697 50          "
      ]
     },
     "metadata": {},
     "output_type": "display_data"
    }
   ],
   "source": [
    "result_file[which.max(result_file$avg_acc)]"
   ]
  },
  {
   "cell_type": "code",
   "execution_count": 88,
   "id": "b1352d80-9517-4360-8f38-68d713ff8499",
   "metadata": {
    "tags": []
   },
   "outputs": [],
   "source": [
    "# assuming you have the data folder in your working directory in the following format:\n",
    "# 'working_directory/ClassificationData/dataset_name/'\n",
    "current_folder=getwd()\n",
    "dataset='ECG200'\n",
    "main_path=sprintf('%s/ClassificationData/%s/%s',current_folder,dataset,dataset)\n",
    "\n",
    "dist_path=sprintf('%s/ClassificationData/%s/distances/%s',current_folder,dataset,dataset)\n",
    "\n",
    "train_data_path=sprintf('%s_TRAIN.txt',main_path)\n",
    "traindata=as.matrix(fread(train_data_path))\n",
    "traindata_rep = fread(train_data_path) ## for representations, class data needs to be hold.\n",
    "\n",
    "test_data_path=sprintf('%s_TEST.txt',main_path)\n",
    "testdata=as.matrix(fread(test_data_path))\n",
    "testdata_rep = fread(test_data_path)\n",
    "#first column is the class variable\n",
    "trainclass=traindata[,1] # takes -1 and 1\n",
    "testclass=testdata[,1] # takes -1 and 1\n",
    "\n",
    "#drop first column\n",
    "traindata=traindata[,2:ncol(traindata)]\n",
    "testdata=testdata[,2:ncol(testdata)]\n",
    "\n",
    "# instance characteristics\n",
    "tlength=ncol(traindata)\n",
    "n_series_train=nrow(traindata)\n",
    "n_series_test=nrow(testdata)"
   ]
  },
  {
   "cell_type": "markdown",
   "id": "44e65c0c-c216-4828-9017-9a3b6ed28674",
   "metadata": {},
   "source": [
    "### Lasso Representation"
   ]
  },
  {
   "cell_type": "code",
   "execution_count": 89,
   "id": "b4c08a0e-c4ec-4330-b3ef-efc7d36951ca",
   "metadata": {},
   "outputs": [
    {
     "data": {
      "text/html": [
       "<table class=\"dataframe\">\n",
       "<caption>A data.table: 6 × 97</caption>\n",
       "<thead>\n",
       "\t<tr><th scope=col>class</th><th scope=col>V2</th><th scope=col>V3</th><th scope=col>V4</th><th scope=col>V5</th><th scope=col>V6</th><th scope=col>V7</th><th scope=col>V8</th><th scope=col>V9</th><th scope=col>V10</th><th scope=col>...</th><th scope=col>V88</th><th scope=col>V89</th><th scope=col>V90</th><th scope=col>V91</th><th scope=col>V92</th><th scope=col>V93</th><th scope=col>V94</th><th scope=col>V95</th><th scope=col>V96</th><th scope=col>V97</th></tr>\n",
       "\t<tr><th scope=col>&lt;dbl&gt;</th><th scope=col>&lt;dbl&gt;</th><th scope=col>&lt;dbl&gt;</th><th scope=col>&lt;dbl&gt;</th><th scope=col>&lt;dbl&gt;</th><th scope=col>&lt;dbl&gt;</th><th scope=col>&lt;dbl&gt;</th><th scope=col>&lt;dbl&gt;</th><th scope=col>&lt;dbl&gt;</th><th scope=col>&lt;dbl&gt;</th><th scope=col>...</th><th scope=col>&lt;dbl&gt;</th><th scope=col>&lt;dbl&gt;</th><th scope=col>&lt;dbl&gt;</th><th scope=col>&lt;dbl&gt;</th><th scope=col>&lt;dbl&gt;</th><th scope=col>&lt;dbl&gt;</th><th scope=col>&lt;dbl&gt;</th><th scope=col>&lt;dbl&gt;</th><th scope=col>&lt;dbl&gt;</th><th scope=col>&lt;dbl&gt;</th></tr>\n",
       "</thead>\n",
       "<tbody>\n",
       "\t<tr><td>-1</td><td> 0.4436209</td><td> 0.9472850</td><td> 1.924084</td><td> 2.159790</td><td> 1.4994468</td><td> 0.9645078</td><td> 0.2232562</td><td>-0.4249456</td><td> 0.1212787</td><td>...</td><td> 0.9005108</td><td> 1.2786880</td><td> 2.3178780</td><td> 2.9162543</td><td> 2.2119475</td><td> 2.03475300</td><td> 2.0713024000</td><td> 1.2541780</td><td> 1.0378788</td><td> 1.00961550</td></tr>\n",
       "\t<tr><td>-1</td><td> 0.7956747</td><td> 0.9502404</td><td> 1.146668</td><td> 1.749125</td><td> 2.4258016</td><td> 2.6709641</td><td> 2.4624665</td><td> 2.0670781</td><td> 1.6233579</td><td>...</td><td> 0.4303212</td><td> 0.4871072</td><td> 0.5797414</td><td> 0.5628337</td><td> 0.4640931</td><td> 0.40246792</td><td> 0.4493048100</td><td> 0.5580822</td><td> 0.5685786</td><td> 0.40117688</td></tr>\n",
       "\t<tr><td>-1</td><td> 1.3983408</td><td> 3.1540817</td><td> 3.437721</td><td> 2.305671</td><td> 0.1894286</td><td> 1.1478420</td><td> 1.0036473</td><td> 0.5406101</td><td> 0.9441429</td><td>...</td><td>-0.2272631</td><td>-0.0607361</td><td>-0.6444121</td><td>-0.3285149</td><td>-0.1655815</td><td>-0.58693754</td><td>-0.2585569700</td><td>-0.4527981</td><td>-0.3107281</td><td>-0.20251214</td></tr>\n",
       "\t<tr><td>-1</td><td>-1.6681931</td><td>-2.0533347</td><td>-2.235332</td><td>-2.173837</td><td>-1.7415020</td><td>-1.5408022</td><td>-1.9629656</td><td>-2.2387671</td><td>-1.8779410</td><td>...</td><td> 0.2997362</td><td> 0.3390010</td><td> 0.2185765</td><td> 0.3177845</td><td> 0.3205212</td><td> 0.02183141</td><td> 0.0003893154</td><td> 0.4377837</td><td> 0.5666975</td><td>-0.02925205</td></tr>\n",
       "\t<tr><td>-1</td><td> 1.0235784</td><td> 1.4785416</td><td> 2.206047</td><td> 2.826309</td><td> 2.4762642</td><td> 1.6743566</td><td> 1.0884254</td><td> 0.4325428</td><td>-0.1502338</td><td>...</td><td> 0.9428605</td><td> 0.7259834</td><td> 0.8662279</td><td> 1.0608436</td><td> 1.0785506</td><td> 0.97807484</td><td> 0.8598958300</td><td> 0.9278556</td><td> 1.0143007</td><td> 0.64819166</td></tr>\n",
       "\t<tr><td>-1</td><td> 1.2806801</td><td> 1.5708310</td><td> 1.915334</td><td> 2.336203</td><td> 2.7350768</td><td> 2.9284487</td><td> 2.8112030</td><td> 2.4532867</td><td> 2.0378798</td><td>...</td><td> 0.5306808</td><td> 0.6692706</td><td> 0.8522855</td><td> 0.9292795</td><td> 0.8529851</td><td> 0.71977403</td><td> 0.6562816900</td><td> 0.6835170</td><td> 0.7292954</td><td> 0.72617319</td></tr>\n",
       "</tbody>\n",
       "</table>\n"
      ],
      "text/latex": [
       "A data.table: 6 × 97\n",
       "\\begin{tabular}{lllllllllllllllllllll}\n",
       " class & V2 & V3 & V4 & V5 & V6 & V7 & V8 & V9 & V10 & ... & V88 & V89 & V90 & V91 & V92 & V93 & V94 & V95 & V96 & V97\\\\\n",
       " <dbl> & <dbl> & <dbl> & <dbl> & <dbl> & <dbl> & <dbl> & <dbl> & <dbl> & <dbl> & ... & <dbl> & <dbl> & <dbl> & <dbl> & <dbl> & <dbl> & <dbl> & <dbl> & <dbl> & <dbl>\\\\\n",
       "\\hline\n",
       "\t -1 &  0.4436209 &  0.9472850 &  1.924084 &  2.159790 &  1.4994468 &  0.9645078 &  0.2232562 & -0.4249456 &  0.1212787 & ... &  0.9005108 &  1.2786880 &  2.3178780 &  2.9162543 &  2.2119475 &  2.03475300 &  2.0713024000 &  1.2541780 &  1.0378788 &  1.00961550\\\\\n",
       "\t -1 &  0.7956747 &  0.9502404 &  1.146668 &  1.749125 &  2.4258016 &  2.6709641 &  2.4624665 &  2.0670781 &  1.6233579 & ... &  0.4303212 &  0.4871072 &  0.5797414 &  0.5628337 &  0.4640931 &  0.40246792 &  0.4493048100 &  0.5580822 &  0.5685786 &  0.40117688\\\\\n",
       "\t -1 &  1.3983408 &  3.1540817 &  3.437721 &  2.305671 &  0.1894286 &  1.1478420 &  1.0036473 &  0.5406101 &  0.9441429 & ... & -0.2272631 & -0.0607361 & -0.6444121 & -0.3285149 & -0.1655815 & -0.58693754 & -0.2585569700 & -0.4527981 & -0.3107281 & -0.20251214\\\\\n",
       "\t -1 & -1.6681931 & -2.0533347 & -2.235332 & -2.173837 & -1.7415020 & -1.5408022 & -1.9629656 & -2.2387671 & -1.8779410 & ... &  0.2997362 &  0.3390010 &  0.2185765 &  0.3177845 &  0.3205212 &  0.02183141 &  0.0003893154 &  0.4377837 &  0.5666975 & -0.02925205\\\\\n",
       "\t -1 &  1.0235784 &  1.4785416 &  2.206047 &  2.826309 &  2.4762642 &  1.6743566 &  1.0884254 &  0.4325428 & -0.1502338 & ... &  0.9428605 &  0.7259834 &  0.8662279 &  1.0608436 &  1.0785506 &  0.97807484 &  0.8598958300 &  0.9278556 &  1.0143007 &  0.64819166\\\\\n",
       "\t -1 &  1.2806801 &  1.5708310 &  1.915334 &  2.336203 &  2.7350768 &  2.9284487 &  2.8112030 &  2.4532867 &  2.0378798 & ... &  0.5306808 &  0.6692706 &  0.8522855 &  0.9292795 &  0.8529851 &  0.71977403 &  0.6562816900 &  0.6835170 &  0.7292954 &  0.72617319\\\\\n",
       "\\end{tabular}\n"
      ],
      "text/markdown": [
       "\n",
       "A data.table: 6 × 97\n",
       "\n",
       "| class &lt;dbl&gt; | V2 &lt;dbl&gt; | V3 &lt;dbl&gt; | V4 &lt;dbl&gt; | V5 &lt;dbl&gt; | V6 &lt;dbl&gt; | V7 &lt;dbl&gt; | V8 &lt;dbl&gt; | V9 &lt;dbl&gt; | V10 &lt;dbl&gt; | ... ... | V88 &lt;dbl&gt; | V89 &lt;dbl&gt; | V90 &lt;dbl&gt; | V91 &lt;dbl&gt; | V92 &lt;dbl&gt; | V93 &lt;dbl&gt; | V94 &lt;dbl&gt; | V95 &lt;dbl&gt; | V96 &lt;dbl&gt; | V97 &lt;dbl&gt; |\n",
       "|---|---|---|---|---|---|---|---|---|---|---|---|---|---|---|---|---|---|---|---|---|\n",
       "| -1 |  0.4436209 |  0.9472850 |  1.924084 |  2.159790 |  1.4994468 |  0.9645078 |  0.2232562 | -0.4249456 |  0.1212787 | ... |  0.9005108 |  1.2786880 |  2.3178780 |  2.9162543 |  2.2119475 |  2.03475300 |  2.0713024000 |  1.2541780 |  1.0378788 |  1.00961550 |\n",
       "| -1 |  0.7956747 |  0.9502404 |  1.146668 |  1.749125 |  2.4258016 |  2.6709641 |  2.4624665 |  2.0670781 |  1.6233579 | ... |  0.4303212 |  0.4871072 |  0.5797414 |  0.5628337 |  0.4640931 |  0.40246792 |  0.4493048100 |  0.5580822 |  0.5685786 |  0.40117688 |\n",
       "| -1 |  1.3983408 |  3.1540817 |  3.437721 |  2.305671 |  0.1894286 |  1.1478420 |  1.0036473 |  0.5406101 |  0.9441429 | ... | -0.2272631 | -0.0607361 | -0.6444121 | -0.3285149 | -0.1655815 | -0.58693754 | -0.2585569700 | -0.4527981 | -0.3107281 | -0.20251214 |\n",
       "| -1 | -1.6681931 | -2.0533347 | -2.235332 | -2.173837 | -1.7415020 | -1.5408022 | -1.9629656 | -2.2387671 | -1.8779410 | ... |  0.2997362 |  0.3390010 |  0.2185765 |  0.3177845 |  0.3205212 |  0.02183141 |  0.0003893154 |  0.4377837 |  0.5666975 | -0.02925205 |\n",
       "| -1 |  1.0235784 |  1.4785416 |  2.206047 |  2.826309 |  2.4762642 |  1.6743566 |  1.0884254 |  0.4325428 | -0.1502338 | ... |  0.9428605 |  0.7259834 |  0.8662279 |  1.0608436 |  1.0785506 |  0.97807484 |  0.8598958300 |  0.9278556 |  1.0143007 |  0.64819166 |\n",
       "| -1 |  1.2806801 |  1.5708310 |  1.915334 |  2.336203 |  2.7350768 |  2.9284487 |  2.8112030 |  2.4532867 |  2.0378798 | ... |  0.5306808 |  0.6692706 |  0.8522855 |  0.9292795 |  0.8529851 |  0.71977403 |  0.6562816900 |  0.6835170 |  0.7292954 |  0.72617319 |\n",
       "\n"
      ],
      "text/plain": [
       "  class V2         V3         V4        V5        V6         V7        \n",
       "1 -1     0.4436209  0.9472850  1.924084  2.159790  1.4994468  0.9645078\n",
       "2 -1     0.7956747  0.9502404  1.146668  1.749125  2.4258016  2.6709641\n",
       "3 -1     1.3983408  3.1540817  3.437721  2.305671  0.1894286  1.1478420\n",
       "4 -1    -1.6681931 -2.0533347 -2.235332 -2.173837 -1.7415020 -1.5408022\n",
       "5 -1     1.0235784  1.4785416  2.206047  2.826309  2.4762642  1.6743566\n",
       "6 -1     1.2806801  1.5708310  1.915334  2.336203  2.7350768  2.9284487\n",
       "  V8         V9         V10        ... V88        V89        V90       \n",
       "1  0.2232562 -0.4249456  0.1212787 ...  0.9005108  1.2786880  2.3178780\n",
       "2  2.4624665  2.0670781  1.6233579 ...  0.4303212  0.4871072  0.5797414\n",
       "3  1.0036473  0.5406101  0.9441429 ... -0.2272631 -0.0607361 -0.6444121\n",
       "4 -1.9629656 -2.2387671 -1.8779410 ...  0.2997362  0.3390010  0.2185765\n",
       "5  1.0884254  0.4325428 -0.1502338 ...  0.9428605  0.7259834  0.8662279\n",
       "6  2.8112030  2.4532867  2.0378798 ...  0.5306808  0.6692706  0.8522855\n",
       "  V91        V92        V93         V94           V95        V96       \n",
       "1  2.9162543  2.2119475  2.03475300  2.0713024000  1.2541780  1.0378788\n",
       "2  0.5628337  0.4640931  0.40246792  0.4493048100  0.5580822  0.5685786\n",
       "3 -0.3285149 -0.1655815 -0.58693754 -0.2585569700 -0.4527981 -0.3107281\n",
       "4  0.3177845  0.3205212  0.02183141  0.0003893154  0.4377837  0.5666975\n",
       "5  1.0608436  1.0785506  0.97807484  0.8598958300  0.9278556  1.0143007\n",
       "6  0.9292795  0.8529851  0.71977403  0.6562816900  0.6835170  0.7292954\n",
       "  V97        \n",
       "1  1.00961550\n",
       "2  0.40117688\n",
       "3 -0.20251214\n",
       "4 -0.02925205\n",
       "5  0.64819166\n",
       "6  0.72617319"
      ]
     },
     "metadata": {},
     "output_type": "display_data"
    }
   ],
   "source": [
    "setnames(testdata_rep,'V1','class')\n",
    "\n",
    "testdata_rep <- testdata_rep[order(class)]\n",
    "\n",
    "head(testdata_rep)\n",
    "\n",
    "testdata_rep[,class:=as.character(class)]\n",
    "testdata_rep[,id:=1:.N]\n",
    "long_test=melt(testdata_rep,id.vars=c('id','class'))\n",
    "\n",
    "long_test[,time:=as.numeric(gsub(\"\\\\D\", \"\", variable))-1]\n",
    "\n",
    "long_test=long_test[,list(id,class,time,value)]\n",
    "long_test=long_test[order(id,time)]\n",
    "\n"
   ]
  },
  {
   "cell_type": "code",
   "execution_count": 74,
   "id": "35560ece-bc85-47fd-b562-83a4fc1fa058",
   "metadata": {
    "scrolled": true,
    "tags": []
   },
   "outputs": [
    {
     "name": "stderr",
     "output_type": "stream",
     "text": [
      "Loading required package: genlasso\n",
      "\n",
      "Warning message:\n",
      "\"package 'genlasso' was built under R version 4.0.5\"\n",
      "Loading required package: Matrix\n",
      "\n",
      "Loading required package: igraph\n",
      "\n",
      "Warning message:\n",
      "\"package 'igraph' was built under R version 4.0.5\"\n",
      "\n",
      "Attaching package: 'igraph'\n",
      "\n",
      "\n",
      "The following objects are masked from 'package:stats':\n",
      "\n",
      "    decompose, spectrum\n",
      "\n",
      "\n",
      "The following object is masked from 'package:base':\n",
      "\n",
      "    union\n",
      "\n",
      "\n"
     ]
    },
    {
     "name": "stdout",
     "output_type": "stream",
     "text": [
      "Fold 1 ... Fold 2 ... Fold 3 ... Fold 4 ... Fold 5 ... \n",
      "Fold 1 ... Fold 2 ... Fold 3 ... Fold 4 ... Fold 5 ... \n",
      "Fold 1 ... Fold 2 ... Fold 3 ... Fold 4 ... Fold 5 ... \n",
      "Fold 1 ... Fold 2 ... Fold 3 ... Fold 4 ... Fold 5 ... \n",
      "Fold 1 ... Fold 2 ... Fold 3 ... Fold 4 ... Fold 5 ... \n",
      "Fold 1 ... Fold 2 ... Fold 3 ... Fold 4 ... Fold 5 ... \n",
      "Fold 1 ... Fold 2 ... Fold 3 ... Fold 4 ... Fold 5 ... \n",
      "Fold 1 ... Fold 2 ... Fold 3 ... Fold 4 ... Fold 5 ... \n",
      "Fold 1 ... Fold 2 ... Fold 3 ... Fold 4 ... Fold 5 ... \n",
      "Fold 1 ... Fold 2 ... Fold 3 ... Fold 4 ... Fold 5 ... \n",
      "Fold 1 ... Fold 2 ... Fold 3 ... Fold 4 ... Fold 5 ... \n",
      "Fold 1 ... Fold 2 ... Fold 3 ... Fold 4 ... Fold 5 ... \n",
      "Fold 1 ... Fold 2 ... Fold 3 ... Fold 4 ... Fold 5 ... \n",
      "Fold 1 ... Fold 2 ... Fold 3 ... Fold 4 ... Fold 5 ... \n",
      "Fold 1 ... Fold 2 ... Fold 3 ... Fold 4 ... Fold 5 ... \n",
      "Fold 1 ... Fold 2 ... Fold 3 ... Fold 4 ... Fold 5 ... \n",
      "Fold 1 ... Fold 2 ... Fold 3 ... Fold 4 ... Fold 5 ... \n",
      "Fold 1 ... Fold 2 ... Fold 3 ... Fold 4 ... Fold 5 ... \n",
      "Fold 1 ... Fold 2 ... Fold 3 ... Fold 4 ... Fold 5 ... \n",
      "Fold 1 ... Fold 2 ... Fold 3 ... Fold 4 ... Fold 5 ... \n",
      "Fold 1 ... Fold 2 ... Fold 3 ... Fold 4 ... Fold 5 ... \n",
      "Fold 1 ... Fold 2 ... Fold 3 ... Fold 4 ... Fold 5 ... \n",
      "Fold 1 ... Fold 2 ... Fold 3 ... Fold 4 ... Fold 5 ... \n",
      "Fold 1 ... Fold 2 ... Fold 3 ... Fold 4 ... Fold 5 ... \n",
      "Fold 1 ... Fold 2 ... Fold 3 ... Fold 4 ... Fold 5 ... \n",
      "Fold 1 ... Fold 2 ... Fold 3 ... Fold 4 ... Fold 5 ... \n",
      "Fold 1 ... Fold 2 ... Fold 3 ... Fold 4 ... Fold 5 ... \n",
      "Fold 1 ... Fold 2 ... Fold 3 ... Fold 4 ... Fold 5 ... \n",
      "Fold 1 ... Fold 2 ... Fold 3 ... Fold 4 ... Fold 5 ... \n",
      "Fold 1 ... Fold 2 ... Fold 3 ... Fold 4 ... Fold 5 ... \n",
      "Fold 1 ... Fold 2 ... Fold 3 ... Fold 4 ... Fold 5 ... \n",
      "Fold 1 ... Fold 2 ... Fold 3 ... Fold 4 ... Fold 5 ... \n",
      "Fold 1 ... Fold 2 ... Fold 3 ... Fold 4 ... Fold 5 ... \n",
      "Fold 1 ... Fold 2 ... Fold 3 ... Fold 4 ... Fold 5 ... \n",
      "Fold 1 ... Fold 2 ... Fold 3 ... Fold 4 ... Fold 5 ... \n",
      "Fold 1 ... Fold 2 ... Fold 3 ... Fold 4 ... Fold 5 ... \n",
      "Fold 1 ... Fold 2 ... Fold 3 ... Fold 4 ... Fold 5 ... \n",
      "Fold 1 ... Fold 2 ... Fold 3 ... Fold 4 ... Fold 5 ... \n",
      "Fold 1 ... Fold 2 ... Fold 3 ... Fold 4 ... Fold 5 ... \n",
      "Fold 1 ... Fold 2 ... Fold 3 ... Fold 4 ... Fold 5 ... \n",
      "Fold 1 ... Fold 2 ... Fold 3 ... Fold 4 ... Fold 5 ... \n",
      "Fold 1 ... Fold 2 ... Fold 3 ... Fold 4 ... Fold 5 ... \n",
      "Fold 1 ... Fold 2 ... Fold 3 ... Fold 4 ... Fold 5 ... \n",
      "Fold 1 ... Fold 2 ... Fold 3 ... Fold 4 ... Fold 5 ... \n",
      "Fold 1 ... Fold 2 ... Fold 3 ... Fold 4 ... Fold 5 ... \n",
      "Fold 1 ... Fold 2 ... Fold 3 ... Fold 4 ... Fold 5 ... \n",
      "Fold 1 ... Fold 2 ... Fold 3 ... Fold 4 ... Fold 5 ... \n",
      "Fold 1 ... Fold 2 ... Fold 3 ... Fold 4 ... Fold 5 ... \n",
      "Fold 1 ... Fold 2 ... Fold 3 ... Fold 4 ... Fold 5 ... \n",
      "Fold 1 ... Fold 2 ... Fold 3 ... Fold 4 ... Fold 5 ... \n",
      "Fold 1 ... Fold 2 ... Fold 3 ... Fold 4 ... Fold 5 ... \n",
      "Fold 1 ... Fold 2 ... Fold 3 ... Fold 4 ... Fold 5 ... \n",
      "Fold 1 ... Fold 2 ... Fold 3 ... Fold 4 ... Fold 5 ... \n",
      "Fold 1 ... Fold 2 ... Fold 3 ... Fold 4 ... Fold 5 ... \n",
      "Fold 1 ... Fold 2 ... Fold 3 ... Fold 4 ... Fold 5 ... \n",
      "Fold 1 ... Fold 2 ... Fold 3 ... Fold 4 ... Fold 5 ... \n",
      "Fold 1 ... Fold 2 ... Fold 3 ... Fold 4 ... Fold 5 ... \n",
      "Fold 1 ... Fold 2 ... Fold 3 ... Fold 4 ... Fold 5 ... \n",
      "Fold 1 ... Fold 2 ... Fold 3 ... Fold 4 ... Fold 5 ... \n",
      "Fold 1 ... Fold 2 ... Fold 3 ... Fold 4 ... Fold 5 ... \n",
      "Fold 1 ... Fold 2 ... Fold 3 ... Fold 4 ... Fold 5 ... \n",
      "Fold 1 ... Fold 2 ... Fold 3 ... Fold 4 ... Fold 5 ... \n",
      "Fold 1 ... Fold 2 ... Fold 3 ... Fold 4 ... Fold 5 ... \n",
      "Fold 1 ... Fold 2 ... Fold 3 ... Fold 4 ... Fold 5 ... \n",
      "Fold 1 ... Fold 2 ... Fold 3 ... Fold 4 ... Fold 5 ... \n",
      "Fold 1 ... Fold 2 ... Fold 3 ... Fold 4 ... Fold 5 ... \n",
      "Fold 1 ... Fold 2 ... Fold 3 ... Fold 4 ... Fold 5 ... \n",
      "Fold 1 ... Fold 2 ... Fold 3 ... Fold 4 ... Fold 5 ... \n",
      "Fold 1 ... Fold 2 ... Fold 3 ... Fold 4 ... Fold 5 ... \n",
      "Fold 1 ... Fold 2 ... Fold 3 ... Fold 4 ... Fold 5 ... \n",
      "Fold 1 ... Fold 2 ... Fold 3 ... Fold 4 ... Fold 5 ... \n",
      "Fold 1 ... Fold 2 ... Fold 3 ... Fold 4 ... Fold 5 ... \n",
      "Fold 1 ... Fold 2 ... Fold 3 ... Fold 4 ... Fold 5 ... \n",
      "Fold 1 ... Fold 2 ... Fold 3 ... Fold 4 ... Fold 5 ... \n",
      "Fold 1 ... Fold 2 ... Fold 3 ... Fold 4 ... Fold 5 ... \n",
      "Fold 1 ... Fold 2 ... Fold 3 ... Fold 4 ... Fold 5 ... \n",
      "Fold 1 ... Fold 2 ... Fold 3 ... Fold 4 ... Fold 5 ... \n",
      "Fold 1 ... Fold 2 ... Fold 3 ... Fold 4 ... Fold 5 ... \n",
      "Fold 1 ... Fold 2 ... Fold 3 ... Fold 4 ... Fold 5 ... \n",
      "Fold 1 ... Fold 2 ... Fold 3 ... Fold 4 ... Fold 5 ... \n",
      "Fold 1 ... Fold 2 ... Fold 3 ... Fold 4 ... Fold 5 ... \n",
      "Fold 1 ... Fold 2 ... Fold 3 ... Fold 4 ... Fold 5 ... \n",
      "Fold 1 ... Fold 2 ... Fold 3 ... Fold 4 ... Fold 5 ... \n",
      "Fold 1 ... Fold 2 ... Fold 3 ... Fold 4 ... Fold 5 ... \n",
      "Fold 1 ... Fold 2 ... Fold 3 ... Fold 4 ... Fold 5 ... \n",
      "Fold 1 ... Fold 2 ... Fold 3 ... Fold 4 ... Fold 5 ... \n",
      "Fold 1 ... Fold 2 ... Fold 3 ... Fold 4 ... Fold 5 ... \n",
      "Fold 1 ... Fold 2 ... Fold 3 ... Fold 4 ... Fold 5 ... \n",
      "Fold 1 ... Fold 2 ... Fold 3 ... Fold 4 ... Fold 5 ... \n",
      "Fold 1 ... Fold 2 ... Fold 3 ... Fold 4 ... Fold 5 ... \n",
      "Fold 1 ... Fold 2 ... Fold 3 ... Fold 4 ... Fold 5 ... \n",
      "Fold 1 ... Fold 2 ... Fold 3 ... Fold 4 ... Fold 5 ... \n",
      "Fold 1 ... Fold 2 ... Fold 3 ... Fold 4 ... Fold 5 ... \n",
      "Fold 1 ... Fold 2 ... Fold 3 ... Fold 4 ... Fold 5 ... \n",
      "Fold 1 ... Fold 2 ... Fold 3 ... Fold 4 ... Fold 5 ... \n",
      "Fold 1 ... Fold 2 ... Fold 3 ... Fold 4 ... Fold 5 ... \n",
      "Fold 1 ... Fold 2 ... Fold 3 ... Fold 4 ... Fold 5 ... \n",
      "Fold 1 ... Fold 2 ... Fold 3 ... Fold 4 ... Fold 5 ... \n",
      "Fold 1 ... Fold 2 ... Fold 3 ... Fold 4 ... Fold 5 ... \n",
      "Fold 1 ... Fold 2 ... Fold 3 ... Fold 4 ... Fold 5 ... \n"
     ]
    },
    {
     "data": {
      "text/html": [
       "<table class=\"dataframe\">\n",
       "<caption>A data.table: 6 × 96</caption>\n",
       "<thead>\n",
       "\t<tr><th scope=col>V1</th><th scope=col>V2</th><th scope=col>V3</th><th scope=col>V4</th><th scope=col>V5</th><th scope=col>V6</th><th scope=col>V7</th><th scope=col>V8</th><th scope=col>V9</th><th scope=col>V10</th><th scope=col>...</th><th scope=col>V87</th><th scope=col>V88</th><th scope=col>V89</th><th scope=col>V90</th><th scope=col>V91</th><th scope=col>V92</th><th scope=col>V93</th><th scope=col>V94</th><th scope=col>V95</th><th scope=col>V96</th></tr>\n",
       "\t<tr><th scope=col>&lt;dbl&gt;</th><th scope=col>&lt;dbl&gt;</th><th scope=col>&lt;dbl&gt;</th><th scope=col>&lt;dbl&gt;</th><th scope=col>&lt;dbl&gt;</th><th scope=col>&lt;dbl&gt;</th><th scope=col>&lt;dbl&gt;</th><th scope=col>&lt;dbl&gt;</th><th scope=col>&lt;dbl&gt;</th><th scope=col>&lt;dbl&gt;</th><th scope=col>...</th><th scope=col>&lt;dbl&gt;</th><th scope=col>&lt;dbl&gt;</th><th scope=col>&lt;dbl&gt;</th><th scope=col>&lt;dbl&gt;</th><th scope=col>&lt;dbl&gt;</th><th scope=col>&lt;dbl&gt;</th><th scope=col>&lt;dbl&gt;</th><th scope=col>&lt;dbl&gt;</th><th scope=col>&lt;dbl&gt;</th><th scope=col>&lt;dbl&gt;</th></tr>\n",
       "</thead>\n",
       "<tbody>\n",
       "\t<tr><td> 0.4437506</td><td> 0.9472850</td><td> 1.924084</td><td> 2.159530</td><td> 1.4994468</td><td> 0.9645078</td><td> 0.2232562</td><td>-0.4246862</td><td> 0.1212787</td><td> 0.8299378</td><td>...</td><td> 0.9005108</td><td> 1.2786880</td><td> 2.3178780</td><td> 2.9159949</td><td> 2.2119475</td><td> 2.03501243</td><td> 2.071042970</td><td> 1.2541780</td><td> 1.0378788</td><td> 1.0097452</td></tr>\n",
       "\t<tr><td> 0.7958401</td><td> 0.9502404</td><td> 1.146668</td><td> 1.749125</td><td> 2.4258016</td><td> 2.6706334</td><td> 2.4624665</td><td> 2.0670781</td><td> 1.6233579</td><td> 1.0882650</td><td>...</td><td> 0.4306519</td><td> 0.4871072</td><td> 0.5794107</td><td> 0.5628337</td><td> 0.4640931</td><td> 0.40279857</td><td> 0.449304810</td><td> 0.5580822</td><td> 0.5682479</td><td> 0.4013422</td></tr>\n",
       "\t<tr><td> 1.5392518</td><td> 3.1540817</td><td> 3.155899</td><td> 2.305671</td><td> 0.4712505</td><td> 0.9348337</td><td> 0.9348337</td><td> 0.7423765</td><td> 0.7423765</td><td>-0.3403173</td><td>...</td><td>-0.2241083</td><td>-0.2241083</td><td>-0.3625902</td><td>-0.3603446</td><td>-0.3603446</td><td>-0.36034464</td><td>-0.355677555</td><td>-0.3556776</td><td>-0.3270756</td><td>-0.3270756</td></tr>\n",
       "\t<tr><td>-1.6689915</td><td>-2.0533347</td><td>-2.233736</td><td>-2.173837</td><td>-1.7415020</td><td>-1.5423989</td><td>-1.9629656</td><td>-2.2371704</td><td>-1.8779410</td><td>-1.4731916</td><td>...</td><td> 0.2997362</td><td> 0.3374043</td><td> 0.2201732</td><td> 0.3177845</td><td> 0.3189245</td><td> 0.02183141</td><td> 0.001986015</td><td> 0.4377837</td><td> 0.5651008</td><td>-0.0284537</td></tr>\n",
       "\t<tr><td> 1.0247160</td><td> 1.4785416</td><td> 2.206047</td><td> 2.824034</td><td> 2.4762642</td><td> 1.6743566</td><td> 1.0884254</td><td> 0.4325428</td><td>-0.1502338</td><td>-0.3205431</td><td>...</td><td> 0.9428605</td><td> 0.7282587</td><td> 0.8662279</td><td> 1.0608436</td><td> 1.0762753</td><td> 0.97807484</td><td> 0.862171130</td><td> 0.9278556</td><td> 1.0120254</td><td> 0.6493293</td></tr>\n",
       "\t<tr><td> 1.2813682</td><td> 1.5708310</td><td> 1.915334</td><td> 2.336203</td><td> 2.7350768</td><td> 2.9270725</td><td> 2.8112030</td><td> 2.4532867</td><td> 2.0378798</td><td> 1.6964592</td><td>...</td><td> 0.5320570</td><td> 0.6692706</td><td> 0.8522855</td><td> 0.9279033</td><td> 0.8529851</td><td> 0.71977403</td><td> 0.657657900</td><td> 0.6835170</td><td> 0.7279192</td><td> 0.7268613</td></tr>\n",
       "</tbody>\n",
       "</table>\n"
      ],
      "text/latex": [
       "A data.table: 6 × 96\n",
       "\\begin{tabular}{lllllllllllllllllllll}\n",
       " V1 & V2 & V3 & V4 & V5 & V6 & V7 & V8 & V9 & V10 & ... & V87 & V88 & V89 & V90 & V91 & V92 & V93 & V94 & V95 & V96\\\\\n",
       " <dbl> & <dbl> & <dbl> & <dbl> & <dbl> & <dbl> & <dbl> & <dbl> & <dbl> & <dbl> & ... & <dbl> & <dbl> & <dbl> & <dbl> & <dbl> & <dbl> & <dbl> & <dbl> & <dbl> & <dbl>\\\\\n",
       "\\hline\n",
       "\t  0.4437506 &  0.9472850 &  1.924084 &  2.159530 &  1.4994468 &  0.9645078 &  0.2232562 & -0.4246862 &  0.1212787 &  0.8299378 & ... &  0.9005108 &  1.2786880 &  2.3178780 &  2.9159949 &  2.2119475 &  2.03501243 &  2.071042970 &  1.2541780 &  1.0378788 &  1.0097452\\\\\n",
       "\t  0.7958401 &  0.9502404 &  1.146668 &  1.749125 &  2.4258016 &  2.6706334 &  2.4624665 &  2.0670781 &  1.6233579 &  1.0882650 & ... &  0.4306519 &  0.4871072 &  0.5794107 &  0.5628337 &  0.4640931 &  0.40279857 &  0.449304810 &  0.5580822 &  0.5682479 &  0.4013422\\\\\n",
       "\t  1.5392518 &  3.1540817 &  3.155899 &  2.305671 &  0.4712505 &  0.9348337 &  0.9348337 &  0.7423765 &  0.7423765 & -0.3403173 & ... & -0.2241083 & -0.2241083 & -0.3625902 & -0.3603446 & -0.3603446 & -0.36034464 & -0.355677555 & -0.3556776 & -0.3270756 & -0.3270756\\\\\n",
       "\t -1.6689915 & -2.0533347 & -2.233736 & -2.173837 & -1.7415020 & -1.5423989 & -1.9629656 & -2.2371704 & -1.8779410 & -1.4731916 & ... &  0.2997362 &  0.3374043 &  0.2201732 &  0.3177845 &  0.3189245 &  0.02183141 &  0.001986015 &  0.4377837 &  0.5651008 & -0.0284537\\\\\n",
       "\t  1.0247160 &  1.4785416 &  2.206047 &  2.824034 &  2.4762642 &  1.6743566 &  1.0884254 &  0.4325428 & -0.1502338 & -0.3205431 & ... &  0.9428605 &  0.7282587 &  0.8662279 &  1.0608436 &  1.0762753 &  0.97807484 &  0.862171130 &  0.9278556 &  1.0120254 &  0.6493293\\\\\n",
       "\t  1.2813682 &  1.5708310 &  1.915334 &  2.336203 &  2.7350768 &  2.9270725 &  2.8112030 &  2.4532867 &  2.0378798 &  1.6964592 & ... &  0.5320570 &  0.6692706 &  0.8522855 &  0.9279033 &  0.8529851 &  0.71977403 &  0.657657900 &  0.6835170 &  0.7279192 &  0.7268613\\\\\n",
       "\\end{tabular}\n"
      ],
      "text/markdown": [
       "\n",
       "A data.table: 6 × 96\n",
       "\n",
       "| V1 &lt;dbl&gt; | V2 &lt;dbl&gt; | V3 &lt;dbl&gt; | V4 &lt;dbl&gt; | V5 &lt;dbl&gt; | V6 &lt;dbl&gt; | V7 &lt;dbl&gt; | V8 &lt;dbl&gt; | V9 &lt;dbl&gt; | V10 &lt;dbl&gt; | ... ... | V87 &lt;dbl&gt; | V88 &lt;dbl&gt; | V89 &lt;dbl&gt; | V90 &lt;dbl&gt; | V91 &lt;dbl&gt; | V92 &lt;dbl&gt; | V93 &lt;dbl&gt; | V94 &lt;dbl&gt; | V95 &lt;dbl&gt; | V96 &lt;dbl&gt; |\n",
       "|---|---|---|---|---|---|---|---|---|---|---|---|---|---|---|---|---|---|---|---|---|\n",
       "|  0.4437506 |  0.9472850 |  1.924084 |  2.159530 |  1.4994468 |  0.9645078 |  0.2232562 | -0.4246862 |  0.1212787 |  0.8299378 | ... |  0.9005108 |  1.2786880 |  2.3178780 |  2.9159949 |  2.2119475 |  2.03501243 |  2.071042970 |  1.2541780 |  1.0378788 |  1.0097452 |\n",
       "|  0.7958401 |  0.9502404 |  1.146668 |  1.749125 |  2.4258016 |  2.6706334 |  2.4624665 |  2.0670781 |  1.6233579 |  1.0882650 | ... |  0.4306519 |  0.4871072 |  0.5794107 |  0.5628337 |  0.4640931 |  0.40279857 |  0.449304810 |  0.5580822 |  0.5682479 |  0.4013422 |\n",
       "|  1.5392518 |  3.1540817 |  3.155899 |  2.305671 |  0.4712505 |  0.9348337 |  0.9348337 |  0.7423765 |  0.7423765 | -0.3403173 | ... | -0.2241083 | -0.2241083 | -0.3625902 | -0.3603446 | -0.3603446 | -0.36034464 | -0.355677555 | -0.3556776 | -0.3270756 | -0.3270756 |\n",
       "| -1.6689915 | -2.0533347 | -2.233736 | -2.173837 | -1.7415020 | -1.5423989 | -1.9629656 | -2.2371704 | -1.8779410 | -1.4731916 | ... |  0.2997362 |  0.3374043 |  0.2201732 |  0.3177845 |  0.3189245 |  0.02183141 |  0.001986015 |  0.4377837 |  0.5651008 | -0.0284537 |\n",
       "|  1.0247160 |  1.4785416 |  2.206047 |  2.824034 |  2.4762642 |  1.6743566 |  1.0884254 |  0.4325428 | -0.1502338 | -0.3205431 | ... |  0.9428605 |  0.7282587 |  0.8662279 |  1.0608436 |  1.0762753 |  0.97807484 |  0.862171130 |  0.9278556 |  1.0120254 |  0.6493293 |\n",
       "|  1.2813682 |  1.5708310 |  1.915334 |  2.336203 |  2.7350768 |  2.9270725 |  2.8112030 |  2.4532867 |  2.0378798 |  1.6964592 | ... |  0.5320570 |  0.6692706 |  0.8522855 |  0.9279033 |  0.8529851 |  0.71977403 |  0.657657900 |  0.6835170 |  0.7279192 |  0.7268613 |\n",
       "\n"
      ],
      "text/plain": [
       "  V1         V2         V3        V4        V5         V6         V7        \n",
       "1  0.4437506  0.9472850  1.924084  2.159530  1.4994468  0.9645078  0.2232562\n",
       "2  0.7958401  0.9502404  1.146668  1.749125  2.4258016  2.6706334  2.4624665\n",
       "3  1.5392518  3.1540817  3.155899  2.305671  0.4712505  0.9348337  0.9348337\n",
       "4 -1.6689915 -2.0533347 -2.233736 -2.173837 -1.7415020 -1.5423989 -1.9629656\n",
       "5  1.0247160  1.4785416  2.206047  2.824034  2.4762642  1.6743566  1.0884254\n",
       "6  1.2813682  1.5708310  1.915334  2.336203  2.7350768  2.9270725  2.8112030\n",
       "  V8         V9         V10        ... V87        V88        V89       \n",
       "1 -0.4246862  0.1212787  0.8299378 ...  0.9005108  1.2786880  2.3178780\n",
       "2  2.0670781  1.6233579  1.0882650 ...  0.4306519  0.4871072  0.5794107\n",
       "3  0.7423765  0.7423765 -0.3403173 ... -0.2241083 -0.2241083 -0.3625902\n",
       "4 -2.2371704 -1.8779410 -1.4731916 ...  0.2997362  0.3374043  0.2201732\n",
       "5  0.4325428 -0.1502338 -0.3205431 ...  0.9428605  0.7282587  0.8662279\n",
       "6  2.4532867  2.0378798  1.6964592 ...  0.5320570  0.6692706  0.8522855\n",
       "  V90        V91        V92         V93          V94        V95       \n",
       "1  2.9159949  2.2119475  2.03501243  2.071042970  1.2541780  1.0378788\n",
       "2  0.5628337  0.4640931  0.40279857  0.449304810  0.5580822  0.5682479\n",
       "3 -0.3603446 -0.3603446 -0.36034464 -0.355677555 -0.3556776 -0.3270756\n",
       "4  0.3177845  0.3189245  0.02183141  0.001986015  0.4377837  0.5651008\n",
       "5  1.0608436  1.0762753  0.97807484  0.862171130  0.9278556  1.0120254\n",
       "6  0.9279033  0.8529851  0.71977403  0.657657900  0.6835170  0.7279192\n",
       "  V96       \n",
       "1  1.0097452\n",
       "2  0.4013422\n",
       "3 -0.3270756\n",
       "4 -0.0284537\n",
       "5  0.6493293\n",
       "6  0.7268613"
      ]
     },
     "metadata": {},
     "output_type": "display_data"
    }
   ],
   "source": [
    "require(genlasso)\n",
    "lasso_results <- vector(\"list\",n_series_test)\n",
    "\n",
    "for(i in 1:n_series_test){\n",
    "  selected_dt <- long_test[id == i]\n",
    "  selected_dt <- as.matrix(selected_dt[,4], rownames=FALSE)\n",
    "  flasso <- trendfilter(selected_dt, ord=0)\n",
    "  cv <- cv.trendfilter(flasso)\n",
    "     \n",
    "    #print(paste0(i,'.Time Series' ))\n",
    "    #print(paste0('minimum crossvalidated error:',cv$lambda.min))\n",
    "    #print(paste0('1se error:',cv$lambda.min))\n",
    "  lasso_results[[i]] <- predict.genlasso(flasso, cv$lambda.min)\n",
    "  \n",
    "}\n",
    "\n",
    "lasso_dt = vector('list', n_series_test)\n",
    "for(i in seq(1:n_series_test)){\n",
    "lasso_dt[[i]] =as.data.table(t(lasso_results[[i]]$fit))\n",
    "}\n",
    "lasso_fit_dt = rbindlist(lasso_dt)\n",
    "head(lasso_fit_dt)"
   ]
  },
  {
   "cell_type": "code",
   "execution_count": 78,
   "id": "49857466-0c92-4966-af91-3fe69bfd1d19",
   "metadata": {},
   "outputs": [
    {
     "data": {
      "text/html": [
       "<table class=\"dataframe\">\n",
       "<caption>A matrix: 6 × 100 of type dbl</caption>\n",
       "<thead>\n",
       "\t<tr><th></th><th scope=col>1</th><th scope=col>2</th><th scope=col>3</th><th scope=col>4</th><th scope=col>5</th><th scope=col>6</th><th scope=col>7</th><th scope=col>8</th><th scope=col>9</th><th scope=col>10</th><th scope=col>...</th><th scope=col>91</th><th scope=col>92</th><th scope=col>93</th><th scope=col>94</th><th scope=col>95</th><th scope=col>96</th><th scope=col>97</th><th scope=col>98</th><th scope=col>99</th><th scope=col>100</th></tr>\n",
       "</thead>\n",
       "<tbody>\n",
       "\t<tr><th scope=row>1</th><td>10000.000000</td><td>    6.733718</td><td>   12.95087</td><td>   13.86873</td><td>    5.640105</td><td>    9.484028</td><td>12.819046</td><td>14.99271</td><td> 6.578266</td><td>12.416629</td><td>...</td><td>10.632393</td><td> 8.746328</td><td>10.653209</td><td>11.261851</td><td> 6.840006</td><td>11.644766</td><td> 6.087696</td><td>10.911652</td><td>11.531411</td><td> 8.397250</td></tr>\n",
       "\t<tr><th scope=row>2</th><td>    6.733718</td><td>10000.000000</td><td>   12.48802</td><td>   14.48894</td><td>    4.620912</td><td>    8.525335</td><td>13.525067</td><td>15.37121</td><td> 3.853801</td><td>12.481298</td><td>...</td><td>10.497548</td><td> 8.721355</td><td>10.798775</td><td>10.840489</td><td> 2.285064</td><td>11.474979</td><td> 5.118460</td><td>10.450897</td><td>10.646511</td><td> 7.479863</td></tr>\n",
       "\t<tr><th scope=row>3</th><td>   12.950874</td><td>   12.488021</td><td>10000.00000</td><td>   13.25146</td><td>   11.779060</td><td>   12.163735</td><td> 5.722745</td><td>11.74645</td><td>11.430270</td><td> 4.484099</td><td>...</td><td> 9.091818</td><td> 9.497251</td><td> 7.539361</td><td> 5.219027</td><td>12.215795</td><td> 8.044118</td><td>11.176717</td><td> 7.259378</td><td> 6.463475</td><td> 9.661444</td></tr>\n",
       "\t<tr><th scope=row>4</th><td>   13.868733</td><td>   14.488936</td><td>   13.25146</td><td>10000.00000</td><td>   13.626807</td><td>   17.634752</td><td> 9.857158</td><td>11.91847</td><td>12.503228</td><td>13.934737</td><td>...</td><td>11.575566</td><td>11.542841</td><td>10.786730</td><td>12.521695</td><td>15.152159</td><td>12.628971</td><td>13.172855</td><td>13.281009</td><td>13.845702</td><td>12.867492</td></tr>\n",
       "\t<tr><th scope=row>5</th><td>    5.640105</td><td>    4.620912</td><td>   11.77906</td><td>   13.62681</td><td>10000.000000</td><td>    9.228834</td><td>11.936185</td><td>13.30075</td><td> 3.928156</td><td>11.548447</td><td>...</td><td>10.252126</td><td> 8.576474</td><td>10.185059</td><td>10.814550</td><td> 4.665264</td><td>11.092183</td><td> 4.413893</td><td>10.472925</td><td>10.897659</td><td> 6.703307</td></tr>\n",
       "\t<tr><th scope=row>6</th><td>    9.484028</td><td>    8.525335</td><td>   12.16374</td><td>   17.63475</td><td>    9.228834</td><td>10000.000000</td><td>14.521761</td><td>15.66998</td><td>10.258284</td><td>12.289794</td><td>...</td><td>12.607397</td><td>12.037416</td><td>13.108756</td><td>11.873481</td><td> 7.522938</td><td>13.103665</td><td>10.369211</td><td>11.713702</td><td>11.584076</td><td>11.304711</td></tr>\n",
       "</tbody>\n",
       "</table>\n"
      ],
      "text/latex": [
       "A matrix: 6 × 100 of type dbl\n",
       "\\begin{tabular}{r|lllllllllllllllllllll}\n",
       "  & 1 & 2 & 3 & 4 & 5 & 6 & 7 & 8 & 9 & 10 & ... & 91 & 92 & 93 & 94 & 95 & 96 & 97 & 98 & 99 & 100\\\\\n",
       "\\hline\n",
       "\t1 & 10000.000000 &     6.733718 &    12.95087 &    13.86873 &     5.640105 &     9.484028 & 12.819046 & 14.99271 &  6.578266 & 12.416629 & ... & 10.632393 &  8.746328 & 10.653209 & 11.261851 &  6.840006 & 11.644766 &  6.087696 & 10.911652 & 11.531411 &  8.397250\\\\\n",
       "\t2 &     6.733718 & 10000.000000 &    12.48802 &    14.48894 &     4.620912 &     8.525335 & 13.525067 & 15.37121 &  3.853801 & 12.481298 & ... & 10.497548 &  8.721355 & 10.798775 & 10.840489 &  2.285064 & 11.474979 &  5.118460 & 10.450897 & 10.646511 &  7.479863\\\\\n",
       "\t3 &    12.950874 &    12.488021 & 10000.00000 &    13.25146 &    11.779060 &    12.163735 &  5.722745 & 11.74645 & 11.430270 &  4.484099 & ... &  9.091818 &  9.497251 &  7.539361 &  5.219027 & 12.215795 &  8.044118 & 11.176717 &  7.259378 &  6.463475 &  9.661444\\\\\n",
       "\t4 &    13.868733 &    14.488936 &    13.25146 & 10000.00000 &    13.626807 &    17.634752 &  9.857158 & 11.91847 & 12.503228 & 13.934737 & ... & 11.575566 & 11.542841 & 10.786730 & 12.521695 & 15.152159 & 12.628971 & 13.172855 & 13.281009 & 13.845702 & 12.867492\\\\\n",
       "\t5 &     5.640105 &     4.620912 &    11.77906 &    13.62681 & 10000.000000 &     9.228834 & 11.936185 & 13.30075 &  3.928156 & 11.548447 & ... & 10.252126 &  8.576474 & 10.185059 & 10.814550 &  4.665264 & 11.092183 &  4.413893 & 10.472925 & 10.897659 &  6.703307\\\\\n",
       "\t6 &     9.484028 &     8.525335 &    12.16374 &    17.63475 &     9.228834 & 10000.000000 & 14.521761 & 15.66998 & 10.258284 & 12.289794 & ... & 12.607397 & 12.037416 & 13.108756 & 11.873481 &  7.522938 & 13.103665 & 10.369211 & 11.713702 & 11.584076 & 11.304711\\\\\n",
       "\\end{tabular}\n"
      ],
      "text/markdown": [
       "\n",
       "A matrix: 6 × 100 of type dbl\n",
       "\n",
       "| <!--/--> | 1 | 2 | 3 | 4 | 5 | 6 | 7 | 8 | 9 | 10 | ... | 91 | 92 | 93 | 94 | 95 | 96 | 97 | 98 | 99 | 100 |\n",
       "|---|---|---|---|---|---|---|---|---|---|---|---|---|---|---|---|---|---|---|---|---|---|\n",
       "| 1 | 10000.000000 |     6.733718 |    12.95087 |    13.86873 |     5.640105 |     9.484028 | 12.819046 | 14.99271 |  6.578266 | 12.416629 | ... | 10.632393 |  8.746328 | 10.653209 | 11.261851 |  6.840006 | 11.644766 |  6.087696 | 10.911652 | 11.531411 |  8.397250 |\n",
       "| 2 |     6.733718 | 10000.000000 |    12.48802 |    14.48894 |     4.620912 |     8.525335 | 13.525067 | 15.37121 |  3.853801 | 12.481298 | ... | 10.497548 |  8.721355 | 10.798775 | 10.840489 |  2.285064 | 11.474979 |  5.118460 | 10.450897 | 10.646511 |  7.479863 |\n",
       "| 3 |    12.950874 |    12.488021 | 10000.00000 |    13.25146 |    11.779060 |    12.163735 |  5.722745 | 11.74645 | 11.430270 |  4.484099 | ... |  9.091818 |  9.497251 |  7.539361 |  5.219027 | 12.215795 |  8.044118 | 11.176717 |  7.259378 |  6.463475 |  9.661444 |\n",
       "| 4 |    13.868733 |    14.488936 |    13.25146 | 10000.00000 |    13.626807 |    17.634752 |  9.857158 | 11.91847 | 12.503228 | 13.934737 | ... | 11.575566 | 11.542841 | 10.786730 | 12.521695 | 15.152159 | 12.628971 | 13.172855 | 13.281009 | 13.845702 | 12.867492 |\n",
       "| 5 |     5.640105 |     4.620912 |    11.77906 |    13.62681 | 10000.000000 |     9.228834 | 11.936185 | 13.30075 |  3.928156 | 11.548447 | ... | 10.252126 |  8.576474 | 10.185059 | 10.814550 |  4.665264 | 11.092183 |  4.413893 | 10.472925 | 10.897659 |  6.703307 |\n",
       "| 6 |     9.484028 |     8.525335 |    12.16374 |    17.63475 |     9.228834 | 10000.000000 | 14.521761 | 15.66998 | 10.258284 | 12.289794 | ... | 12.607397 | 12.037416 | 13.108756 | 11.873481 |  7.522938 | 13.103665 | 10.369211 | 11.713702 | 11.584076 | 11.304711 |\n",
       "\n"
      ],
      "text/plain": [
       "  1            2            3           4           5            6           \n",
       "1 10000.000000     6.733718    12.95087    13.86873     5.640105     9.484028\n",
       "2     6.733718 10000.000000    12.48802    14.48894     4.620912     8.525335\n",
       "3    12.950874    12.488021 10000.00000    13.25146    11.779060    12.163735\n",
       "4    13.868733    14.488936    13.25146 10000.00000    13.626807    17.634752\n",
       "5     5.640105     4.620912    11.77906    13.62681 10000.000000     9.228834\n",
       "6     9.484028     8.525335    12.16374    17.63475     9.228834 10000.000000\n",
       "  7         8        9         10        ... 91        92        93       \n",
       "1 12.819046 14.99271  6.578266 12.416629 ... 10.632393  8.746328 10.653209\n",
       "2 13.525067 15.37121  3.853801 12.481298 ... 10.497548  8.721355 10.798775\n",
       "3  5.722745 11.74645 11.430270  4.484099 ...  9.091818  9.497251  7.539361\n",
       "4  9.857158 11.91847 12.503228 13.934737 ... 11.575566 11.542841 10.786730\n",
       "5 11.936185 13.30075  3.928156 11.548447 ... 10.252126  8.576474 10.185059\n",
       "6 14.521761 15.66998 10.258284 12.289794 ... 12.607397 12.037416 13.108756\n",
       "  94        95        96        97        98        99        100      \n",
       "1 11.261851  6.840006 11.644766  6.087696 10.911652 11.531411  8.397250\n",
       "2 10.840489  2.285064 11.474979  5.118460 10.450897 10.646511  7.479863\n",
       "3  5.219027 12.215795  8.044118 11.176717  7.259378  6.463475  9.661444\n",
       "4 12.521695 15.152159 12.628971 13.172855 13.281009 13.845702 12.867492\n",
       "5 10.814550  4.665264 11.092183  4.413893 10.472925 10.897659  6.703307\n",
       "6 11.873481  7.522938 13.103665 10.369211 11.713702 11.584076 11.304711"
      ]
     },
     "metadata": {},
     "output_type": "display_data"
    }
   ],
   "source": [
    "# fusedlasso + euclidian\n",
    "dist_euc_lasso=as.matrix(dist(lasso_fit_dt))\n",
    "diag(dist_euc_lasso)=large_number\n",
    "head(dist_euc_lasso)"
   ]
  },
  {
   "cell_type": "code",
   "execution_count": 90,
   "id": "dc2b2833-4201-4d69-97b1-2b7f3590f08c",
   "metadata": {
    "scrolled": true,
    "tags": []
   },
   "outputs": [
    {
     "name": "stdout",
     "output_type": "stream",
     "text": [
      "List of 5\n",
      " $ Run  1:List of 10\n",
      "  ..$ Fold  1 : int [1:10] 1 77 50 95 9 28 100 21 54 64\n",
      "  ..$ Fold  2 : int [1:10] 16 45 25 94 96 84 32 59 14 55\n",
      "  ..$ Fold  3 : int [1:10] 4 49 35 46 3 91 47 10 5 33\n",
      "  ..$ Fold  4 : int [1:10] 72 81 57 70 36 93 80 88 40 53\n",
      "  ..$ Fold  5 : int [1:10] 71 67 44 38 42 2 11 56 82 85\n",
      "  ..$ Fold  6 : int [1:10] 7 37 8 22 6 79 19 43 27 58\n",
      "  ..$ Fold  7 : int [1:10] 83 17 31 30 23 63 76 34 29 66\n",
      "  ..$ Fold  8 : int [1:10] 97 89 20 62 48 90 61 99 15 39\n",
      "  ..$ Fold  9 : int [1:10] 75 78 68 24 73 51 13 60 65 87\n",
      "  ..$ Fold  10: int [1:10] 69 18 41 26 12 74 98 86 52 92\n",
      " $ Run  2:List of 10\n",
      "  ..$ Fold  1 : int [1:10] 93 25 49 71 24 20 22 58 43 33\n",
      "  ..$ Fold  2 : int [1:10] 3 17 12 73 28 100 37 29 21 98\n",
      "  ..$ Fold  3 : int [1:10] 62 91 9 69 57 83 42 55 88 92\n",
      "  ..$ Fold  4 : int [1:10] 70 1 2 45 48 8 72 54 5 64\n",
      "  ..$ Fold  5 : int [1:10] 44 77 95 7 50 63 86 15 27 76\n",
      "  ..$ Fold  6 : int [1:10] 32 90 81 26 41 80 99 14 56 39\n",
      "  ..$ Fold  7 : int [1:10] 74 94 97 96 36 78 85 60 19 40\n",
      "  ..$ Fold  8 : int [1:10] 30 68 47 79 23 31 61 82 59 65\n",
      "  ..$ Fold  9 : int [1:10] 46 6 51 89 18 16 52 53 34 13\n",
      "  ..$ Fold  10: int [1:10] 75 84 35 4 38 67 66 11 87 10\n",
      " $ Run  3:List of 10\n",
      "  ..$ Fold  1 : int [1:10] 75 42 9 81 12 70 74 11 76 34\n",
      "  ..$ Fold  2 : int [1:10] 80 44 79 67 7 91 1 82 85 60\n",
      "  ..$ Fold  3 : int [1:10] 45 46 50 35 90 32 63 13 66 53\n",
      "  ..$ Fold  4 : int [1:10] 96 68 28 20 100 73 3 40 5 56\n",
      "  ..$ Fold  5 : int [1:10] 71 18 24 49 47 23 14 15 64 92\n",
      "  ..$ Fold  6 : int [1:10] 17 4 38 78 57 48 86 19 27 21\n",
      "  ..$ Fold  7 : int [1:10] 72 16 77 95 41 62 61 10 88 39\n",
      "  ..$ Fold  8 : int [1:10] 22 51 26 84 8 94 65 59 98 54\n",
      "  ..$ Fold  9 : int [1:10] 37 97 31 36 69 83 87 33 55 43\n",
      "  ..$ Fold  10: int [1:10] 2 25 89 6 93 30 52 99 29 58\n",
      " $ Run  4:List of 10\n",
      "  ..$ Fold  1 : int [1:10] 18 90 47 71 78 17 48 98 60 82\n",
      "  ..$ Fold  2 : int [1:10] 74 62 75 77 63 84 83 92 99 29\n",
      "  ..$ Fold  3 : int [1:10] 41 42 22 73 7 45 96 61 64 27\n",
      "  ..$ Fold  4 : int [1:10] 32 9 93 46 36 28 25 76 66 19\n",
      "  ..$ Fold  5 : int [1:10] 68 31 8 89 50 44 34 52 88 58\n",
      "  ..$ Fold  6 : int [1:10] 69 70 2 80 100 38 55 5 86 21\n",
      "  ..$ Fold  7 : int [1:10] 12 79 51 4 94 72 59 43 13 56\n",
      "  ..$ Fold  8 : int [1:10] 6 57 97 37 20 16 10 87 53 11\n",
      "  ..$ Fold  9 : int [1:10] 81 3 95 30 24 67 54 40 85 39\n",
      "  ..$ Fold  10: int [1:10] 91 49 23 1 26 35 14 15 33 65\n",
      " $ Run  5:List of 10\n",
      "  ..$ Fold  1 : int [1:10] 18 49 2 28 16 12 7 87 61 58\n",
      "  ..$ Fold  2 : int [1:10] 6 57 95 3 94 69 100 55 65 86\n",
      "  ..$ Fold  3 : int [1:10] 96 83 32 35 30 9 42 85 66 19\n",
      "  ..$ Fold  4 : int [1:10] 17 91 47 71 36 24 22 34 99 21\n",
      "  ..$ Fold  5 : int [1:10] 46 4 63 20 25 78 33 14 98 40\n",
      "  ..$ Fold  6 : int [1:10] 79 62 48 51 90 73 88 11 43 76\n",
      "  ..$ Fold  7 : int [1:10] 38 31 70 72 1 8 82 54 92 60\n",
      "  ..$ Fold  8 : int [1:10] 75 68 50 84 77 23 5 10 59 27\n",
      "  ..$ Fold  9 : int [1:10] 89 41 93 45 67 97 64 15 39 56\n",
      "  ..$ Fold  10: int [1:10] 80 37 44 26 81 74 52 29 53 13\n"
     ]
    }
   ],
   "source": [
    "# cv indices start here\n",
    "require(TunePareto)\n",
    "\n",
    "set.seed(15011998)\n",
    "nof_rep=5\n",
    "n_fold=10\n",
    "cv_indices=generateCVRuns(testclass, ntimes =nof_rep, nfold = n_fold, \n",
    "                          leaveOneOut = FALSE, stratified = TRUE)\n",
    "\n",
    "str(cv_indices)\n",
    "\n"
   ]
  },
  {
   "cell_type": "code",
   "execution_count": 91,
   "id": "f29f7467-2967-4638-a43d-7f3f6ebe4e04",
   "metadata": {},
   "outputs": [],
   "source": [
    "k_levels=c(5)\n",
    "result=vector('list',1*nof_rep*n_fold*length(k_levels))\n",
    "iter=1\n",
    "dist_mat=as.matrix(dist_euc_lasso)\n",
    "    for(i in 1:nof_rep){\n",
    "        this_fold=cv_indices[[i]]\n",
    "        for(j in 1:n_fold){\n",
    "            test_indices=this_fold[[j]]\n",
    "            for(k in 1:length(k_levels)){\n",
    "                current_k=k_levels[k]\n",
    "                current_fold=nn_classify_cv(dist_mat,testclass,test_indices,k=current_k)\n",
    "                accuracy=sum(testclass[test_indices]==current_fold$prediction$predicted)/length(test_indices)\n",
    "                tmp=data.table(approach='ECG200_euc_raw_lasso_dist',repid=i,foldid=j,\n",
    "                               k=current_k,acc=accuracy)\n",
    "                result[[iter]]=tmp\n",
    "                iter=iter+1\n",
    "                \n",
    "            }\n",
    "            \n",
    "        }\n",
    "    \n",
    "    }   \n",
    "    \n"
   ]
  },
  {
   "cell_type": "code",
   "execution_count": 93,
   "id": "b714cc45-9908-4722-9251-0fa1e54dd707",
   "metadata": {},
   "outputs": [
    {
     "data": {
      "text/html": [
       "<table class=\"dataframe\">\n",
       "<caption>A data.table: 1 × 5</caption>\n",
       "<thead>\n",
       "\t<tr><th scope=col>approach</th><th scope=col>k</th><th scope=col>avg_acc</th><th scope=col>sdev_acc</th><th scope=col>result_count</th></tr>\n",
       "\t<tr><th scope=col>&lt;chr&gt;</th><th scope=col>&lt;dbl&gt;</th><th scope=col>&lt;dbl&gt;</th><th scope=col>&lt;dbl&gt;</th><th scope=col>&lt;int&gt;</th></tr>\n",
       "</thead>\n",
       "<tbody>\n",
       "\t<tr><td>ECG200_euc_raw_lasso_dist</td><td>5</td><td>0.534</td><td>0.1318781</td><td>50</td></tr>\n",
       "</tbody>\n",
       "</table>\n"
      ],
      "text/latex": [
       "A data.table: 1 × 5\n",
       "\\begin{tabular}{lllll}\n",
       " approach & k & avg\\_acc & sdev\\_acc & result\\_count\\\\\n",
       " <chr> & <dbl> & <dbl> & <dbl> & <int>\\\\\n",
       "\\hline\n",
       "\t ECG200\\_euc\\_raw\\_lasso\\_dist & 5 & 0.534 & 0.1318781 & 50\\\\\n",
       "\\end{tabular}\n"
      ],
      "text/markdown": [
       "\n",
       "A data.table: 1 × 5\n",
       "\n",
       "| approach &lt;chr&gt; | k &lt;dbl&gt; | avg_acc &lt;dbl&gt; | sdev_acc &lt;dbl&gt; | result_count &lt;int&gt; |\n",
       "|---|---|---|---|---|\n",
       "| ECG200_euc_raw_lasso_dist | 5 | 0.534 | 0.1318781 | 50 |\n",
       "\n"
      ],
      "text/plain": [
       "  approach                  k avg_acc sdev_acc  result_count\n",
       "1 ECG200_euc_raw_lasso_dist 5 0.534   0.1318781 50          "
      ]
     },
     "metadata": {},
     "output_type": "display_data"
    }
   ],
   "source": [
    "overall_results=rbindlist(result)\n",
    "overall_results[,list(avg_acc=mean(acc),sdev_acc=sd(acc),result_count=.N),by=list(approach,k)]\n",
    "\n",
    "ECG200_test <- overall_results[,list(avg_acc=mean(acc),sdev_acc=sd(acc),result_count=.N),by=list(approach,k)]\n"
   ]
  },
  {
   "cell_type": "markdown",
   "id": "66fa3b64-6b61-419e-8a7c-d72474b01098",
   "metadata": {
    "tags": []
   },
   "source": [
    "## Trace"
   ]
  },
  {
   "cell_type": "code",
   "execution_count": 105,
   "id": "dacc667c-6c31-42fa-b5fe-d5b13c3525cf",
   "metadata": {},
   "outputs": [
    {
     "data": {
      "text/html": [
       "'C:/Users/brkmb/Desktop/kitaplar/IE48B/HW3/overall_summary'"
      ],
      "text/latex": [
       "'C:/Users/brkmb/Desktop/kitaplar/IE48B/HW3/overall\\_summary'"
      ],
      "text/markdown": [
       "'C:/Users/brkmb/Desktop/kitaplar/IE48B/HW3/overall_summary'"
      ],
      "text/plain": [
       "[1] \"C:/Users/brkmb/Desktop/kitaplar/IE48B/HW3/overall_summary\""
      ]
     },
     "metadata": {},
     "output_type": "display_data"
    }
   ],
   "source": [
    "current_folder=getwd()\n",
    "result_path <- sprintf('%s/overall_summary',current_folder)\n",
    "result_path\n",
    "summary_files <- list.files(result_path)"
   ]
  },
  {
   "cell_type": "code",
   "execution_count": 110,
   "id": "8e4637df-5819-411c-a089-e838c26a1e96",
   "metadata": {},
   "outputs": [
    {
     "data": {
      "text/html": [
       "<table class=\"dataframe\">\n",
       "<caption>A data.table: 6 × 5</caption>\n",
       "<thead>\n",
       "\t<tr><th scope=col>approach</th><th scope=col>k</th><th scope=col>avg_acc</th><th scope=col>sdev_acc</th><th scope=col>result_count</th></tr>\n",
       "\t<tr><th scope=col>&lt;chr&gt;</th><th scope=col>&lt;int&gt;</th><th scope=col>&lt;dbl&gt;</th><th scope=col>&lt;dbl&gt;</th><th scope=col>&lt;int&gt;</th></tr>\n",
       "</thead>\n",
       "<tbody>\n",
       "\t<tr><td>Trace_dtw_raw_dist.csv      </td><td>1</td><td>0.308</td><td>0.1827678</td><td>50</td></tr>\n",
       "\t<tr><td>Trace_dtw_raw_dist.csv      </td><td>3</td><td>0.332</td><td>0.2054761</td><td>50</td></tr>\n",
       "\t<tr><td>Trace_dtw_raw_dist.csv      </td><td>5</td><td>0.336</td><td>0.2087475</td><td>50</td></tr>\n",
       "\t<tr><td>Trace_dtw_raw_lasso_dist.csv</td><td>1</td><td>0.282</td><td>0.1223745</td><td>50</td></tr>\n",
       "\t<tr><td>Trace_dtw_raw_lasso_dist.csv</td><td>3</td><td>0.330</td><td>0.1328648</td><td>50</td></tr>\n",
       "\t<tr><td>Trace_dtw_raw_lasso_dist.csv</td><td>5</td><td>0.328</td><td>0.1414791</td><td>50</td></tr>\n",
       "</tbody>\n",
       "</table>\n"
      ],
      "text/latex": [
       "A data.table: 6 × 5\n",
       "\\begin{tabular}{lllll}\n",
       " approach & k & avg\\_acc & sdev\\_acc & result\\_count\\\\\n",
       " <chr> & <int> & <dbl> & <dbl> & <int>\\\\\n",
       "\\hline\n",
       "\t Trace\\_dtw\\_raw\\_dist.csv       & 1 & 0.308 & 0.1827678 & 50\\\\\n",
       "\t Trace\\_dtw\\_raw\\_dist.csv       & 3 & 0.332 & 0.2054761 & 50\\\\\n",
       "\t Trace\\_dtw\\_raw\\_dist.csv       & 5 & 0.336 & 0.2087475 & 50\\\\\n",
       "\t Trace\\_dtw\\_raw\\_lasso\\_dist.csv & 1 & 0.282 & 0.1223745 & 50\\\\\n",
       "\t Trace\\_dtw\\_raw\\_lasso\\_dist.csv & 3 & 0.330 & 0.1328648 & 50\\\\\n",
       "\t Trace\\_dtw\\_raw\\_lasso\\_dist.csv & 5 & 0.328 & 0.1414791 & 50\\\\\n",
       "\\end{tabular}\n"
      ],
      "text/markdown": [
       "\n",
       "A data.table: 6 × 5\n",
       "\n",
       "| approach &lt;chr&gt; | k &lt;int&gt; | avg_acc &lt;dbl&gt; | sdev_acc &lt;dbl&gt; | result_count &lt;int&gt; |\n",
       "|---|---|---|---|---|\n",
       "| Trace_dtw_raw_dist.csv       | 1 | 0.308 | 0.1827678 | 50 |\n",
       "| Trace_dtw_raw_dist.csv       | 3 | 0.332 | 0.2054761 | 50 |\n",
       "| Trace_dtw_raw_dist.csv       | 5 | 0.336 | 0.2087475 | 50 |\n",
       "| Trace_dtw_raw_lasso_dist.csv | 1 | 0.282 | 0.1223745 | 50 |\n",
       "| Trace_dtw_raw_lasso_dist.csv | 3 | 0.330 | 0.1328648 | 50 |\n",
       "| Trace_dtw_raw_lasso_dist.csv | 5 | 0.328 | 0.1414791 | 50 |\n",
       "\n"
      ],
      "text/plain": [
       "  approach                     k avg_acc sdev_acc  result_count\n",
       "1 Trace_dtw_raw_dist.csv       1 0.308   0.1827678 50          \n",
       "2 Trace_dtw_raw_dist.csv       3 0.332   0.2054761 50          \n",
       "3 Trace_dtw_raw_dist.csv       5 0.336   0.2087475 50          \n",
       "4 Trace_dtw_raw_lasso_dist.csv 1 0.282   0.1223745 50          \n",
       "5 Trace_dtw_raw_lasso_dist.csv 3 0.330   0.1328648 50          \n",
       "6 Trace_dtw_raw_lasso_dist.csv 5 0.328   0.1414791 50          "
      ]
     },
     "metadata": {},
     "output_type": "display_data"
    }
   ],
   "source": [
    "result_file <- fread(sprintf('%s/overall_summary/%s',current_folder,summary_files[5]))\n",
    "head(result_file)"
   ]
  },
  {
   "cell_type": "code",
   "execution_count": 111,
   "id": "7ee383c1-442d-44ac-9d61-96b831c58940",
   "metadata": {},
   "outputs": [
    {
     "data": {
      "text/html": [
       "<table class=\"dataframe\">\n",
       "<caption>A data.table: 1 × 5</caption>\n",
       "<thead>\n",
       "\t<tr><th scope=col>approach</th><th scope=col>k</th><th scope=col>avg_acc</th><th scope=col>sdev_acc</th><th scope=col>result_count</th></tr>\n",
       "\t<tr><th scope=col>&lt;chr&gt;</th><th scope=col>&lt;int&gt;</th><th scope=col>&lt;dbl&gt;</th><th scope=col>&lt;dbl&gt;</th><th scope=col>&lt;int&gt;</th></tr>\n",
       "</thead>\n",
       "<tbody>\n",
       "\t<tr><td>Trace_lcss_raw_epsilon_005.csv</td><td>5</td><td>0.378</td><td>0.1148024</td><td>50</td></tr>\n",
       "</tbody>\n",
       "</table>\n"
      ],
      "text/latex": [
       "A data.table: 1 × 5\n",
       "\\begin{tabular}{lllll}\n",
       " approach & k & avg\\_acc & sdev\\_acc & result\\_count\\\\\n",
       " <chr> & <int> & <dbl> & <dbl> & <int>\\\\\n",
       "\\hline\n",
       "\t Trace\\_lcss\\_raw\\_epsilon\\_005.csv & 5 & 0.378 & 0.1148024 & 50\\\\\n",
       "\\end{tabular}\n"
      ],
      "text/markdown": [
       "\n",
       "A data.table: 1 × 5\n",
       "\n",
       "| approach &lt;chr&gt; | k &lt;int&gt; | avg_acc &lt;dbl&gt; | sdev_acc &lt;dbl&gt; | result_count &lt;int&gt; |\n",
       "|---|---|---|---|---|\n",
       "| Trace_lcss_raw_epsilon_005.csv | 5 | 0.378 | 0.1148024 | 50 |\n",
       "\n"
      ],
      "text/plain": [
       "  approach                       k avg_acc sdev_acc  result_count\n",
       "1 Trace_lcss_raw_epsilon_005.csv 5 0.378   0.1148024 50          "
      ]
     },
     "metadata": {},
     "output_type": "display_data"
    }
   ],
   "source": [
    "result_file[which.max(result_file$avg_acc)]"
   ]
  },
  {
   "cell_type": "code",
   "execution_count": 112,
   "id": "07e3dbbc-5f0c-4b73-a620-add0736f310f",
   "metadata": {
    "tags": []
   },
   "outputs": [],
   "source": [
    "# assuming you have the data folder in your working directory in the following format:\n",
    "# 'working_directory/ClassificationData/dataset_name/'\n",
    "current_folder=getwd()\n",
    "dataset='Trace'\n",
    "main_path=sprintf('%s/ClassificationData/%s/%s',current_folder,dataset,dataset)\n",
    "\n",
    "dist_path=sprintf('%s/ClassificationData/%s/distances/%s',current_folder,dataset,dataset)\n",
    "\n",
    "train_data_path=sprintf('%s_TRAIN.txt',main_path)\n",
    "traindata=as.matrix(fread(train_data_path))\n",
    "traindata_rep = fread(train_data_path) ## for representations, class data needs to be hold.\n",
    "\n",
    "test_data_path=sprintf('%s_TEST.txt',main_path)\n",
    "testdata=as.matrix(fread(test_data_path))\n",
    "testdata_rep = fread(test_data_path)\n",
    "#first column is the class variable\n",
    "trainclass=traindata[,1] # takes -1 and 1\n",
    "testclass=testdata[,1] # takes -1 and 1\n",
    "\n",
    "#drop first column\n",
    "traindata=traindata[,2:ncol(traindata)]\n",
    "testdata=testdata[,2:ncol(testdata)]\n",
    "\n",
    "# instance characteristics\n",
    "tlength=ncol(traindata)\n",
    "n_series_train=nrow(traindata)\n",
    "n_series_test=nrow(testdata)"
   ]
  },
  {
   "cell_type": "code",
   "execution_count": 113,
   "id": "48bad31c-6139-49f3-a3f0-16135eaa0e06",
   "metadata": {},
   "outputs": [
    {
     "data": {
      "text/html": [
       "<table class=\"dataframe\">\n",
       "<caption>A matrix: 6 × 100 of type dbl</caption>\n",
       "<thead>\n",
       "\t<tr><th></th><th scope=col>1</th><th scope=col>2</th><th scope=col>3</th><th scope=col>4</th><th scope=col>5</th><th scope=col>6</th><th scope=col>7</th><th scope=col>8</th><th scope=col>9</th><th scope=col>10</th><th scope=col>...</th><th scope=col>91</th><th scope=col>92</th><th scope=col>93</th><th scope=col>94</th><th scope=col>95</th><th scope=col>96</th><th scope=col>97</th><th scope=col>98</th><th scope=col>99</th><th scope=col>100</th></tr>\n",
       "</thead>\n",
       "<tbody>\n",
       "\t<tr><th scope=row>1</th><td>10000</td><td>   42</td><td>   34</td><td>   73</td><td>   47</td><td>   41</td><td> 45</td><td> 95</td><td> 54</td><td>136</td><td>...</td><td> 40</td><td> 45</td><td> 47</td><td> 47</td><td> 41</td><td>181</td><td> 52</td><td>102</td><td> 32</td><td>112</td></tr>\n",
       "\t<tr><th scope=row>2</th><td>   42</td><td>10000</td><td>  113</td><td>  125</td><td>  214</td><td>  123</td><td>148</td><td>127</td><td>134</td><td> 38</td><td>...</td><td>121</td><td>207</td><td>207</td><td>152</td><td>106</td><td> 38</td><td>139</td><td>126</td><td>117</td><td> 40</td></tr>\n",
       "\t<tr><th scope=row>3</th><td>   34</td><td>  113</td><td>10000</td><td>   77</td><td>   89</td><td>  168</td><td> 93</td><td> 63</td><td> 93</td><td> 27</td><td>...</td><td>146</td><td>116</td><td>106</td><td> 96</td><td> 97</td><td> 36</td><td> 81</td><td> 54</td><td>207</td><td> 26</td></tr>\n",
       "\t<tr><th scope=row>4</th><td>   73</td><td>  125</td><td>   77</td><td>10000</td><td>  140</td><td>   96</td><td>191</td><td>217</td><td>215</td><td>115</td><td>...</td><td> 89</td><td>129</td><td>145</td><td>184</td><td> 99</td><td>108</td><td>201</td><td>190</td><td> 92</td><td>116</td></tr>\n",
       "\t<tr><th scope=row>5</th><td>   47</td><td>  214</td><td>   89</td><td>  140</td><td>10000</td><td>  114</td><td>178</td><td>133</td><td>157</td><td> 45</td><td>...</td><td>117</td><td>221</td><td>228</td><td>186</td><td>121</td><td> 45</td><td>168</td><td>133</td><td> 94</td><td> 50</td></tr>\n",
       "\t<tr><th scope=row>6</th><td>   41</td><td>  123</td><td>  168</td><td>   96</td><td>  114</td><td>10000</td><td>108</td><td> 91</td><td>100</td><td> 38</td><td>...</td><td>221</td><td>128</td><td>126</td><td>108</td><td>168</td><td> 45</td><td> 97</td><td> 89</td><td>203</td><td> 41</td></tr>\n",
       "</tbody>\n",
       "</table>\n"
      ],
      "text/latex": [
       "A matrix: 6 × 100 of type dbl\n",
       "\\begin{tabular}{r|lllllllllllllllllllll}\n",
       "  & 1 & 2 & 3 & 4 & 5 & 6 & 7 & 8 & 9 & 10 & ... & 91 & 92 & 93 & 94 & 95 & 96 & 97 & 98 & 99 & 100\\\\\n",
       "\\hline\n",
       "\t1 & 10000 &    42 &    34 &    73 &    47 &    41 &  45 &  95 &  54 & 136 & ... &  40 &  45 &  47 &  47 &  41 & 181 &  52 & 102 &  32 & 112\\\\\n",
       "\t2 &    42 & 10000 &   113 &   125 &   214 &   123 & 148 & 127 & 134 &  38 & ... & 121 & 207 & 207 & 152 & 106 &  38 & 139 & 126 & 117 &  40\\\\\n",
       "\t3 &    34 &   113 & 10000 &    77 &    89 &   168 &  93 &  63 &  93 &  27 & ... & 146 & 116 & 106 &  96 &  97 &  36 &  81 &  54 & 207 &  26\\\\\n",
       "\t4 &    73 &   125 &    77 & 10000 &   140 &    96 & 191 & 217 & 215 & 115 & ... &  89 & 129 & 145 & 184 &  99 & 108 & 201 & 190 &  92 & 116\\\\\n",
       "\t5 &    47 &   214 &    89 &   140 & 10000 &   114 & 178 & 133 & 157 &  45 & ... & 117 & 221 & 228 & 186 & 121 &  45 & 168 & 133 &  94 &  50\\\\\n",
       "\t6 &    41 &   123 &   168 &    96 &   114 & 10000 & 108 &  91 & 100 &  38 & ... & 221 & 128 & 126 & 108 & 168 &  45 &  97 &  89 & 203 &  41\\\\\n",
       "\\end{tabular}\n"
      ],
      "text/markdown": [
       "\n",
       "A matrix: 6 × 100 of type dbl\n",
       "\n",
       "| <!--/--> | 1 | 2 | 3 | 4 | 5 | 6 | 7 | 8 | 9 | 10 | ... | 91 | 92 | 93 | 94 | 95 | 96 | 97 | 98 | 99 | 100 |\n",
       "|---|---|---|---|---|---|---|---|---|---|---|---|---|---|---|---|---|---|---|---|---|---|\n",
       "| 1 | 10000 |    42 |    34 |    73 |    47 |    41 |  45 |  95 |  54 | 136 | ... |  40 |  45 |  47 |  47 |  41 | 181 |  52 | 102 |  32 | 112 |\n",
       "| 2 |    42 | 10000 |   113 |   125 |   214 |   123 | 148 | 127 | 134 |  38 | ... | 121 | 207 | 207 | 152 | 106 |  38 | 139 | 126 | 117 |  40 |\n",
       "| 3 |    34 |   113 | 10000 |    77 |    89 |   168 |  93 |  63 |  93 |  27 | ... | 146 | 116 | 106 |  96 |  97 |  36 |  81 |  54 | 207 |  26 |\n",
       "| 4 |    73 |   125 |    77 | 10000 |   140 |    96 | 191 | 217 | 215 | 115 | ... |  89 | 129 | 145 | 184 |  99 | 108 | 201 | 190 |  92 | 116 |\n",
       "| 5 |    47 |   214 |    89 |   140 | 10000 |   114 | 178 | 133 | 157 |  45 | ... | 117 | 221 | 228 | 186 | 121 |  45 | 168 | 133 |  94 |  50 |\n",
       "| 6 |    41 |   123 |   168 |    96 |   114 | 10000 | 108 |  91 | 100 |  38 | ... | 221 | 128 | 126 | 108 | 168 |  45 |  97 |  89 | 203 |  41 |\n",
       "\n"
      ],
      "text/plain": [
       "  1     2     3     4     5     6     7   8   9   10  ... 91  92  93  94  95 \n",
       "1 10000    42    34    73    47    41  45  95  54 136 ...  40  45  47  47  41\n",
       "2    42 10000   113   125   214   123 148 127 134  38 ... 121 207 207 152 106\n",
       "3    34   113 10000    77    89   168  93  63  93  27 ... 146 116 106  96  97\n",
       "4    73   125    77 10000   140    96 191 217 215 115 ...  89 129 145 184  99\n",
       "5    47   214    89   140 10000   114 178 133 157  45 ... 117 221 228 186 121\n",
       "6    41   123   168    96   114 10000 108  91 100  38 ... 221 128 126 108 168\n",
       "  96  97  98  99  100\n",
       "1 181  52 102  32 112\n",
       "2  38 139 126 117  40\n",
       "3  36  81  54 207  26\n",
       "4 108 201 190  92 116\n",
       "5  45 168 133  94  50\n",
       "6  45  97  89 203  41"
      ]
     },
     "metadata": {},
     "output_type": "display_data"
    }
   ],
   "source": [
    "# LCSS\n",
    "dist_lcss=TSDatabaseDistances(testdata,distance='lcss',epsilon=0.05)\n",
    "dist_lcss=as.matrix(dist_lcss)\n",
    "diag(dist_lcss)=large_number\n",
    "head(dist_lcss)"
   ]
  },
  {
   "cell_type": "code",
   "execution_count": 114,
   "id": "555ea07f-d7e6-4659-a83e-cefeb43e5c3b",
   "metadata": {
    "scrolled": true,
    "tags": []
   },
   "outputs": [
    {
     "name": "stdout",
     "output_type": "stream",
     "text": [
      "List of 5\n",
      " $ Run  1:List of 10\n",
      "  ..$ Fold  1 : int [1:10] 1 55 95 88 20 38 46 17 64 48\n",
      "  ..$ Fold  2 : int [1:10] 26 3 60 66 24 90 97 4 16 45\n",
      "  ..$ Fold  3 : int [1:10] 11 59 99 93 5 33 67 8 74 28\n",
      "  ..$ Fold  4 : int [1:10] 31 37 91 56 47 76 86 39 49 10\n",
      "  ..$ Fold  5 : int [1:10] 29 18 15 19 75 53 34 72 22 30\n",
      "  ..$ Fold  6 : int [1:10] 14 21 73 62 82 51 43 98 78 87\n",
      "  ..$ Fold  7 : int [1:10] 63 27 13 58 54 9 32 85 36 23\n",
      "  ..$ Fold  8 : int [1:10] 96 79 57 70 35 94 80 12 100 83\n",
      "  ..$ Fold  9 : int [1:10] 50 6 89 2 68 81 44 69 65 52\n",
      "  ..$ Fold  10: int [1:10] 61 41 92 84 71 77 25 7 40 42\n",
      " $ Run  2:List of 10\n",
      "  ..$ Fold  1 : int [1:10] 1 41 55 24 19 2 12 25 98 52\n",
      "  ..$ Fold  2 : int [1:10] 37 15 18 5 35 71 80 39 87 65\n",
      "  ..$ Fold  3 : int [1:10] 29 27 79 93 20 67 94 7 40 16\n",
      "  ..$ Fold  4 : int [1:10] 6 73 60 47 75 8 81 72 100 36\n",
      "  ..$ Fold  5 : int [1:10] 26 14 31 89 38 4 51 76 42 78\n",
      "  ..$ Fold  6 : int [1:10] 61 50 13 88 56 17 43 34 74 45\n",
      "  ..$ Fold  7 : int [1:10] 91 96 57 62 92 9 86 33 22 30\n",
      "  ..$ Fold  8 : int [1:10] 63 59 3 90 70 53 44 46 28 49\n",
      "  ..$ Fold  9 : int [1:10] 21 99 54 66 84 69 77 85 48 10\n",
      "  ..$ Fold  10: int [1:10] 11 95 82 58 68 32 64 97 83 23\n",
      " $ Run  3:List of 10\n",
      "  ..$ Fold  1 : int [1:10] 6 59 57 68 47 38 44 94 9 74\n",
      "  ..$ Fold  2 : int [1:10] 41 21 29 5 88 93 43 39 49 78\n",
      "  ..$ Fold  3 : int [1:10] 18 55 91 54 19 51 72 98 36 83\n",
      "  ..$ Fold  4 : int [1:10] 26 99 60 62 75 67 7 97 87 42\n",
      "  ..$ Fold  5 : int [1:10] 1 13 11 20 90 76 12 80 28 16\n",
      "  ..$ Fold  6 : int [1:10] 96 15 3 56 89 85 33 64 100 22\n",
      "  ..$ Fold  7 : int [1:10] 73 27 63 82 24 25 17 8 23 10\n",
      "  ..$ Fold  8 : int [1:10] 79 31 14 70 71 34 46 77 45 30\n",
      "  ..$ Fold  9 : int [1:10] 37 95 58 84 35 69 81 86 52 48\n",
      "  ..$ Fold  10: int [1:10] 50 61 66 2 92 53 32 4 40 65\n",
      " $ Run  4:List of 10\n",
      "  ..$ Fold  1 : int [1:10] 3 96 99 93 19 82 72 33 76 74\n",
      "  ..$ Fold  2 : int [1:10] 63 41 61 24 5 2 4 67 87 40\n",
      "  ..$ Fold  3 : int [1:10] 27 31 18 90 68 85 7 34 49 42\n",
      "  ..$ Fold  4 : int [1:10] 13 73 57 89 38 12 17 80 65 10\n",
      "  ..$ Fold  5 : int [1:10] 11 26 59 35 66 51 86 97 22 52\n",
      "  ..$ Fold  6 : int [1:10] 6 55 95 47 70 94 39 64 30 45\n",
      "  ..$ Fold  7 : int [1:10] 37 29 15 84 20 32 43 81 16 100\n",
      "  ..$ Fold  8 : int [1:10] 1 50 91 58 92 8 53 44 83 23\n",
      "  ..$ Fold  9 : int [1:10] 21 60 54 75 88 77 98 69 28 48\n",
      "  ..$ Fold  10: int [1:10] 14 79 56 71 62 9 46 25 78 36\n",
      " $ Run  5:List of 10\n",
      "  ..$ Fold  1 : int [1:10] 1 59 96 54 71 68 85 53 72 48\n",
      "  ..$ Fold  2 : int [1:10] 41 18 3 5 19 75 67 43 100 10\n",
      "  ..$ Fold  3 : int [1:10] 57 37 63 58 70 69 34 33 23 83\n",
      "  ..$ Fold  4 : int [1:10] 61 95 73 56 47 86 81 46 28 42\n",
      "  ..$ Fold  5 : int [1:10] 11 31 14 90 24 39 77 32 78 45\n",
      "  ..$ Fold  6 : int [1:10] 91 15 29 82 62 8 4 12 30 49\n",
      "  ..$ Fold  7 : int [1:10] 27 21 26 88 93 80 64 94 36 22\n",
      "  ..$ Fold  8 : int [1:10] 50 13 99 84 20 7 76 25 16 40\n",
      "  ..$ Fold  9 : int [1:10] 60 6 35 38 92 44 97 9 74 52\n",
      "  ..$ Fold  10: int [1:10] 79 55 89 2 66 98 17 51 65 87\n"
     ]
    }
   ],
   "source": [
    "# cv indices start here\n",
    "require(TunePareto)\n",
    "\n",
    "set.seed(15011998)\n",
    "nof_rep=5\n",
    "n_fold=10\n",
    "cv_indices=generateCVRuns(testclass, ntimes =nof_rep, nfold = n_fold, \n",
    "                          leaveOneOut = FALSE, stratified = TRUE)\n",
    "\n",
    "str(cv_indices)\n",
    "\n"
   ]
  },
  {
   "cell_type": "code",
   "execution_count": 115,
   "id": "9f349100-74bd-4478-b773-b9cfd59f6904",
   "metadata": {},
   "outputs": [],
   "source": [
    "k_levels=c(5)\n",
    "result=vector('list',1*nof_rep*n_fold*length(k_levels))\n",
    "iter=1\n",
    "dist_mat=as.matrix(dist_lcss)\n",
    "    for(i in 1:nof_rep){\n",
    "        this_fold=cv_indices[[i]]\n",
    "        for(j in 1:n_fold){\n",
    "            test_indices=this_fold[[j]]\n",
    "            for(k in 1:length(k_levels)){\n",
    "                current_k=k_levels[k]\n",
    "                current_fold=nn_classify_cv(dist_mat,testclass,test_indices,k=current_k)\n",
    "                accuracy=sum(testclass[test_indices]==current_fold$prediction$predicted)/length(test_indices)\n",
    "                tmp=data.table(approach='Trace_lcss_raw_epsilon_005',repid=i,foldid=j,\n",
    "                               k=current_k,acc=accuracy)\n",
    "                result[[iter]]=tmp\n",
    "                iter=iter+1\n",
    "                \n",
    "            }\n",
    "            \n",
    "        }\n",
    "    \n",
    "    }   \n",
    "    \n"
   ]
  },
  {
   "cell_type": "code",
   "execution_count": 116,
   "id": "44f30b86-18fe-4671-acee-f914676d8dde",
   "metadata": {},
   "outputs": [
    {
     "data": {
      "text/html": [
       "<table class=\"dataframe\">\n",
       "<caption>A data.table: 1 × 5</caption>\n",
       "<thead>\n",
       "\t<tr><th scope=col>approach</th><th scope=col>k</th><th scope=col>avg_acc</th><th scope=col>sdev_acc</th><th scope=col>result_count</th></tr>\n",
       "\t<tr><th scope=col>&lt;chr&gt;</th><th scope=col>&lt;dbl&gt;</th><th scope=col>&lt;dbl&gt;</th><th scope=col>&lt;dbl&gt;</th><th scope=col>&lt;int&gt;</th></tr>\n",
       "</thead>\n",
       "<tbody>\n",
       "\t<tr><td>Trace_lcss_raw_epsilon_005</td><td>5</td><td>0.216</td><td>0.120136</td><td>50</td></tr>\n",
       "</tbody>\n",
       "</table>\n"
      ],
      "text/latex": [
       "A data.table: 1 × 5\n",
       "\\begin{tabular}{lllll}\n",
       " approach & k & avg\\_acc & sdev\\_acc & result\\_count\\\\\n",
       " <chr> & <dbl> & <dbl> & <dbl> & <int>\\\\\n",
       "\\hline\n",
       "\t Trace\\_lcss\\_raw\\_epsilon\\_005 & 5 & 0.216 & 0.120136 & 50\\\\\n",
       "\\end{tabular}\n"
      ],
      "text/markdown": [
       "\n",
       "A data.table: 1 × 5\n",
       "\n",
       "| approach &lt;chr&gt; | k &lt;dbl&gt; | avg_acc &lt;dbl&gt; | sdev_acc &lt;dbl&gt; | result_count &lt;int&gt; |\n",
       "|---|---|---|---|---|\n",
       "| Trace_lcss_raw_epsilon_005 | 5 | 0.216 | 0.120136 | 50 |\n",
       "\n"
      ],
      "text/plain": [
       "  approach                   k avg_acc sdev_acc result_count\n",
       "1 Trace_lcss_raw_epsilon_005 5 0.216   0.120136 50          "
      ]
     },
     "metadata": {},
     "output_type": "display_data"
    }
   ],
   "source": [
    "overall_results=rbindlist(result)\n",
    "overall_results[,list(avg_acc=mean(acc),sdev_acc=sd(acc),result_count=.N),by=list(approach,k)]\n",
    "\n",
    "Trace_test <- overall_results[,list(avg_acc=mean(acc),sdev_acc=sd(acc),result_count=.N),by=list(approach,k)]\n"
   ]
  },
  {
   "cell_type": "markdown",
   "id": "7874a3a9-0bd8-48ce-9dc3-1c098a0cab2e",
   "metadata": {
    "tags": []
   },
   "source": [
    "## Fish"
   ]
  },
  {
   "cell_type": "code",
   "execution_count": 117,
   "id": "80250d14-85ce-4bf1-8ad3-159e813a8614",
   "metadata": {},
   "outputs": [
    {
     "data": {
      "text/html": [
       "'C:/Users/brkmb/Desktop/kitaplar/IE48B/HW3/overall_summary'"
      ],
      "text/latex": [
       "'C:/Users/brkmb/Desktop/kitaplar/IE48B/HW3/overall\\_summary'"
      ],
      "text/markdown": [
       "'C:/Users/brkmb/Desktop/kitaplar/IE48B/HW3/overall_summary'"
      ],
      "text/plain": [
       "[1] \"C:/Users/brkmb/Desktop/kitaplar/IE48B/HW3/overall_summary\""
      ]
     },
     "metadata": {},
     "output_type": "display_data"
    }
   ],
   "source": [
    "current_folder=getwd()\n",
    "result_path <- sprintf('%s/overall_summary',current_folder)\n",
    "result_path\n",
    "summary_files <- list.files(result_path)"
   ]
  },
  {
   "cell_type": "code",
   "execution_count": 123,
   "id": "9aa6aa15-c307-4459-a867-84fe3016cca3",
   "metadata": {},
   "outputs": [
    {
     "data": {
      "text/html": [
       "<table class=\"dataframe\">\n",
       "<caption>A data.table: 6 × 5</caption>\n",
       "<thead>\n",
       "\t<tr><th scope=col>approach</th><th scope=col>k</th><th scope=col>avg_acc</th><th scope=col>sdev_acc</th><th scope=col>result_count</th></tr>\n",
       "\t<tr><th scope=col>&lt;chr&gt;</th><th scope=col>&lt;int&gt;</th><th scope=col>&lt;dbl&gt;</th><th scope=col>&lt;dbl&gt;</th><th scope=col>&lt;int&gt;</th></tr>\n",
       "</thead>\n",
       "<tbody>\n",
       "\t<tr><td>Fish_dtw_raw_dist.csv      </td><td>1</td><td>0.2069935</td><td>0.09354002</td><td>50</td></tr>\n",
       "\t<tr><td>Fish_dtw_raw_dist.csv      </td><td>3</td><td>0.2125490</td><td>0.09287440</td><td>50</td></tr>\n",
       "\t<tr><td>Fish_dtw_raw_dist.csv      </td><td>5</td><td>0.2272549</td><td>0.11030237</td><td>50</td></tr>\n",
       "\t<tr><td>Fish_dtw_raw_lasso_dist.csv</td><td>1</td><td>0.1473203</td><td>0.07817485</td><td>50</td></tr>\n",
       "\t<tr><td>Fish_dtw_raw_lasso_dist.csv</td><td>3</td><td>0.1552288</td><td>0.08357654</td><td>50</td></tr>\n",
       "\t<tr><td>Fish_dtw_raw_lasso_dist.csv</td><td>5</td><td>0.1691503</td><td>0.10900514</td><td>50</td></tr>\n",
       "</tbody>\n",
       "</table>\n"
      ],
      "text/latex": [
       "A data.table: 6 × 5\n",
       "\\begin{tabular}{lllll}\n",
       " approach & k & avg\\_acc & sdev\\_acc & result\\_count\\\\\n",
       " <chr> & <int> & <dbl> & <dbl> & <int>\\\\\n",
       "\\hline\n",
       "\t Fish\\_dtw\\_raw\\_dist.csv       & 1 & 0.2069935 & 0.09354002 & 50\\\\\n",
       "\t Fish\\_dtw\\_raw\\_dist.csv       & 3 & 0.2125490 & 0.09287440 & 50\\\\\n",
       "\t Fish\\_dtw\\_raw\\_dist.csv       & 5 & 0.2272549 & 0.11030237 & 50\\\\\n",
       "\t Fish\\_dtw\\_raw\\_lasso\\_dist.csv & 1 & 0.1473203 & 0.07817485 & 50\\\\\n",
       "\t Fish\\_dtw\\_raw\\_lasso\\_dist.csv & 3 & 0.1552288 & 0.08357654 & 50\\\\\n",
       "\t Fish\\_dtw\\_raw\\_lasso\\_dist.csv & 5 & 0.1691503 & 0.10900514 & 50\\\\\n",
       "\\end{tabular}\n"
      ],
      "text/markdown": [
       "\n",
       "A data.table: 6 × 5\n",
       "\n",
       "| approach &lt;chr&gt; | k &lt;int&gt; | avg_acc &lt;dbl&gt; | sdev_acc &lt;dbl&gt; | result_count &lt;int&gt; |\n",
       "|---|---|---|---|---|\n",
       "| Fish_dtw_raw_dist.csv       | 1 | 0.2069935 | 0.09354002 | 50 |\n",
       "| Fish_dtw_raw_dist.csv       | 3 | 0.2125490 | 0.09287440 | 50 |\n",
       "| Fish_dtw_raw_dist.csv       | 5 | 0.2272549 | 0.11030237 | 50 |\n",
       "| Fish_dtw_raw_lasso_dist.csv | 1 | 0.1473203 | 0.07817485 | 50 |\n",
       "| Fish_dtw_raw_lasso_dist.csv | 3 | 0.1552288 | 0.08357654 | 50 |\n",
       "| Fish_dtw_raw_lasso_dist.csv | 5 | 0.1691503 | 0.10900514 | 50 |\n",
       "\n"
      ],
      "text/plain": [
       "  approach                    k avg_acc   sdev_acc   result_count\n",
       "1 Fish_dtw_raw_dist.csv       1 0.2069935 0.09354002 50          \n",
       "2 Fish_dtw_raw_dist.csv       3 0.2125490 0.09287440 50          \n",
       "3 Fish_dtw_raw_dist.csv       5 0.2272549 0.11030237 50          \n",
       "4 Fish_dtw_raw_lasso_dist.csv 1 0.1473203 0.07817485 50          \n",
       "5 Fish_dtw_raw_lasso_dist.csv 3 0.1552288 0.08357654 50          \n",
       "6 Fish_dtw_raw_lasso_dist.csv 5 0.1691503 0.10900514 50          "
      ]
     },
     "metadata": {},
     "output_type": "display_data"
    }
   ],
   "source": [
    "result_file <- fread(sprintf('%s/overall_summary/%s',current_folder,summary_files[2]))\n",
    "head(result_file)"
   ]
  },
  {
   "cell_type": "code",
   "execution_count": 124,
   "id": "132c2873-0fb2-4c12-97f0-f28fd7bb4534",
   "metadata": {},
   "outputs": [
    {
     "data": {
      "text/html": [
       "<table class=\"dataframe\">\n",
       "<caption>A data.table: 1 × 5</caption>\n",
       "<thead>\n",
       "\t<tr><th scope=col>approach</th><th scope=col>k</th><th scope=col>avg_acc</th><th scope=col>sdev_acc</th><th scope=col>result_count</th></tr>\n",
       "\t<tr><th scope=col>&lt;chr&gt;</th><th scope=col>&lt;int&gt;</th><th scope=col>&lt;dbl&gt;</th><th scope=col>&lt;dbl&gt;</th><th scope=col>&lt;int&gt;</th></tr>\n",
       "</thead>\n",
       "<tbody>\n",
       "\t<tr><td>Fish_erp_raw_gap_005.csv</td><td>5</td><td>0.2376471</td><td>0.1219087</td><td>50</td></tr>\n",
       "</tbody>\n",
       "</table>\n"
      ],
      "text/latex": [
       "A data.table: 1 × 5\n",
       "\\begin{tabular}{lllll}\n",
       " approach & k & avg\\_acc & sdev\\_acc & result\\_count\\\\\n",
       " <chr> & <int> & <dbl> & <dbl> & <int>\\\\\n",
       "\\hline\n",
       "\t Fish\\_erp\\_raw\\_gap\\_005.csv & 5 & 0.2376471 & 0.1219087 & 50\\\\\n",
       "\\end{tabular}\n"
      ],
      "text/markdown": [
       "\n",
       "A data.table: 1 × 5\n",
       "\n",
       "| approach &lt;chr&gt; | k &lt;int&gt; | avg_acc &lt;dbl&gt; | sdev_acc &lt;dbl&gt; | result_count &lt;int&gt; |\n",
       "|---|---|---|---|---|\n",
       "| Fish_erp_raw_gap_005.csv | 5 | 0.2376471 | 0.1219087 | 50 |\n",
       "\n"
      ],
      "text/plain": [
       "  approach                 k avg_acc   sdev_acc  result_count\n",
       "1 Fish_erp_raw_gap_005.csv 5 0.2376471 0.1219087 50          "
      ]
     },
     "metadata": {},
     "output_type": "display_data"
    }
   ],
   "source": [
    "result_file[which.max(result_file$avg_acc)]"
   ]
  },
  {
   "cell_type": "code",
   "execution_count": 125,
   "id": "acdb3737-a5a1-4b91-8dbf-586ea4c6a38f",
   "metadata": {
    "tags": []
   },
   "outputs": [],
   "source": [
    "# assuming you have the data folder in your working directory in the following format:\n",
    "# 'working_directory/ClassificationData/dataset_name/'\n",
    "current_folder=getwd()\n",
    "dataset='Trace'\n",
    "main_path=sprintf('%s/ClassificationData/%s/%s',current_folder,dataset,dataset)\n",
    "\n",
    "dist_path=sprintf('%s/ClassificationData/%s/distances/%s',current_folder,dataset,dataset)\n",
    "\n",
    "train_data_path=sprintf('%s_TRAIN.txt',main_path)\n",
    "traindata=as.matrix(fread(train_data_path))\n",
    "traindata_rep = fread(train_data_path) ## for representations, class data needs to be hold.\n",
    "\n",
    "test_data_path=sprintf('%s_TEST.txt',main_path)\n",
    "testdata=as.matrix(fread(test_data_path))\n",
    "testdata_rep = fread(test_data_path)\n",
    "#first column is the class variable\n",
    "trainclass=traindata[,1] # takes -1 and 1\n",
    "testclass=testdata[,1] # takes -1 and 1\n",
    "\n",
    "#drop first column\n",
    "traindata=traindata[,2:ncol(traindata)]\n",
    "testdata=testdata[,2:ncol(testdata)]\n",
    "\n",
    "# instance characteristics\n",
    "tlength=ncol(traindata)\n",
    "n_series_train=nrow(traindata)\n",
    "n_series_test=nrow(testdata)"
   ]
  },
  {
   "cell_type": "code",
   "execution_count": 127,
   "id": "01ffd797-63ab-4579-8bc7-f21f6651d48a",
   "metadata": {},
   "outputs": [
    {
     "data": {
      "text/html": [
       "<table class=\"dataframe\">\n",
       "<caption>A matrix: 6 × 100 of type dbl</caption>\n",
       "<thead>\n",
       "\t<tr><th></th><th scope=col>1</th><th scope=col>2</th><th scope=col>3</th><th scope=col>4</th><th scope=col>5</th><th scope=col>6</th><th scope=col>7</th><th scope=col>8</th><th scope=col>9</th><th scope=col>10</th><th scope=col>...</th><th scope=col>91</th><th scope=col>92</th><th scope=col>93</th><th scope=col>94</th><th scope=col>95</th><th scope=col>96</th><th scope=col>97</th><th scope=col>98</th><th scope=col>99</th><th scope=col>100</th></tr>\n",
       "</thead>\n",
       "<tbody>\n",
       "\t<tr><th scope=row>1</th><td>10000.0000</td><td>  134.76189</td><td>  154.50479</td><td>  114.54812</td><td>  126.52280</td><td>  129.09953</td><td>135.71716</td><td>116.09486</td><td>122.85897</td><td> 38.86499</td><td>...</td><td>121.42211</td><td>124.27134</td><td>123.63886</td><td>136.37701</td><td>104.54270</td><td> 27.30391</td><td>135.18612</td><td>127.06520</td><td>144.10821</td><td> 44.86471</td></tr>\n",
       "\t<tr><th scope=row>2</th><td>  134.7619</td><td>10000.00000</td><td>   83.58826</td><td>   51.44008</td><td>   16.82923</td><td>   78.34217</td><td> 49.78171</td><td> 51.64496</td><td> 51.09915</td><td>116.81555</td><td>...</td><td> 79.67025</td><td> 18.52168</td><td> 17.48572</td><td> 48.91614</td><td> 85.08042</td><td>121.75635</td><td> 45.95431</td><td> 53.20548</td><td> 80.71447</td><td>112.55945</td></tr>\n",
       "\t<tr><th scope=row>3</th><td>  154.5048</td><td>   83.58826</td><td>10000.00000</td><td>   80.31223</td><td>   95.42967</td><td>   34.58958</td><td> 63.94953</td><td> 91.54711</td><td> 69.21203</td><td>130.21316</td><td>...</td><td> 45.27293</td><td> 90.82412</td><td> 91.30024</td><td> 65.57319</td><td> 66.50950</td><td>136.54098</td><td> 72.35115</td><td>103.04936</td><td> 18.65834</td><td>125.36645</td></tr>\n",
       "\t<tr><th scope=row>4</th><td>  114.5481</td><td>   51.44008</td><td>   80.31223</td><td>10000.00000</td><td>   50.83663</td><td>   68.89272</td><td> 28.84965</td><td> 18.60148</td><td> 17.51135</td><td> 93.19252</td><td>...</td><td> 68.58391</td><td> 49.41968</td><td> 46.03039</td><td> 29.50848</td><td> 71.02986</td><td>100.00777</td><td> 26.35218</td><td> 39.01221</td><td> 73.75224</td><td> 88.90665</td></tr>\n",
       "\t<tr><th scope=row>5</th><td>  126.5228</td><td>   16.82923</td><td>   95.42967</td><td>   50.83663</td><td>10000.00000</td><td>   85.80286</td><td> 53.77338</td><td> 47.49790</td><td> 53.36712</td><td>110.80021</td><td>...</td><td> 84.57160</td><td> 15.33114</td><td> 12.22592</td><td> 50.11016</td><td> 86.53476</td><td>114.65945</td><td> 48.33709</td><td> 45.68340</td><td> 90.80299</td><td>107.27404</td></tr>\n",
       "\t<tr><th scope=row>6</th><td>  129.0995</td><td>   78.34217</td><td>   34.58958</td><td>   68.89272</td><td>   85.80286</td><td>10000.00000</td><td> 63.36386</td><td> 78.09243</td><td> 61.34540</td><td>102.27484</td><td>...</td><td> 15.46658</td><td> 80.82800</td><td> 80.25583</td><td> 60.96353</td><td> 35.03629</td><td>109.14831</td><td> 69.18164</td><td> 90.92156</td><td> 20.38468</td><td> 97.05716</td></tr>\n",
       "</tbody>\n",
       "</table>\n"
      ],
      "text/latex": [
       "A matrix: 6 × 100 of type dbl\n",
       "\\begin{tabular}{r|lllllllllllllllllllll}\n",
       "  & 1 & 2 & 3 & 4 & 5 & 6 & 7 & 8 & 9 & 10 & ... & 91 & 92 & 93 & 94 & 95 & 96 & 97 & 98 & 99 & 100\\\\\n",
       "\\hline\n",
       "\t1 & 10000.0000 &   134.76189 &   154.50479 &   114.54812 &   126.52280 &   129.09953 & 135.71716 & 116.09486 & 122.85897 &  38.86499 & ... & 121.42211 & 124.27134 & 123.63886 & 136.37701 & 104.54270 &  27.30391 & 135.18612 & 127.06520 & 144.10821 &  44.86471\\\\\n",
       "\t2 &   134.7619 & 10000.00000 &    83.58826 &    51.44008 &    16.82923 &    78.34217 &  49.78171 &  51.64496 &  51.09915 & 116.81555 & ... &  79.67025 &  18.52168 &  17.48572 &  48.91614 &  85.08042 & 121.75635 &  45.95431 &  53.20548 &  80.71447 & 112.55945\\\\\n",
       "\t3 &   154.5048 &    83.58826 & 10000.00000 &    80.31223 &    95.42967 &    34.58958 &  63.94953 &  91.54711 &  69.21203 & 130.21316 & ... &  45.27293 &  90.82412 &  91.30024 &  65.57319 &  66.50950 & 136.54098 &  72.35115 & 103.04936 &  18.65834 & 125.36645\\\\\n",
       "\t4 &   114.5481 &    51.44008 &    80.31223 & 10000.00000 &    50.83663 &    68.89272 &  28.84965 &  18.60148 &  17.51135 &  93.19252 & ... &  68.58391 &  49.41968 &  46.03039 &  29.50848 &  71.02986 & 100.00777 &  26.35218 &  39.01221 &  73.75224 &  88.90665\\\\\n",
       "\t5 &   126.5228 &    16.82923 &    95.42967 &    50.83663 & 10000.00000 &    85.80286 &  53.77338 &  47.49790 &  53.36712 & 110.80021 & ... &  84.57160 &  15.33114 &  12.22592 &  50.11016 &  86.53476 & 114.65945 &  48.33709 &  45.68340 &  90.80299 & 107.27404\\\\\n",
       "\t6 &   129.0995 &    78.34217 &    34.58958 &    68.89272 &    85.80286 & 10000.00000 &  63.36386 &  78.09243 &  61.34540 & 102.27484 & ... &  15.46658 &  80.82800 &  80.25583 &  60.96353 &  35.03629 & 109.14831 &  69.18164 &  90.92156 &  20.38468 &  97.05716\\\\\n",
       "\\end{tabular}\n"
      ],
      "text/markdown": [
       "\n",
       "A matrix: 6 × 100 of type dbl\n",
       "\n",
       "| <!--/--> | 1 | 2 | 3 | 4 | 5 | 6 | 7 | 8 | 9 | 10 | ... | 91 | 92 | 93 | 94 | 95 | 96 | 97 | 98 | 99 | 100 |\n",
       "|---|---|---|---|---|---|---|---|---|---|---|---|---|---|---|---|---|---|---|---|---|---|\n",
       "| 1 | 10000.0000 |   134.76189 |   154.50479 |   114.54812 |   126.52280 |   129.09953 | 135.71716 | 116.09486 | 122.85897 |  38.86499 | ... | 121.42211 | 124.27134 | 123.63886 | 136.37701 | 104.54270 |  27.30391 | 135.18612 | 127.06520 | 144.10821 |  44.86471 |\n",
       "| 2 |   134.7619 | 10000.00000 |    83.58826 |    51.44008 |    16.82923 |    78.34217 |  49.78171 |  51.64496 |  51.09915 | 116.81555 | ... |  79.67025 |  18.52168 |  17.48572 |  48.91614 |  85.08042 | 121.75635 |  45.95431 |  53.20548 |  80.71447 | 112.55945 |\n",
       "| 3 |   154.5048 |    83.58826 | 10000.00000 |    80.31223 |    95.42967 |    34.58958 |  63.94953 |  91.54711 |  69.21203 | 130.21316 | ... |  45.27293 |  90.82412 |  91.30024 |  65.57319 |  66.50950 | 136.54098 |  72.35115 | 103.04936 |  18.65834 | 125.36645 |\n",
       "| 4 |   114.5481 |    51.44008 |    80.31223 | 10000.00000 |    50.83663 |    68.89272 |  28.84965 |  18.60148 |  17.51135 |  93.19252 | ... |  68.58391 |  49.41968 |  46.03039 |  29.50848 |  71.02986 | 100.00777 |  26.35218 |  39.01221 |  73.75224 |  88.90665 |\n",
       "| 5 |   126.5228 |    16.82923 |    95.42967 |    50.83663 | 10000.00000 |    85.80286 |  53.77338 |  47.49790 |  53.36712 | 110.80021 | ... |  84.57160 |  15.33114 |  12.22592 |  50.11016 |  86.53476 | 114.65945 |  48.33709 |  45.68340 |  90.80299 | 107.27404 |\n",
       "| 6 |   129.0995 |    78.34217 |    34.58958 |    68.89272 |    85.80286 | 10000.00000 |  63.36386 |  78.09243 |  61.34540 | 102.27484 | ... |  15.46658 |  80.82800 |  80.25583 |  60.96353 |  35.03629 | 109.14831 |  69.18164 |  90.92156 |  20.38468 |  97.05716 |\n",
       "\n"
      ],
      "text/plain": [
       "  1          2           3           4           5           6          \n",
       "1 10000.0000   134.76189   154.50479   114.54812   126.52280   129.09953\n",
       "2   134.7619 10000.00000    83.58826    51.44008    16.82923    78.34217\n",
       "3   154.5048    83.58826 10000.00000    80.31223    95.42967    34.58958\n",
       "4   114.5481    51.44008    80.31223 10000.00000    50.83663    68.89272\n",
       "5   126.5228    16.82923    95.42967    50.83663 10000.00000    85.80286\n",
       "6   129.0995    78.34217    34.58958    68.89272    85.80286 10000.00000\n",
       "  7         8         9         10        ... 91        92        93       \n",
       "1 135.71716 116.09486 122.85897  38.86499 ... 121.42211 124.27134 123.63886\n",
       "2  49.78171  51.64496  51.09915 116.81555 ...  79.67025  18.52168  17.48572\n",
       "3  63.94953  91.54711  69.21203 130.21316 ...  45.27293  90.82412  91.30024\n",
       "4  28.84965  18.60148  17.51135  93.19252 ...  68.58391  49.41968  46.03039\n",
       "5  53.77338  47.49790  53.36712 110.80021 ...  84.57160  15.33114  12.22592\n",
       "6  63.36386  78.09243  61.34540 102.27484 ...  15.46658  80.82800  80.25583\n",
       "  94        95        96        97        98        99        100      \n",
       "1 136.37701 104.54270  27.30391 135.18612 127.06520 144.10821  44.86471\n",
       "2  48.91614  85.08042 121.75635  45.95431  53.20548  80.71447 112.55945\n",
       "3  65.57319  66.50950 136.54098  72.35115 103.04936  18.65834 125.36645\n",
       "4  29.50848  71.02986 100.00777  26.35218  39.01221  73.75224  88.90665\n",
       "5  50.11016  86.53476 114.65945  48.33709  45.68340  90.80299 107.27404\n",
       "6  60.96353  35.03629 109.14831  69.18164  90.92156  20.38468  97.05716"
      ]
     },
     "metadata": {},
     "output_type": "display_data"
    }
   ],
   "source": [
    "# ERP \n",
    "dist_erp=TSDatabaseDistances(testdata,distance='erp',g=0.5)\n",
    "dist_erp=as.matrix(dist_erp)\n",
    "diag(dist_erp)=large_number\n",
    "\n",
    "head(dist_erp)\n",
    "  "
   ]
  },
  {
   "cell_type": "code",
   "execution_count": 129,
   "id": "1d38d566-27a2-4702-87fb-35e98913f57f",
   "metadata": {
    "scrolled": true,
    "tags": []
   },
   "outputs": [
    {
     "name": "stdout",
     "output_type": "stream",
     "text": [
      "List of 5\n",
      " $ Run  1:List of 10\n",
      "  ..$ Fold  1 : int [1:10] 1 55 95 88 20 38 46 17 64 48\n",
      "  ..$ Fold  2 : int [1:10] 26 3 60 66 24 90 97 4 16 45\n",
      "  ..$ Fold  3 : int [1:10] 11 59 99 93 5 33 67 8 74 28\n",
      "  ..$ Fold  4 : int [1:10] 31 37 91 56 47 76 86 39 49 10\n",
      "  ..$ Fold  5 : int [1:10] 29 18 15 19 75 53 34 72 22 30\n",
      "  ..$ Fold  6 : int [1:10] 14 21 73 62 82 51 43 98 78 87\n",
      "  ..$ Fold  7 : int [1:10] 63 27 13 58 54 9 32 85 36 23\n",
      "  ..$ Fold  8 : int [1:10] 96 79 57 70 35 94 80 12 100 83\n",
      "  ..$ Fold  9 : int [1:10] 50 6 89 2 68 81 44 69 65 52\n",
      "  ..$ Fold  10: int [1:10] 61 41 92 84 71 77 25 7 40 42\n",
      " $ Run  2:List of 10\n",
      "  ..$ Fold  1 : int [1:10] 1 41 55 24 19 2 12 25 98 52\n",
      "  ..$ Fold  2 : int [1:10] 37 15 18 5 35 71 80 39 87 65\n",
      "  ..$ Fold  3 : int [1:10] 29 27 79 93 20 67 94 7 40 16\n",
      "  ..$ Fold  4 : int [1:10] 6 73 60 47 75 8 81 72 100 36\n",
      "  ..$ Fold  5 : int [1:10] 26 14 31 89 38 4 51 76 42 78\n",
      "  ..$ Fold  6 : int [1:10] 61 50 13 88 56 17 43 34 74 45\n",
      "  ..$ Fold  7 : int [1:10] 91 96 57 62 92 9 86 33 22 30\n",
      "  ..$ Fold  8 : int [1:10] 63 59 3 90 70 53 44 46 28 49\n",
      "  ..$ Fold  9 : int [1:10] 21 99 54 66 84 69 77 85 48 10\n",
      "  ..$ Fold  10: int [1:10] 11 95 82 58 68 32 64 97 83 23\n",
      " $ Run  3:List of 10\n",
      "  ..$ Fold  1 : int [1:10] 6 59 57 68 47 38 44 94 9 74\n",
      "  ..$ Fold  2 : int [1:10] 41 21 29 5 88 93 43 39 49 78\n",
      "  ..$ Fold  3 : int [1:10] 18 55 91 54 19 51 72 98 36 83\n",
      "  ..$ Fold  4 : int [1:10] 26 99 60 62 75 67 7 97 87 42\n",
      "  ..$ Fold  5 : int [1:10] 1 13 11 20 90 76 12 80 28 16\n",
      "  ..$ Fold  6 : int [1:10] 96 15 3 56 89 85 33 64 100 22\n",
      "  ..$ Fold  7 : int [1:10] 73 27 63 82 24 25 17 8 23 10\n",
      "  ..$ Fold  8 : int [1:10] 79 31 14 70 71 34 46 77 45 30\n",
      "  ..$ Fold  9 : int [1:10] 37 95 58 84 35 69 81 86 52 48\n",
      "  ..$ Fold  10: int [1:10] 50 61 66 2 92 53 32 4 40 65\n",
      " $ Run  4:List of 10\n",
      "  ..$ Fold  1 : int [1:10] 3 96 99 93 19 82 72 33 76 74\n",
      "  ..$ Fold  2 : int [1:10] 63 41 61 24 5 2 4 67 87 40\n",
      "  ..$ Fold  3 : int [1:10] 27 31 18 90 68 85 7 34 49 42\n",
      "  ..$ Fold  4 : int [1:10] 13 73 57 89 38 12 17 80 65 10\n",
      "  ..$ Fold  5 : int [1:10] 11 26 59 35 66 51 86 97 22 52\n",
      "  ..$ Fold  6 : int [1:10] 6 55 95 47 70 94 39 64 30 45\n",
      "  ..$ Fold  7 : int [1:10] 37 29 15 84 20 32 43 81 16 100\n",
      "  ..$ Fold  8 : int [1:10] 1 50 91 58 92 8 53 44 83 23\n",
      "  ..$ Fold  9 : int [1:10] 21 60 54 75 88 77 98 69 28 48\n",
      "  ..$ Fold  10: int [1:10] 14 79 56 71 62 9 46 25 78 36\n",
      " $ Run  5:List of 10\n",
      "  ..$ Fold  1 : int [1:10] 1 59 96 54 71 68 85 53 72 48\n",
      "  ..$ Fold  2 : int [1:10] 41 18 3 5 19 75 67 43 100 10\n",
      "  ..$ Fold  3 : int [1:10] 57 37 63 58 70 69 34 33 23 83\n",
      "  ..$ Fold  4 : int [1:10] 61 95 73 56 47 86 81 46 28 42\n",
      "  ..$ Fold  5 : int [1:10] 11 31 14 90 24 39 77 32 78 45\n",
      "  ..$ Fold  6 : int [1:10] 91 15 29 82 62 8 4 12 30 49\n",
      "  ..$ Fold  7 : int [1:10] 27 21 26 88 93 80 64 94 36 22\n",
      "  ..$ Fold  8 : int [1:10] 50 13 99 84 20 7 76 25 16 40\n",
      "  ..$ Fold  9 : int [1:10] 60 6 35 38 92 44 97 9 74 52\n",
      "  ..$ Fold  10: int [1:10] 79 55 89 2 66 98 17 51 65 87\n"
     ]
    }
   ],
   "source": [
    "# cv indices start here\n",
    "require(TunePareto)\n",
    "\n",
    "set.seed(15011998)\n",
    "nof_rep=5\n",
    "n_fold=10\n",
    "cv_indices=generateCVRuns(testclass, ntimes =nof_rep, nfold = n_fold, \n",
    "                          leaveOneOut = FALSE, stratified = TRUE)\n",
    "\n",
    "str(cv_indices)\n",
    "\n"
   ]
  },
  {
   "cell_type": "code",
   "execution_count": 132,
   "id": "59fb5920-f60c-4281-9d95-929dee0170f1",
   "metadata": {},
   "outputs": [],
   "source": [
    "k_levels=c(5)\n",
    "result=vector('list',1*nof_rep*n_fold*length(k_levels))\n",
    "iter=1\n",
    "dist_mat=as.matrix(dist_erp)\n",
    "    for(i in 1:nof_rep){\n",
    "        this_fold=cv_indices[[i]]\n",
    "        for(j in 1:n_fold){\n",
    "            test_indices=this_fold[[j]]\n",
    "            for(k in 1:length(k_levels)){\n",
    "                current_k=k_levels[k]\n",
    "                current_fold=nn_classify_cv(dist_mat,testclass,test_indices,k=current_k)\n",
    "                accuracy=sum(testclass[test_indices]==current_fold$prediction$predicted)/length(test_indices)\n",
    "                tmp=data.table(approach='Fish_erp_raw_gap_005',repid=i,foldid=j,\n",
    "                               k=current_k,acc=accuracy)\n",
    "                result[[iter]]=tmp\n",
    "                iter=iter+1\n",
    "                \n",
    "            }\n",
    "            \n",
    "        }\n",
    "    \n",
    "    }   \n",
    "    \n"
   ]
  },
  {
   "cell_type": "code",
   "execution_count": 133,
   "id": "95b17921-e4b2-40cf-93f9-0abf5bc0b998",
   "metadata": {},
   "outputs": [
    {
     "data": {
      "text/html": [
       "<table class=\"dataframe\">\n",
       "<caption>A data.table: 1 × 5</caption>\n",
       "<thead>\n",
       "\t<tr><th scope=col>approach</th><th scope=col>k</th><th scope=col>avg_acc</th><th scope=col>sdev_acc</th><th scope=col>result_count</th></tr>\n",
       "\t<tr><th scope=col>&lt;chr&gt;</th><th scope=col>&lt;dbl&gt;</th><th scope=col>&lt;dbl&gt;</th><th scope=col>&lt;dbl&gt;</th><th scope=col>&lt;int&gt;</th></tr>\n",
       "</thead>\n",
       "<tbody>\n",
       "\t<tr><td>Fish_erp_raw_gap_005</td><td>5</td><td>0.34</td><td>0.2185294</td><td>50</td></tr>\n",
       "</tbody>\n",
       "</table>\n"
      ],
      "text/latex": [
       "A data.table: 1 × 5\n",
       "\\begin{tabular}{lllll}\n",
       " approach & k & avg\\_acc & sdev\\_acc & result\\_count\\\\\n",
       " <chr> & <dbl> & <dbl> & <dbl> & <int>\\\\\n",
       "\\hline\n",
       "\t Fish\\_erp\\_raw\\_gap\\_005 & 5 & 0.34 & 0.2185294 & 50\\\\\n",
       "\\end{tabular}\n"
      ],
      "text/markdown": [
       "\n",
       "A data.table: 1 × 5\n",
       "\n",
       "| approach &lt;chr&gt; | k &lt;dbl&gt; | avg_acc &lt;dbl&gt; | sdev_acc &lt;dbl&gt; | result_count &lt;int&gt; |\n",
       "|---|---|---|---|---|\n",
       "| Fish_erp_raw_gap_005 | 5 | 0.34 | 0.2185294 | 50 |\n",
       "\n"
      ],
      "text/plain": [
       "  approach             k avg_acc sdev_acc  result_count\n",
       "1 Fish_erp_raw_gap_005 5 0.34    0.2185294 50          "
      ]
     },
     "metadata": {},
     "output_type": "display_data"
    }
   ],
   "source": [
    "overall_results=rbindlist(result)\n",
    "overall_results[,list(avg_acc=mean(acc),sdev_acc=sd(acc),result_count=.N),by=list(approach,k)]\n",
    "\n",
    "Fish_test <- overall_results[,list(avg_acc=mean(acc),sdev_acc=sd(acc),result_count=.N),by=list(approach,k)]\n"
   ]
  },
  {
   "cell_type": "markdown",
   "id": "967e2fa7-0328-4ddc-a7d5-48954ffbeca0",
   "metadata": {
    "tags": []
   },
   "source": [
    "## Plane"
   ]
  },
  {
   "cell_type": "code",
   "execution_count": 172,
   "id": "9d78ae3b-d585-4e83-b2e1-763b7c22f21b",
   "metadata": {},
   "outputs": [
    {
     "data": {
      "text/html": [
       "'C:/Users/brkmb/Desktop/kitaplar/IE48B/HW3/overall_summary'"
      ],
      "text/latex": [
       "'C:/Users/brkmb/Desktop/kitaplar/IE48B/HW3/overall\\_summary'"
      ],
      "text/markdown": [
       "'C:/Users/brkmb/Desktop/kitaplar/IE48B/HW3/overall_summary'"
      ],
      "text/plain": [
       "[1] \"C:/Users/brkmb/Desktop/kitaplar/IE48B/HW3/overall_summary\""
      ]
     },
     "metadata": {},
     "output_type": "display_data"
    }
   ],
   "source": [
    "current_folder=getwd()\n",
    "result_path <- sprintf('%s/overall_summary',current_folder)\n",
    "result_path\n",
    "summary_files <- list.files(result_path)"
   ]
  },
  {
   "cell_type": "code",
   "execution_count": 177,
   "id": "7c13bb23-5717-40d2-99ce-09344d97ba98",
   "metadata": {},
   "outputs": [
    {
     "data": {
      "text/html": [
       "<table class=\"dataframe\">\n",
       "<caption>A data.table: 6 × 5</caption>\n",
       "<thead>\n",
       "\t<tr><th scope=col>approach</th><th scope=col>k</th><th scope=col>avg_acc</th><th scope=col>sdev_acc</th><th scope=col>result_count</th></tr>\n",
       "\t<tr><th scope=col>&lt;chr&gt;</th><th scope=col>&lt;int&gt;</th><th scope=col>&lt;dbl&gt;</th><th scope=col>&lt;dbl&gt;</th><th scope=col>&lt;int&gt;</th></tr>\n",
       "</thead>\n",
       "<tbody>\n",
       "\t<tr><td>Plane_dtw_raw_dist.csv      </td><td>1</td><td>0.2054545</td><td>0.1396934</td><td>50</td></tr>\n",
       "\t<tr><td>Plane_dtw_raw_dist.csv      </td><td>3</td><td>0.2283636</td><td>0.1369085</td><td>50</td></tr>\n",
       "\t<tr><td>Plane_dtw_raw_dist.csv      </td><td>5</td><td>0.2318182</td><td>0.1646664</td><td>50</td></tr>\n",
       "\t<tr><td>Plane_dtw_raw_lasso_dist.csv</td><td>1</td><td>0.1930909</td><td>0.1135240</td><td>50</td></tr>\n",
       "\t<tr><td>Plane_dtw_raw_lasso_dist.csv</td><td>3</td><td>0.1969091</td><td>0.1260023</td><td>50</td></tr>\n",
       "\t<tr><td>Plane_dtw_raw_lasso_dist.csv</td><td>5</td><td>0.2081818</td><td>0.1136679</td><td>50</td></tr>\n",
       "</tbody>\n",
       "</table>\n"
      ],
      "text/latex": [
       "A data.table: 6 × 5\n",
       "\\begin{tabular}{lllll}\n",
       " approach & k & avg\\_acc & sdev\\_acc & result\\_count\\\\\n",
       " <chr> & <int> & <dbl> & <dbl> & <int>\\\\\n",
       "\\hline\n",
       "\t Plane\\_dtw\\_raw\\_dist.csv       & 1 & 0.2054545 & 0.1396934 & 50\\\\\n",
       "\t Plane\\_dtw\\_raw\\_dist.csv       & 3 & 0.2283636 & 0.1369085 & 50\\\\\n",
       "\t Plane\\_dtw\\_raw\\_dist.csv       & 5 & 0.2318182 & 0.1646664 & 50\\\\\n",
       "\t Plane\\_dtw\\_raw\\_lasso\\_dist.csv & 1 & 0.1930909 & 0.1135240 & 50\\\\\n",
       "\t Plane\\_dtw\\_raw\\_lasso\\_dist.csv & 3 & 0.1969091 & 0.1260023 & 50\\\\\n",
       "\t Plane\\_dtw\\_raw\\_lasso\\_dist.csv & 5 & 0.2081818 & 0.1136679 & 50\\\\\n",
       "\\end{tabular}\n"
      ],
      "text/markdown": [
       "\n",
       "A data.table: 6 × 5\n",
       "\n",
       "| approach &lt;chr&gt; | k &lt;int&gt; | avg_acc &lt;dbl&gt; | sdev_acc &lt;dbl&gt; | result_count &lt;int&gt; |\n",
       "|---|---|---|---|---|\n",
       "| Plane_dtw_raw_dist.csv       | 1 | 0.2054545 | 0.1396934 | 50 |\n",
       "| Plane_dtw_raw_dist.csv       | 3 | 0.2283636 | 0.1369085 | 50 |\n",
       "| Plane_dtw_raw_dist.csv       | 5 | 0.2318182 | 0.1646664 | 50 |\n",
       "| Plane_dtw_raw_lasso_dist.csv | 1 | 0.1930909 | 0.1135240 | 50 |\n",
       "| Plane_dtw_raw_lasso_dist.csv | 3 | 0.1969091 | 0.1260023 | 50 |\n",
       "| Plane_dtw_raw_lasso_dist.csv | 5 | 0.2081818 | 0.1136679 | 50 |\n",
       "\n"
      ],
      "text/plain": [
       "  approach                     k avg_acc   sdev_acc  result_count\n",
       "1 Plane_dtw_raw_dist.csv       1 0.2054545 0.1396934 50          \n",
       "2 Plane_dtw_raw_dist.csv       3 0.2283636 0.1369085 50          \n",
       "3 Plane_dtw_raw_dist.csv       5 0.2318182 0.1646664 50          \n",
       "4 Plane_dtw_raw_lasso_dist.csv 1 0.1930909 0.1135240 50          \n",
       "5 Plane_dtw_raw_lasso_dist.csv 3 0.1969091 0.1260023 50          \n",
       "6 Plane_dtw_raw_lasso_dist.csv 5 0.2081818 0.1136679 50          "
      ]
     },
     "metadata": {},
     "output_type": "display_data"
    }
   ],
   "source": [
    "result_file <- fread(sprintf('%s/overall_summary/%s',current_folder,summary_files[3]))\n",
    "head(result_file)"
   ]
  },
  {
   "cell_type": "code",
   "execution_count": 178,
   "id": "b27d5841-4fc6-4411-b436-edf21ab872cb",
   "metadata": {},
   "outputs": [
    {
     "data": {
      "text/html": [
       "<table class=\"dataframe\">\n",
       "<caption>A data.table: 1 × 5</caption>\n",
       "<thead>\n",
       "\t<tr><th scope=col>approach</th><th scope=col>k</th><th scope=col>avg_acc</th><th scope=col>sdev_acc</th><th scope=col>result_count</th></tr>\n",
       "\t<tr><th scope=col>&lt;chr&gt;</th><th scope=col>&lt;int&gt;</th><th scope=col>&lt;dbl&gt;</th><th scope=col>&lt;dbl&gt;</th><th scope=col>&lt;int&gt;</th></tr>\n",
       "</thead>\n",
       "<tbody>\n",
       "\t<tr><td>Plane_erp_raw_gap_005.csv</td><td>1</td><td>0.2363636</td><td>0.1213991</td><td>50</td></tr>\n",
       "</tbody>\n",
       "</table>\n"
      ],
      "text/latex": [
       "A data.table: 1 × 5\n",
       "\\begin{tabular}{lllll}\n",
       " approach & k & avg\\_acc & sdev\\_acc & result\\_count\\\\\n",
       " <chr> & <int> & <dbl> & <dbl> & <int>\\\\\n",
       "\\hline\n",
       "\t Plane\\_erp\\_raw\\_gap\\_005.csv & 1 & 0.2363636 & 0.1213991 & 50\\\\\n",
       "\\end{tabular}\n"
      ],
      "text/markdown": [
       "\n",
       "A data.table: 1 × 5\n",
       "\n",
       "| approach &lt;chr&gt; | k &lt;int&gt; | avg_acc &lt;dbl&gt; | sdev_acc &lt;dbl&gt; | result_count &lt;int&gt; |\n",
       "|---|---|---|---|---|\n",
       "| Plane_erp_raw_gap_005.csv | 1 | 0.2363636 | 0.1213991 | 50 |\n",
       "\n"
      ],
      "text/plain": [
       "  approach                  k avg_acc   sdev_acc  result_count\n",
       "1 Plane_erp_raw_gap_005.csv 1 0.2363636 0.1213991 50          "
      ]
     },
     "metadata": {},
     "output_type": "display_data"
    }
   ],
   "source": [
    "result_file[which.max(result_file$avg_acc)]"
   ]
  },
  {
   "cell_type": "code",
   "execution_count": 179,
   "id": "d7445f07-dc9e-4bff-b628-2a86b63be223",
   "metadata": {
    "tags": []
   },
   "outputs": [],
   "source": [
    "# assuming you have the data folder in your working directory in the following format:\n",
    "# 'working_directory/ClassificationData/dataset_name/'\n",
    "current_folder=getwd()\n",
    "dataset='Plane'\n",
    "main_path=sprintf('%s/ClassificationData/%s/%s',current_folder,dataset,dataset)\n",
    "\n",
    "dist_path=sprintf('%s/ClassificationData/%s/distances/%s',current_folder,dataset,dataset)\n",
    "\n",
    "train_data_path=sprintf('%s_TRAIN.txt',main_path)\n",
    "traindata=as.matrix(fread(train_data_path))\n",
    "traindata_rep = fread(train_data_path) ## for representations, class data needs to be hold.\n",
    "\n",
    "test_data_path=sprintf('%s_TEST.txt',main_path)\n",
    "testdata=as.matrix(fread(test_data_path))\n",
    "testdata_rep = fread(test_data_path)\n",
    "#first column is the class variable\n",
    "trainclass=traindata[,1] # takes -1 and 1\n",
    "testclass=testdata[,1] # takes -1 and 1\n",
    "\n",
    "#drop first column\n",
    "traindata=traindata[,2:ncol(traindata)]\n",
    "testdata=testdata[,2:ncol(testdata)]\n",
    "\n",
    "# instance characteristics\n",
    "tlength=ncol(traindata)\n",
    "n_series_train=nrow(traindata)\n",
    "n_series_test=nrow(testdata)"
   ]
  },
  {
   "cell_type": "code",
   "execution_count": 180,
   "id": "03632d07-24c5-4585-88ec-e98d232a0e62",
   "metadata": {},
   "outputs": [
    {
     "data": {
      "text/html": [
       "<table class=\"dataframe\">\n",
       "<caption>A matrix: 6 × 105 of type dbl</caption>\n",
       "<thead>\n",
       "\t<tr><th></th><th scope=col>1</th><th scope=col>2</th><th scope=col>3</th><th scope=col>4</th><th scope=col>5</th><th scope=col>6</th><th scope=col>7</th><th scope=col>8</th><th scope=col>9</th><th scope=col>10</th><th scope=col>...</th><th scope=col>96</th><th scope=col>97</th><th scope=col>98</th><th scope=col>99</th><th scope=col>100</th><th scope=col>101</th><th scope=col>102</th><th scope=col>103</th><th scope=col>104</th><th scope=col>105</th></tr>\n",
       "</thead>\n",
       "<tbody>\n",
       "\t<tr><th scope=row>1</th><td>10000.00000</td><td>   36.59676</td><td>   34.94862</td><td>   68.87180</td><td>   31.47556</td><td>   61.30967</td><td>31.23078</td><td>29.55560</td><td>63.70924</td><td>31.92770</td><td>...</td><td>66.36585</td><td>37.50739</td><td>35.71251</td><td>31.60123</td><td>68.41949</td><td>66.77601</td><td>27.32364</td><td>61.71513</td><td>61.89477</td><td>38.24219</td></tr>\n",
       "\t<tr><th scope=row>2</th><td>   36.59676</td><td>10000.00000</td><td>   37.49889</td><td>   74.25690</td><td>   29.94068</td><td>   52.39039</td><td>38.78204</td><td>29.39735</td><td>52.74171</td><td>41.72082</td><td>...</td><td>69.16672</td><td>17.71720</td><td>13.30515</td><td>35.48411</td><td>70.48359</td><td>69.83359</td><td>37.40572</td><td>50.74881</td><td>69.42518</td><td>44.23802</td></tr>\n",
       "\t<tr><th scope=row>3</th><td>   34.94862</td><td>   37.49889</td><td>10000.00000</td><td>   83.56188</td><td>   34.26557</td><td>   50.37123</td><td>18.81804</td><td>35.75646</td><td>52.07760</td><td>21.48607</td><td>...</td><td>80.76781</td><td>34.27051</td><td>32.19023</td><td>14.69735</td><td>83.05472</td><td>80.76318</td><td>23.03812</td><td>49.13097</td><td>77.13465</td><td>44.25985</td></tr>\n",
       "\t<tr><th scope=row>4</th><td>   68.87180</td><td>   74.25690</td><td>   83.56188</td><td>10000.00000</td><td>   68.80185</td><td>   89.88894</td><td>85.99519</td><td>68.25810</td><td>90.31544</td><td>84.62525</td><td>...</td><td>18.18438</td><td>77.16138</td><td>76.31238</td><td>81.08344</td><td>18.87280</td><td>16.90053</td><td>81.59709</td><td>90.20654</td><td>19.09714</td><td>78.14921</td></tr>\n",
       "\t<tr><th scope=row>5</th><td>   31.47556</td><td>   29.94068</td><td>   34.26557</td><td>   68.80185</td><td>10000.00000</td><td>   57.39139</td><td>36.02060</td><td>11.14709</td><td>57.38708</td><td>39.49252</td><td>...</td><td>62.40665</td><td>27.52314</td><td>25.62572</td><td>32.67941</td><td>66.39454</td><td>63.97857</td><td>34.83507</td><td>57.43031</td><td>58.99004</td><td>50.23150</td></tr>\n",
       "\t<tr><th scope=row>6</th><td>   61.30967</td><td>   52.39039</td><td>   50.37123</td><td>   89.88894</td><td>   57.39139</td><td>10000.00000</td><td>54.63032</td><td>59.40209</td><td>14.68855</td><td>54.18470</td><td>...</td><td>88.28876</td><td>52.21030</td><td>52.91752</td><td>50.06855</td><td>89.42089</td><td>88.62063</td><td>58.20211</td><td>11.51988</td><td>88.56126</td><td>44.45007</td></tr>\n",
       "</tbody>\n",
       "</table>\n"
      ],
      "text/latex": [
       "A matrix: 6 × 105 of type dbl\n",
       "\\begin{tabular}{r|lllllllllllllllllllll}\n",
       "  & 1 & 2 & 3 & 4 & 5 & 6 & 7 & 8 & 9 & 10 & ... & 96 & 97 & 98 & 99 & 100 & 101 & 102 & 103 & 104 & 105\\\\\n",
       "\\hline\n",
       "\t1 & 10000.00000 &    36.59676 &    34.94862 &    68.87180 &    31.47556 &    61.30967 & 31.23078 & 29.55560 & 63.70924 & 31.92770 & ... & 66.36585 & 37.50739 & 35.71251 & 31.60123 & 68.41949 & 66.77601 & 27.32364 & 61.71513 & 61.89477 & 38.24219\\\\\n",
       "\t2 &    36.59676 & 10000.00000 &    37.49889 &    74.25690 &    29.94068 &    52.39039 & 38.78204 & 29.39735 & 52.74171 & 41.72082 & ... & 69.16672 & 17.71720 & 13.30515 & 35.48411 & 70.48359 & 69.83359 & 37.40572 & 50.74881 & 69.42518 & 44.23802\\\\\n",
       "\t3 &    34.94862 &    37.49889 & 10000.00000 &    83.56188 &    34.26557 &    50.37123 & 18.81804 & 35.75646 & 52.07760 & 21.48607 & ... & 80.76781 & 34.27051 & 32.19023 & 14.69735 & 83.05472 & 80.76318 & 23.03812 & 49.13097 & 77.13465 & 44.25985\\\\\n",
       "\t4 &    68.87180 &    74.25690 &    83.56188 & 10000.00000 &    68.80185 &    89.88894 & 85.99519 & 68.25810 & 90.31544 & 84.62525 & ... & 18.18438 & 77.16138 & 76.31238 & 81.08344 & 18.87280 & 16.90053 & 81.59709 & 90.20654 & 19.09714 & 78.14921\\\\\n",
       "\t5 &    31.47556 &    29.94068 &    34.26557 &    68.80185 & 10000.00000 &    57.39139 & 36.02060 & 11.14709 & 57.38708 & 39.49252 & ... & 62.40665 & 27.52314 & 25.62572 & 32.67941 & 66.39454 & 63.97857 & 34.83507 & 57.43031 & 58.99004 & 50.23150\\\\\n",
       "\t6 &    61.30967 &    52.39039 &    50.37123 &    89.88894 &    57.39139 & 10000.00000 & 54.63032 & 59.40209 & 14.68855 & 54.18470 & ... & 88.28876 & 52.21030 & 52.91752 & 50.06855 & 89.42089 & 88.62063 & 58.20211 & 11.51988 & 88.56126 & 44.45007\\\\\n",
       "\\end{tabular}\n"
      ],
      "text/markdown": [
       "\n",
       "A matrix: 6 × 105 of type dbl\n",
       "\n",
       "| <!--/--> | 1 | 2 | 3 | 4 | 5 | 6 | 7 | 8 | 9 | 10 | ... | 96 | 97 | 98 | 99 | 100 | 101 | 102 | 103 | 104 | 105 |\n",
       "|---|---|---|---|---|---|---|---|---|---|---|---|---|---|---|---|---|---|---|---|---|---|\n",
       "| 1 | 10000.00000 |    36.59676 |    34.94862 |    68.87180 |    31.47556 |    61.30967 | 31.23078 | 29.55560 | 63.70924 | 31.92770 | ... | 66.36585 | 37.50739 | 35.71251 | 31.60123 | 68.41949 | 66.77601 | 27.32364 | 61.71513 | 61.89477 | 38.24219 |\n",
       "| 2 |    36.59676 | 10000.00000 |    37.49889 |    74.25690 |    29.94068 |    52.39039 | 38.78204 | 29.39735 | 52.74171 | 41.72082 | ... | 69.16672 | 17.71720 | 13.30515 | 35.48411 | 70.48359 | 69.83359 | 37.40572 | 50.74881 | 69.42518 | 44.23802 |\n",
       "| 3 |    34.94862 |    37.49889 | 10000.00000 |    83.56188 |    34.26557 |    50.37123 | 18.81804 | 35.75646 | 52.07760 | 21.48607 | ... | 80.76781 | 34.27051 | 32.19023 | 14.69735 | 83.05472 | 80.76318 | 23.03812 | 49.13097 | 77.13465 | 44.25985 |\n",
       "| 4 |    68.87180 |    74.25690 |    83.56188 | 10000.00000 |    68.80185 |    89.88894 | 85.99519 | 68.25810 | 90.31544 | 84.62525 | ... | 18.18438 | 77.16138 | 76.31238 | 81.08344 | 18.87280 | 16.90053 | 81.59709 | 90.20654 | 19.09714 | 78.14921 |\n",
       "| 5 |    31.47556 |    29.94068 |    34.26557 |    68.80185 | 10000.00000 |    57.39139 | 36.02060 | 11.14709 | 57.38708 | 39.49252 | ... | 62.40665 | 27.52314 | 25.62572 | 32.67941 | 66.39454 | 63.97857 | 34.83507 | 57.43031 | 58.99004 | 50.23150 |\n",
       "| 6 |    61.30967 |    52.39039 |    50.37123 |    89.88894 |    57.39139 | 10000.00000 | 54.63032 | 59.40209 | 14.68855 | 54.18470 | ... | 88.28876 | 52.21030 | 52.91752 | 50.06855 | 89.42089 | 88.62063 | 58.20211 | 11.51988 | 88.56126 | 44.45007 |\n",
       "\n"
      ],
      "text/plain": [
       "  1           2           3           4           5           6          \n",
       "1 10000.00000    36.59676    34.94862    68.87180    31.47556    61.30967\n",
       "2    36.59676 10000.00000    37.49889    74.25690    29.94068    52.39039\n",
       "3    34.94862    37.49889 10000.00000    83.56188    34.26557    50.37123\n",
       "4    68.87180    74.25690    83.56188 10000.00000    68.80185    89.88894\n",
       "5    31.47556    29.94068    34.26557    68.80185 10000.00000    57.39139\n",
       "6    61.30967    52.39039    50.37123    89.88894    57.39139 10000.00000\n",
       "  7        8        9        10       ... 96       97       98       99      \n",
       "1 31.23078 29.55560 63.70924 31.92770 ... 66.36585 37.50739 35.71251 31.60123\n",
       "2 38.78204 29.39735 52.74171 41.72082 ... 69.16672 17.71720 13.30515 35.48411\n",
       "3 18.81804 35.75646 52.07760 21.48607 ... 80.76781 34.27051 32.19023 14.69735\n",
       "4 85.99519 68.25810 90.31544 84.62525 ... 18.18438 77.16138 76.31238 81.08344\n",
       "5 36.02060 11.14709 57.38708 39.49252 ... 62.40665 27.52314 25.62572 32.67941\n",
       "6 54.63032 59.40209 14.68855 54.18470 ... 88.28876 52.21030 52.91752 50.06855\n",
       "  100      101      102      103      104      105     \n",
       "1 68.41949 66.77601 27.32364 61.71513 61.89477 38.24219\n",
       "2 70.48359 69.83359 37.40572 50.74881 69.42518 44.23802\n",
       "3 83.05472 80.76318 23.03812 49.13097 77.13465 44.25985\n",
       "4 18.87280 16.90053 81.59709 90.20654 19.09714 78.14921\n",
       "5 66.39454 63.97857 34.83507 57.43031 58.99004 50.23150\n",
       "6 89.42089 88.62063 58.20211 11.51988 88.56126 44.45007"
      ]
     },
     "metadata": {},
     "output_type": "display_data"
    }
   ],
   "source": [
    "# ERP \n",
    "dist_erp=TSDatabaseDistances(testdata,distance='erp',g=0.5)\n",
    "dist_erp=as.matrix(dist_erp)\n",
    "diag(dist_erp)=large_number\n",
    "\n",
    "head(dist_erp)\n",
    "  "
   ]
  },
  {
   "cell_type": "code",
   "execution_count": 181,
   "id": "ae50d261-03c2-4858-a000-ad75f1268ff9",
   "metadata": {
    "scrolled": true,
    "tags": []
   },
   "outputs": [
    {
     "name": "stdout",
     "output_type": "stream",
     "text": [
      "List of 5\n",
      " $ Run  1:List of 10\n",
      "  ..$ Fold  1 : int [1:11] 1 19 28 50 76 100 77 48 5 6 ...\n",
      "  ..$ Fold  2 : int [1:11] 49 27 58 10 85 30 4 21 61 41 ...\n",
      "  ..$ Fold  3 : int [1:11] 26 70 62 57 47 104 25 81 67 64 ...\n",
      "  ..$ Fold  4 : int [1:11] 32 72 97 55 29 35 54 79 14 17 ...\n",
      "  ..$ Fold  5 : int [1:11] 46 89 87 3 71 65 84 42 90 22 ...\n",
      "  ..$ Fold  6 : int [1:10] 13 94 66 86 73 16 11 51 33 105\n",
      "  ..$ Fold  7 : int [1:10] 40 24 23 12 36 101 80 8 9 82\n",
      "  ..$ Fold  8 : int [1:10] 56 98 99 15 91 45 43 60 103 20\n",
      "  ..$ Fold  9 : int [1:10] 44 93 68 7 59 63 74 95 18 92\n",
      "  ..$ Fold  10: int [1:10] 53 2 102 37 31 96 75 39 38 69\n",
      " $ Run  2:List of 10\n",
      "  ..$ Fold  1 : int [1:11] 19 1 58 102 71 59 101 5 42 33 ...\n",
      "  ..$ Fold  2 : int [1:11] 27 49 24 57 91 25 84 39 41 22 ...\n",
      "  ..$ Fold  3 : int [1:11] 46 98 72 15 76 54 16 95 14 6 ...\n",
      "  ..$ Fold  4 : int [1:11] 26 28 23 68 50 100 77 75 18 103 ...\n",
      "  ..$ Fold  5 : int [1:11] 40 2 66 55 73 31 63 60 64 17 ...\n",
      "  ..$ Fold  6 : int [1:10] 44 89 93 10 3 96 43 51 38 20\n",
      "  ..$ Fold  7 : int [1:10] 56 62 70 29 85 4 79 74 67 52\n",
      "  ..$ Fold  8 : int [1:10] 32 94 47 12 99 35 81 11 9 83\n",
      "  ..$ Fold  9 : int [1:10] 13 87 37 86 30 45 80 48 90 34\n",
      "  ..$ Fold  10: int [1:10] 53 97 7 36 65 104 8 21 61 105\n",
      " $ Run  3:List of 10\n",
      "  ..$ Fold  1 : int [1:11] 56 26 98 10 3 16 45 80 11 64 ...\n",
      "  ..$ Fold  2 : int [1:11] 46 13 66 76 36 54 84 74 18 6 ...\n",
      "  ..$ Fold  3 : int [1:11] 53 28 62 50 55 31 25 39 103 41 ...\n",
      "  ..$ Fold  4 : int [1:11] 49 97 2 68 102 59 4 21 38 33 ...\n",
      "  ..$ Fold  5 : int [1:11] 19 93 87 57 86 35 30 48 61 90 ...\n",
      "  ..$ Fold  6 : int [1:10] 27 89 70 71 73 63 81 79 14 52\n",
      "  ..$ Fold  7 : int [1:10] 44 72 58 12 99 96 8 42 17 20\n",
      "  ..$ Fold  8 : int [1:10] 1 23 85 91 29 100 43 60 22 83\n",
      "  ..$ Fold  9 : int [1:10] 40 94 37 7 77 101 95 5 67 92\n",
      "  ..$ Fold  10: int [1:10] 32 24 47 15 104 65 75 51 9 82\n",
      " $ Run  4:List of 10\n",
      "  ..$ Fold  1 : int [1:11] 19 40 62 37 76 100 104 51 5 6 ...\n",
      "  ..$ Fold  2 : int [1:11] 46 1 28 71 47 35 45 42 9 67 ...\n",
      "  ..$ Fold  3 : int [1:11] 26 87 2 85 57 77 96 60 18 38 ...\n",
      "  ..$ Fold  4 : int [1:11] 53 72 66 50 3 30 65 21 61 17 ...\n",
      "  ..$ Fold  5 : int [1:11] 44 94 98 36 73 59 63 39 14 33 ...\n",
      "  ..$ Fold  6 : int [1:10] 13 58 70 68 99 84 74 75 22 82\n",
      "  ..$ Fold  7 : int [1:10] 49 93 23 91 86 4 80 11 103 34\n",
      "  ..$ Fold  8 : int [1:10] 32 97 15 12 55 31 48 81 41 69\n",
      "  ..$ Fold  9 : int [1:10] 56 89 10 102 54 16 79 8 90 20\n",
      "  ..$ Fold  10: int [1:10] 27 24 7 29 25 101 95 43 64 92\n",
      " $ Run  5:List of 10\n",
      "  ..$ Fold  1 : int [1:11] 26 13 98 50 15 45 30 95 8 67 ...\n",
      "  ..$ Fold  2 : int [1:11] 56 46 94 102 71 16 4 75 14 64 ...\n",
      "  ..$ Fold  3 : int [1:11] 53 58 62 85 29 84 35 51 17 61 ...\n",
      "  ..$ Fold  4 : int [1:11] 40 97 66 91 12 63 77 80 90 6 ...\n",
      "  ..$ Fold  5 : int [1:11] 44 89 93 86 99 59 54 48 103 41 ...\n",
      "  ..$ Fold  6 : int [1:10] 32 24 72 36 57 101 5 39 18 20\n",
      "  ..$ Fold  7 : int [1:10] 49 87 2 3 68 96 60 74 22 105\n",
      "  ..$ Fold  8 : int [1:10] 27 70 47 73 76 31 79 43 33 92\n",
      "  ..$ Fold  9 : int [1:10] 19 28 7 10 65 104 11 21 38 88\n",
      "  ..$ Fold  10: int [1:10] 1 23 55 37 25 100 42 81 9 52\n"
     ]
    }
   ],
   "source": [
    "# cv indices start here\n",
    "require(TunePareto)\n",
    "\n",
    "set.seed(15011998)\n",
    "nof_rep=5\n",
    "n_fold=10\n",
    "cv_indices=generateCVRuns(testclass, ntimes =nof_rep, nfold = n_fold, \n",
    "                          leaveOneOut = FALSE, stratified = TRUE)\n",
    "\n",
    "str(cv_indices)\n",
    "\n"
   ]
  },
  {
   "cell_type": "code",
   "execution_count": 182,
   "id": "88148b06-3805-4e41-a8a9-3bcc3b4dd818",
   "metadata": {},
   "outputs": [],
   "source": [
    "k_levels=c(5)\n",
    "result=vector('list',1*nof_rep*n_fold*length(k_levels))\n",
    "iter=1\n",
    "dist_mat=as.matrix(dist_erp)\n",
    "    for(i in 1:nof_rep){\n",
    "        this_fold=cv_indices[[i]]\n",
    "        for(j in 1:n_fold){\n",
    "            test_indices=this_fold[[j]]\n",
    "            for(k in 1:length(k_levels)){\n",
    "                current_k=k_levels[k]\n",
    "                current_fold=nn_classify_cv(dist_mat,testclass,test_indices,k=current_k)\n",
    "                accuracy=sum(testclass[test_indices]==current_fold$prediction$predicted)/length(test_indices)\n",
    "                tmp=data.table(approach='Plane_erp_raw_gap_005',repid=i,foldid=j,\n",
    "                               k=current_k,acc=accuracy)\n",
    "                result[[iter]]=tmp\n",
    "                iter=iter+1\n",
    "                \n",
    "            }\n",
    "            \n",
    "        }\n",
    "    \n",
    "    }   \n",
    "    \n"
   ]
  },
  {
   "cell_type": "code",
   "execution_count": 183,
   "id": "e8a6c0f9-35a8-4ca7-9991-52da60847bfc",
   "metadata": {},
   "outputs": [
    {
     "data": {
      "text/html": [
       "<table class=\"dataframe\">\n",
       "<caption>A data.table: 1 × 5</caption>\n",
       "<thead>\n",
       "\t<tr><th scope=col>approach</th><th scope=col>k</th><th scope=col>avg_acc</th><th scope=col>sdev_acc</th><th scope=col>result_count</th></tr>\n",
       "\t<tr><th scope=col>&lt;chr&gt;</th><th scope=col>&lt;dbl&gt;</th><th scope=col>&lt;dbl&gt;</th><th scope=col>&lt;dbl&gt;</th><th scope=col>&lt;int&gt;</th></tr>\n",
       "</thead>\n",
       "<tbody>\n",
       "\t<tr><td>Plane_erp_raw_gap_005</td><td>5</td><td>0.2298182</td><td>0.1851553</td><td>50</td></tr>\n",
       "</tbody>\n",
       "</table>\n"
      ],
      "text/latex": [
       "A data.table: 1 × 5\n",
       "\\begin{tabular}{lllll}\n",
       " approach & k & avg\\_acc & sdev\\_acc & result\\_count\\\\\n",
       " <chr> & <dbl> & <dbl> & <dbl> & <int>\\\\\n",
       "\\hline\n",
       "\t Plane\\_erp\\_raw\\_gap\\_005 & 5 & 0.2298182 & 0.1851553 & 50\\\\\n",
       "\\end{tabular}\n"
      ],
      "text/markdown": [
       "\n",
       "A data.table: 1 × 5\n",
       "\n",
       "| approach &lt;chr&gt; | k &lt;dbl&gt; | avg_acc &lt;dbl&gt; | sdev_acc &lt;dbl&gt; | result_count &lt;int&gt; |\n",
       "|---|---|---|---|---|\n",
       "| Plane_erp_raw_gap_005 | 5 | 0.2298182 | 0.1851553 | 50 |\n",
       "\n"
      ],
      "text/plain": [
       "  approach              k avg_acc   sdev_acc  result_count\n",
       "1 Plane_erp_raw_gap_005 5 0.2298182 0.1851553 50          "
      ]
     },
     "metadata": {},
     "output_type": "display_data"
    }
   ],
   "source": [
    "overall_results=rbindlist(result)\n",
    "overall_results[,list(avg_acc=mean(acc),sdev_acc=sd(acc),result_count=.N),by=list(approach,k)]\n",
    "\n",
    "plane_test <- overall_results[,list(avg_acc=mean(acc),sdev_acc=sd(acc),result_count=.N),by=list(approach,k)]\n"
   ]
  },
  {
   "cell_type": "markdown",
   "id": "8d7ffd54-6c68-40e4-9e0a-be8215e2582b",
   "metadata": {
    "tags": []
   },
   "source": [
    "## Comparing Test Results"
   ]
  },
  {
   "cell_type": "code",
   "execution_count": 194,
   "id": "d55fcc8f-5152-4eaa-8b79-dfd2cb0639f4",
   "metadata": {},
   "outputs": [
    {
     "data": {
      "text/html": [
       "<table class=\"dataframe\">\n",
       "<caption>A data.table: 5 × 4</caption>\n",
       "<thead>\n",
       "\t<tr><th scope=col>approach</th><th scope=col>k</th><th scope=col>avg_acc</th><th scope=col>sdev_acc</th></tr>\n",
       "\t<tr><th scope=col>&lt;chr&gt;</th><th scope=col>&lt;dbl&gt;</th><th scope=col>&lt;dbl&gt;</th><th scope=col>&lt;dbl&gt;</th></tr>\n",
       "</thead>\n",
       "<tbody>\n",
       "\t<tr><td>Trace_lcss_raw_epsilon_005</td><td>5</td><td>0.2160000</td><td>0.12013598</td></tr>\n",
       "\t<tr><td>Plane_erp_raw_gap_005     </td><td>5</td><td>0.2298182</td><td>0.18515528</td></tr>\n",
       "\t<tr><td>Fish_erp_raw_gap_005      </td><td>5</td><td>0.3400000</td><td>0.21852941</td></tr>\n",
       "\t<tr><td>ECG200_euc_raw_lasso_dist </td><td>5</td><td>0.5340000</td><td>0.13187811</td></tr>\n",
       "\t<tr><td>PowerCons_euc_raw_dist    </td><td>5</td><td>0.8533333</td><td>0.08381193</td></tr>\n",
       "</tbody>\n",
       "</table>\n"
      ],
      "text/latex": [
       "A data.table: 5 × 4\n",
       "\\begin{tabular}{llll}\n",
       " approach & k & avg\\_acc & sdev\\_acc\\\\\n",
       " <chr> & <dbl> & <dbl> & <dbl>\\\\\n",
       "\\hline\n",
       "\t Trace\\_lcss\\_raw\\_epsilon\\_005 & 5 & 0.2160000 & 0.12013598\\\\\n",
       "\t Plane\\_erp\\_raw\\_gap\\_005      & 5 & 0.2298182 & 0.18515528\\\\\n",
       "\t Fish\\_erp\\_raw\\_gap\\_005       & 5 & 0.3400000 & 0.21852941\\\\\n",
       "\t ECG200\\_euc\\_raw\\_lasso\\_dist  & 5 & 0.5340000 & 0.13187811\\\\\n",
       "\t PowerCons\\_euc\\_raw\\_dist     & 5 & 0.8533333 & 0.08381193\\\\\n",
       "\\end{tabular}\n"
      ],
      "text/markdown": [
       "\n",
       "A data.table: 5 × 4\n",
       "\n",
       "| approach &lt;chr&gt; | k &lt;dbl&gt; | avg_acc &lt;dbl&gt; | sdev_acc &lt;dbl&gt; |\n",
       "|---|---|---|---|\n",
       "| Trace_lcss_raw_epsilon_005 | 5 | 0.2160000 | 0.12013598 |\n",
       "| Plane_erp_raw_gap_005      | 5 | 0.2298182 | 0.18515528 |\n",
       "| Fish_erp_raw_gap_005       | 5 | 0.3400000 | 0.21852941 |\n",
       "| ECG200_euc_raw_lasso_dist  | 5 | 0.5340000 | 0.13187811 |\n",
       "| PowerCons_euc_raw_dist     | 5 | 0.8533333 | 0.08381193 |\n",
       "\n"
      ],
      "text/plain": [
       "  approach                   k avg_acc   sdev_acc  \n",
       "1 Trace_lcss_raw_epsilon_005 5 0.2160000 0.12013598\n",
       "2 Plane_erp_raw_gap_005      5 0.2298182 0.18515528\n",
       "3 Fish_erp_raw_gap_005       5 0.3400000 0.21852941\n",
       "4 ECG200_euc_raw_lasso_dist  5 0.5340000 0.13187811\n",
       "5 PowerCons_euc_raw_dist     5 0.8533333 0.08381193"
      ]
     },
     "metadata": {},
     "output_type": "display_data"
    }
   ],
   "source": [
    "whole_test_results <- rbind(Trace_test,Fish_test,ECG200_test,powercon_test,plane_test, colnames = TRUE, fill = TRUE)\n",
    "whole_test_results <- whole_test_results[1:5,1:4]\n",
    "whole_test_results[order(avg_acc)]"
   ]
  },
  {
   "cell_type": "markdown",
   "id": "ece085db-5b3b-470b-acdc-dbc6d8bd4174",
   "metadata": {},
   "source": [
    "When we look at the test results, PowerCons dataset is the most accurate one. Its combination is also easy to apply comparing to other methods. \n",
    "Besides PowerCons and ECG200, we cannot find any good model for rest to give high accuracy predictions. "
   ]
  }
 ],
 "metadata": {
  "kernelspec": {
   "display_name": "R",
   "language": "R",
   "name": "ir"
  },
  "language_info": {
   "codemirror_mode": "r",
   "file_extension": ".r",
   "mimetype": "text/x-r-source",
   "name": "R",
   "pygments_lexer": "r",
   "version": "4.0.3"
  }
 },
 "nbformat": 4,
 "nbformat_minor": 5
}
